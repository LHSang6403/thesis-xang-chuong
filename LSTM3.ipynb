{
 "cells": [
  {
   "cell_type": "markdown",
   "metadata": {},
   "source": [
    "# Students:\n",
    "\n",
    "### Le Hoang Sang\n",
    "\n",
    "### Vu Dinh Chuong"
   ]
  },
  {
   "cell_type": "code",
   "execution_count": 197,
   "metadata": {
    "ExecuteTime": {
     "end_time": "2024-10-15T16:56:44.878280Z",
     "start_time": "2024-10-15T16:56:42.738227Z"
    }
   },
   "outputs": [],
   "source": [
    "import pandas as pd\n",
    "import numpy as np\n",
    "import matplotlib.pyplot as plt\n",
    "import torch\n",
    "from sklearn.preprocessing import MinMaxScaler\n",
    "from torch.utils.data import TensorDataset, DataLoader\n",
    "from sklearn.metrics import r2_score, mean_squared_error, mean_absolute_error\n",
    "from torch import nn\n",
    "import torch.optim as optim"
   ]
  },
  {
   "cell_type": "markdown",
   "metadata": {},
   "source": [
    "# CLean data"
   ]
  },
  {
   "cell_type": "code",
   "execution_count": 198,
   "metadata": {
    "ExecuteTime": {
     "end_time": "2024-10-15T16:56:44.890442Z",
     "start_time": "2024-10-15T16:56:44.887126Z"
    }
   },
   "outputs": [],
   "source": [
    "def clean_data(df):\n",
    "    print(\"Initial data information:\")\n",
    "    print(df.info())\n",
    "\n",
    "    # Remove unnecessary columns (if there are columns named 'Unnamed')\n",
    "    df = df.loc[:, ~df.columns.get_level_values(1).str.contains('^Unnamed')]\n",
    "\n",
    "    # Handle the 'timestamp' column (if present)\n",
    "    if ('timestamp', '') in df.columns:\n",
    "        # Convert to datetime format\n",
    "        df[('timestamp', '')] = pd.to_datetime(df[('timestamp', '')], errors='coerce')  \n",
    "        \n",
    "        # Remove rows with missing timestamp values\n",
    "        df = df.dropna(subset=[('timestamp', '')]) \n",
    "\n",
    "    # Fill missing values using forward fill and backward fill methods\n",
    "    df = df.fillna(method='ffill').fillna(method='bfill')\n",
    "\n",
    "    # Normalize 'close' values between 0 and 1 if present\n",
    "    if ('close', '') in df.columns:\n",
    "        df[('close', '')] = (df[('close', '')] - df[('close', '')].min()) / (df[('close', '')].max() - df[('close', '')].min())\n",
    "\n",
    "    # Print out the data after cleaning\n",
    "    print(\"Data after cleaning:\")\n",
    "    print(df.head())\n",
    "\n",
    "    return df\n"
   ]
  },
  {
   "cell_type": "markdown",
   "metadata": {},
   "source": [
    "# Create features"
   ]
  },
  {
   "cell_type": "code",
   "execution_count": 199,
   "metadata": {
    "ExecuteTime": {
     "end_time": "2024-10-15T16:56:44.897350Z",
     "start_time": "2024-10-15T16:56:44.893709Z"
    }
   },
   "outputs": [],
   "source": [
    "def create_features(df):\n",
    "    df_features = df.copy()\n",
    "\n",
    "    print(\"Column names in the DataFrame:\", df_features.columns)\n",
    "\n",
    "    # Define the symbol you want to work with (e.g., 'A', 'AAL', etc.)\n",
    "    symbol = 'A'\n",
    "\n",
    "    # Define the columns for the selected stock symbol\n",
    "    numeric_cols = [(symbol, 'open'), (symbol, 'high'), (symbol, 'low'), (symbol, 'close'), (symbol, 'volume')]\n",
    "\n",
    "    # Check if these columns exist in the DataFrame\n",
    "    existing_cols = [col for col in numeric_cols if col in df_features.columns]\n",
    "\n",
    "    if not existing_cols:\n",
    "        raise ValueError(\"Required numeric columns not found in the DataFrame.\")\n",
    "\n",
    "    # Convert the necessary columns to numeric type\n",
    "    df_features[existing_cols] = df_features[existing_cols].apply(pd.to_numeric, errors='coerce')\n",
    "\n",
    "    # Remove rows with NaN values after conversion\n",
    "    df_features = df_features.dropna()\n",
    "\n",
    "    # Create features if the necessary columns exist\n",
    "    if (symbol, 'close') in df_features.columns:\n",
    "        df_features[(symbol, 'return')] = df_features[(symbol, 'close')].pct_change()\n",
    "        df_features[(symbol, 'ma7')] = df_features[(symbol, 'close')].rolling(window=7).mean()\n",
    "        df_features[(symbol, 'ma21')] = df_features[(symbol, 'close')].rolling(window=21).mean()\n",
    "        df_features[(symbol, 'volatility')] = df_features[(symbol, 'close')].rolling(window=7).std()\n",
    "    \n",
    "    if (symbol, 'open') in df_features.columns and (symbol, 'close') in df_features.columns:\n",
    "        df_features[(symbol, 'open_close_ratio')] = df_features[(symbol, 'open')] / df_features[(symbol, 'close')]\n",
    "    \n",
    "    if (symbol, 'high') in df_features.columns and (symbol, 'low') in df_features.columns:\n",
    "        df_features[(symbol, 'high_low_ratio')] = df_features[(symbol, 'high')] / df_features[(symbol, 'low')]\n",
    "\n",
    "    # Remove rows with NaN values due to calculations\n",
    "    df_features = df_features.dropna()  \n",
    "\n",
    "    print(\"DataFrame with new features:\")\n",
    "    print(df_features.head())\n",
    "\n",
    "    return df_features"
   ]
  },
  {
   "cell_type": "markdown",
   "metadata": {},
   "source": [
    "# Plot data"
   ]
  },
  {
   "cell_type": "code",
   "execution_count": 200,
   "metadata": {
    "ExecuteTime": {
     "end_time": "2024-10-15T16:56:44.904955Z",
     "start_time": "2024-10-15T16:56:44.900795Z"
    }
   },
   "outputs": [],
   "source": [
    "def plot_features(df_features, symbol='A'):\n",
    "    # Ensure symbol exists in the DataFrame\n",
    "    if symbol not in df_features.columns.get_level_values(0):\n",
    "        raise ValueError(f\"Symbol '{symbol}' not found in DataFrame columns.\")\n",
    "\n",
    "    # Plot the 'close' price\n",
    "    plt.figure(figsize=(14, 7))\n",
    "    plt.plot(df_features.index, df_features[(symbol, 'close')], label=f'{symbol} Close Price', color='b')\n",
    "    plt.title(f'{symbol} Close Price Over Time')\n",
    "    plt.xlabel('Time')\n",
    "    plt.ylabel('Close Price')\n",
    "    plt.legend()\n",
    "    plt.show()\n",
    "\n",
    "    # Plot the 7-day and 21-day moving averages\n",
    "    plt.figure(figsize=(14, 7))\n",
    "    plt.plot(df_features.index, df_features[(symbol, 'ma7')], label=f'{symbol} MA7', color='g')\n",
    "    plt.plot(df_features.index, df_features[(symbol, 'ma21')], label=f'{symbol} MA21', color='r')\n",
    "    plt.title(f'{symbol} 7-day and 21-day Moving Averages')\n",
    "    plt.xlabel('Time')\n",
    "    plt.ylabel('Price')\n",
    "    plt.legend()\n",
    "    plt.show()\n",
    "\n",
    "    # Plot the volatility (7-day rolling standard deviation)\n",
    "    plt.figure(figsize=(14, 7))\n",
    "    plt.plot(df_features.index, df_features[(symbol, 'volatility')], label=f'{symbol} Volatility (7-day)', color='purple')\n",
    "    plt.title(f'{symbol} Volatility (7-day rolling std)')\n",
    "    plt.xlabel('Time')\n",
    "    plt.ylabel('Volatility')\n",
    "    plt.legend()\n",
    "    plt.show()\n",
    "\n",
    "    # Plot the open/close ratio\n",
    "    plt.figure(figsize=(14, 7))\n",
    "    plt.plot(df_features.index, df_features[(symbol, 'open_close_ratio')], label=f'{symbol} Open/Close Ratio', color='orange')\n",
    "    plt.title(f'{symbol} Open/Close Ratio Over Time')\n",
    "    plt.xlabel('Time')\n",
    "    plt.ylabel('Ratio')\n",
    "    plt.legend()\n",
    "    plt.show()\n",
    "\n",
    "    # Plot the high/low ratio\n",
    "    plt.figure(figsize=(14, 7))\n",
    "    plt.plot(df_features.index, df_features[(symbol, 'high_low_ratio')], label=f'{symbol} High/Low Ratio', color='brown')\n",
    "    plt.title(f'{symbol} High/Low Ratio Over Time')\n",
    "    plt.xlabel('Time')\n",
    "    plt.ylabel('Ratio')\n",
    "    plt.legend()\n",
    "    plt.show()"
   ]
  },
  {
   "cell_type": "markdown",
   "metadata": {},
   "source": [
    "# Run flow"
   ]
  },
  {
   "cell_type": "code",
   "execution_count": 201,
   "metadata": {
    "ExecuteTime": {
     "end_time": "2024-10-15T16:56:51.984918Z",
     "start_time": "2024-10-15T16:56:45.002538Z"
    }
   },
   "outputs": [],
   "source": [
    "df = pd.read_csv('./newfile.csv', index_col=0, header=[0, 1]).sort_index(axis=1)\n",
    "\n",
    "# Drop the 'Adj Close' column\n",
    "df.drop('Adj Close', axis=1, inplace=True)"
   ]
  },
  {
   "cell_type": "code",
   "execution_count": 202,
   "metadata": {
    "ExecuteTime": {
     "end_time": "2024-10-15T16:56:56.329892Z",
     "start_time": "2024-10-15T16:56:52.034649Z"
    }
   },
   "outputs": [
    {
     "name": "stdout",
     "output_type": "stream",
     "text": [
      "Initial data information:\n",
      "<class 'pandas.core.frame.DataFrame'>\n",
      "Index: 8371 entries, 2024-11-18 14:31:00+00:00 to 2024-12-18 16:52:00+00:00\n",
      "Data columns (total 5 columns):\n",
      " #   Column                      Non-Null Count  Dtype  \n",
      "---  ------                      --------------  -----  \n",
      " 0   (Close, 226.1999969482422)  8371 non-null   float64\n",
      " 1   (High, 226.41000366210932)  8371 non-null   float64\n",
      " 2   (Low, 225.17999267578125)   8371 non-null   float64\n",
      " 3   (Open, 225.1999969482422)   8371 non-null   float64\n",
      " 4   (Volume, 1331036.0)         8371 non-null   float64\n",
      "dtypes: float64(5)\n",
      "memory usage: 392.4+ KB\n",
      "None\n",
      "Data after cleaning:\n",
      "Date                                  Close               High  \\\n",
      "2024-11-18 14:30:00+00:00 226.1999969482422 226.41000366210932   \n",
      "2024-11-18 14:31:00+00:00        226.565994         226.639999   \n",
      "2024-11-18 14:32:00+00:00        226.679993         226.880005   \n",
      "2024-11-18 14:33:00+00:00        226.410004         226.820007   \n",
      "2024-11-18 14:34:00+00:00        226.490005         226.550003   \n",
      "2024-11-18 14:35:00+00:00        226.220001         226.550003   \n",
      "\n",
      "Date                                     Low              Open    Volume  \n",
      "2024-11-18 14:30:00+00:00 225.17999267578125 225.1999969482422 1331036.0  \n",
      "2024-11-18 14:31:00+00:00         226.020004        226.220001  276499.0  \n",
      "2024-11-18 14:32:00+00:00         226.430099        226.550003  191068.0  \n",
      "2024-11-18 14:33:00+00:00         226.110001        226.750000  206426.0  \n",
      "2024-11-18 14:34:00+00:00         226.240005        226.369995  131348.0  \n",
      "2024-11-18 14:35:00+00:00         226.220001        226.484695   99552.0  \n"
     ]
    },
    {
     "name": "stderr",
     "output_type": "stream",
     "text": [
      "C:\\Users\\LT MSI\\AppData\\Local\\Temp\\ipykernel_8708\\1215159712.py:17: FutureWarning: DataFrame.fillna with 'method' is deprecated and will raise in a future version. Use obj.ffill() or obj.bfill() instead.\n",
      "  df = df.fillna(method='ffill').fillna(method='bfill')\n"
     ]
    }
   ],
   "source": [
    "df_cleaned = clean_data(df)"
   ]
  },
  {
   "cell_type": "code",
   "execution_count": 203,
   "metadata": {
    "ExecuteTime": {
     "end_time": "2024-10-15T16:56:56.963596Z",
     "start_time": "2024-10-15T16:56:56.956213Z"
    }
   },
   "outputs": [],
   "source": [
    "# Split train from  11/09/2017 9:30 A.M. to 17/01/2018 11:50 A.M and test data  from 17/01/2018 11:51A.M. to 16/02/2018 03:59A.M\n",
    "train = df.loc['2024-11-18 14:30:00+00:00':'2024-12-12 19:40:00+00:00']\n",
    "test = df.loc['2024-12-12 19:41:00+00:00':'2024-12-18 16:52:00+00:00']"
   ]
  },
  {
   "cell_type": "code",
   "execution_count": 204,
   "metadata": {
    "ExecuteTime": {
     "end_time": "2024-10-15T16:56:57.023400Z",
     "start_time": "2024-10-15T16:56:56.988567Z"
    }
   },
   "outputs": [],
   "source": [
    "# Create sequences of data\n",
    "def create_sequences(data, seq_length):\n",
    "    X, y = [], []\n",
    "    for i in range(len(data) - seq_length):\n",
    "        X.append(data[i:i+seq_length])\n",
    "        y.append(data[i+seq_length])\n",
    "    return np.array(X), np.array(y)\n",
    "\n",
    "scaler = MinMaxScaler()\n",
    "train_scaled = scaler.fit_transform(train)\n",
    "test_scaled = scaler.transform(test)\n",
    "\n",
    "# Create sequences with a length of 100\n",
    "seq_length = 100\n",
    "X_train, y_train = create_sequences(train_scaled, seq_length)\n",
    "X_test, y_test = create_sequences(test_scaled, seq_length)\n",
    "\n",
    "# Create data loaders\n",
    "train_data = TensorDataset(torch.tensor(X_train).float(), torch.tensor(y_train).float())\n",
    "test_data = TensorDataset(torch.tensor(X_test).float(), torch.from_numpy(y_test).float())\n",
    "\n",
    "batch_size = 64\n",
    "train_loader = DataLoader(train_data, shuffle=True, batch_size=batch_size)\n",
    "test_loader = DataLoader(test_data, shuffle=False, batch_size=batch_size)"
   ]
  },
  {
   "cell_type": "code",
   "execution_count": 205,
   "metadata": {
    "ExecuteTime": {
     "end_time": "2024-10-15T16:56:57.062572Z",
     "start_time": "2024-10-15T16:56:57.056506Z"
    }
   },
   "outputs": [],
   "source": [
    "class VanillaLSTM(nn.Module):\n",
    "    def __init__(self, num_feature):\n",
    "        super(VanillaLSTM, self).__init__()\n",
    "        self.lstm  = nn.LSTM(num_feature,64,batch_first=True)\n",
    "        self.fc    = nn.Linear(64,num_feature)\n",
    "        \n",
    "    def forward(self, x):\n",
    "        output, (hidden, cell) = self.lstm(x)\n",
    "        x = self.fc(hidden)\n",
    "        return x\n",
    "\n",
    "model = VanillaLSTM(5)"
   ]
  },
  {
   "cell_type": "code",
   "execution_count": 206,
   "metadata": {
    "ExecuteTime": {
     "end_time": "2024-10-15T16:56:57.541857Z",
     "start_time": "2024-10-15T16:56:57.092407Z"
    }
   },
   "outputs": [],
   "source": [
    "# RMSE loss function\n",
    "class RMSELoss(nn.Module):\n",
    "    def __init__(self):\n",
    "        super().__init__()\n",
    "        self.mse = nn.MSELoss()\n",
    "        \n",
    "    def forward(self,yhat,y):\n",
    "        return torch.sqrt(self.mse(yhat,y))\n",
    "\n",
    "criterion = RMSELoss()\n",
    "optimizer = optim.Adam(model.parameters(), lr=0.01)"
   ]
  },
  {
   "cell_type": "code",
   "execution_count": 207,
   "metadata": {
    "ExecuteTime": {
     "end_time": "2024-10-15T16:56:57.603051Z",
     "start_time": "2024-10-15T16:56:57.600424Z"
    }
   },
   "outputs": [],
   "source": [
    "def train(dataloader):\n",
    "    epoch_loss = 0\n",
    "    model.train()  \n",
    "    \n",
    "    for batch in dataloader:\n",
    "        optimizer.zero_grad()          \n",
    "        x,y = batch\n",
    "        pred = model(x)\n",
    "        loss = criterion(pred[0],y)        \n",
    "        loss.backward()               \n",
    "        optimizer.step()      \n",
    "        epoch_loss += loss.item()  \n",
    "        \n",
    "    return epoch_loss"
   ]
  },
  {
   "cell_type": "code",
   "execution_count": 208,
   "metadata": {
    "ExecuteTime": {
     "end_time": "2024-10-15T16:56:57.632247Z",
     "start_time": "2024-10-15T16:56:57.630Z"
    }
   },
   "outputs": [],
   "source": [
    "def evaluate(dataloader):\n",
    "    epoch_loss = 0\n",
    "    model.eval()  \n",
    "    \n",
    "    with torch.no_grad():\n",
    "      for batch in dataloader:   \n",
    "          x,y= batch\n",
    "          pred = model(x)\n",
    "          loss = criterion(pred[0],y)              \n",
    "          epoch_loss += loss.item()  \n",
    "        \n",
    "    return epoch_loss / len(dataloader)"
   ]
  },
  {
   "cell_type": "code",
   "execution_count": 209,
   "metadata": {
    "ExecuteTime": {
     "end_time": "2024-10-15T17:06:03.148064Z",
     "start_time": "2024-10-15T16:56:57.659607Z"
    }
   },
   "outputs": [
    {
     "ename": "KeyboardInterrupt",
     "evalue": "",
     "output_type": "error",
     "traceback": [
      "\u001b[1;31m---------------------------------------------------------------------------\u001b[0m",
      "\u001b[1;31mKeyboardInterrupt\u001b[0m                         Traceback (most recent call last)",
      "Cell \u001b[1;32mIn[209], line 5\u001b[0m\n\u001b[0;32m      2\u001b[0m best_valid_loss \u001b[38;5;241m=\u001b[39m \u001b[38;5;28mfloat\u001b[39m(\u001b[38;5;124m'\u001b[39m\u001b[38;5;124minf\u001b[39m\u001b[38;5;124m'\u001b[39m)\n\u001b[0;32m      4\u001b[0m \u001b[38;5;28;01mfor\u001b[39;00m epoch \u001b[38;5;129;01min\u001b[39;00m \u001b[38;5;28mrange\u001b[39m(\u001b[38;5;241m1\u001b[39m, n_epochs \u001b[38;5;241m+\u001b[39m \u001b[38;5;241m1\u001b[39m):\n\u001b[1;32m----> 5\u001b[0m     train_loss \u001b[38;5;241m=\u001b[39m \u001b[43mtrain\u001b[49m\u001b[43m(\u001b[49m\u001b[43mtrain_loader\u001b[49m\u001b[43m)\u001b[49m\n\u001b[0;32m      6\u001b[0m     valid_loss \u001b[38;5;241m=\u001b[39m evaluate(test_loader)\n\u001b[0;32m      8\u001b[0m     \u001b[38;5;66;03m# Save the best model\u001b[39;00m\n",
      "Cell \u001b[1;32mIn[207], line 10\u001b[0m, in \u001b[0;36mtrain\u001b[1;34m(dataloader)\u001b[0m\n\u001b[0;32m      8\u001b[0m pred \u001b[38;5;241m=\u001b[39m model(x)\n\u001b[0;32m      9\u001b[0m loss \u001b[38;5;241m=\u001b[39m criterion(pred[\u001b[38;5;241m0\u001b[39m],y)        \n\u001b[1;32m---> 10\u001b[0m \u001b[43mloss\u001b[49m\u001b[38;5;241;43m.\u001b[39;49m\u001b[43mbackward\u001b[49m\u001b[43m(\u001b[49m\u001b[43m)\u001b[49m               \n\u001b[0;32m     11\u001b[0m optimizer\u001b[38;5;241m.\u001b[39mstep()      \n\u001b[0;32m     12\u001b[0m epoch_loss \u001b[38;5;241m+\u001b[39m\u001b[38;5;241m=\u001b[39m loss\u001b[38;5;241m.\u001b[39mitem()  \n",
      "File \u001b[1;32mc:\\Users\\LT MSI\\AppData\\Local\\Programs\\Python\\Python311\\Lib\\site-packages\\torch\\_tensor.py:492\u001b[0m, in \u001b[0;36mTensor.backward\u001b[1;34m(self, gradient, retain_graph, create_graph, inputs)\u001b[0m\n\u001b[0;32m    482\u001b[0m \u001b[38;5;28;01mif\u001b[39;00m has_torch_function_unary(\u001b[38;5;28mself\u001b[39m):\n\u001b[0;32m    483\u001b[0m     \u001b[38;5;28;01mreturn\u001b[39;00m handle_torch_function(\n\u001b[0;32m    484\u001b[0m         Tensor\u001b[38;5;241m.\u001b[39mbackward,\n\u001b[0;32m    485\u001b[0m         (\u001b[38;5;28mself\u001b[39m,),\n\u001b[1;32m   (...)\u001b[0m\n\u001b[0;32m    490\u001b[0m         inputs\u001b[38;5;241m=\u001b[39minputs,\n\u001b[0;32m    491\u001b[0m     )\n\u001b[1;32m--> 492\u001b[0m \u001b[43mtorch\u001b[49m\u001b[38;5;241;43m.\u001b[39;49m\u001b[43mautograd\u001b[49m\u001b[38;5;241;43m.\u001b[39;49m\u001b[43mbackward\u001b[49m\u001b[43m(\u001b[49m\n\u001b[0;32m    493\u001b[0m \u001b[43m    \u001b[49m\u001b[38;5;28;43mself\u001b[39;49m\u001b[43m,\u001b[49m\u001b[43m \u001b[49m\u001b[43mgradient\u001b[49m\u001b[43m,\u001b[49m\u001b[43m \u001b[49m\u001b[43mretain_graph\u001b[49m\u001b[43m,\u001b[49m\u001b[43m \u001b[49m\u001b[43mcreate_graph\u001b[49m\u001b[43m,\u001b[49m\u001b[43m \u001b[49m\u001b[43minputs\u001b[49m\u001b[38;5;241;43m=\u001b[39;49m\u001b[43minputs\u001b[49m\n\u001b[0;32m    494\u001b[0m \u001b[43m\u001b[49m\u001b[43m)\u001b[49m\n",
      "File \u001b[1;32mc:\\Users\\LT MSI\\AppData\\Local\\Programs\\Python\\Python311\\Lib\\site-packages\\torch\\autograd\\__init__.py:251\u001b[0m, in \u001b[0;36mbackward\u001b[1;34m(tensors, grad_tensors, retain_graph, create_graph, grad_variables, inputs)\u001b[0m\n\u001b[0;32m    246\u001b[0m     retain_graph \u001b[38;5;241m=\u001b[39m create_graph\n\u001b[0;32m    248\u001b[0m \u001b[38;5;66;03m# The reason we repeat the same comment below is that\u001b[39;00m\n\u001b[0;32m    249\u001b[0m \u001b[38;5;66;03m# some Python versions print out the first line of a multi-line function\u001b[39;00m\n\u001b[0;32m    250\u001b[0m \u001b[38;5;66;03m# calls in the traceback and some print out the last line\u001b[39;00m\n\u001b[1;32m--> 251\u001b[0m \u001b[43mVariable\u001b[49m\u001b[38;5;241;43m.\u001b[39;49m\u001b[43m_execution_engine\u001b[49m\u001b[38;5;241;43m.\u001b[39;49m\u001b[43mrun_backward\u001b[49m\u001b[43m(\u001b[49m\u001b[43m  \u001b[49m\u001b[38;5;66;43;03m# Calls into the C++ engine to run the backward pass\u001b[39;49;00m\n\u001b[0;32m    252\u001b[0m \u001b[43m    \u001b[49m\u001b[43mtensors\u001b[49m\u001b[43m,\u001b[49m\n\u001b[0;32m    253\u001b[0m \u001b[43m    \u001b[49m\u001b[43mgrad_tensors_\u001b[49m\u001b[43m,\u001b[49m\n\u001b[0;32m    254\u001b[0m \u001b[43m    \u001b[49m\u001b[43mretain_graph\u001b[49m\u001b[43m,\u001b[49m\n\u001b[0;32m    255\u001b[0m \u001b[43m    \u001b[49m\u001b[43mcreate_graph\u001b[49m\u001b[43m,\u001b[49m\n\u001b[0;32m    256\u001b[0m \u001b[43m    \u001b[49m\u001b[43minputs\u001b[49m\u001b[43m,\u001b[49m\n\u001b[0;32m    257\u001b[0m \u001b[43m    \u001b[49m\u001b[43mallow_unreachable\u001b[49m\u001b[38;5;241;43m=\u001b[39;49m\u001b[38;5;28;43;01mTrue\u001b[39;49;00m\u001b[43m,\u001b[49m\n\u001b[0;32m    258\u001b[0m \u001b[43m    \u001b[49m\u001b[43maccumulate_grad\u001b[49m\u001b[38;5;241;43m=\u001b[39;49m\u001b[38;5;28;43;01mTrue\u001b[39;49;00m\u001b[43m,\u001b[49m\n\u001b[0;32m    259\u001b[0m \u001b[43m\u001b[49m\u001b[43m)\u001b[49m\n",
      "\u001b[1;31mKeyboardInterrupt\u001b[0m: "
     ]
    }
   ],
   "source": [
    "n_epochs = 600\n",
    "best_valid_loss = float('inf')\n",
    "\n",
    "for epoch in range(1, n_epochs + 1):\n",
    "    train_loss = train(train_loader)\n",
    "    valid_loss = evaluate(test_loader)\n",
    "    \n",
    "    # Save the best model\n",
    "    if valid_loss < best_valid_loss:\n",
    "        best_valid_loss = valid_loss\n",
    "        torch.save(model, './checkpoint/saved_weights.pt')\n",
    "\n",
    "    if (epoch % 200 == 0):\n",
    "        print(f'\\tEpoch: {epoch} | ' + f'\\tTrain Loss: {train_loss:.5f} | ' + f'\\tVal Loss: {valid_loss:.5f}\\n')"
   ]
  },
  {
   "cell_type": "code",
   "execution_count": 210,
   "metadata": {
    "ExecuteTime": {
     "end_time": "2024-10-15T17:06:03.445888Z",
     "start_time": "2024-10-15T17:06:03.432866Z"
    }
   },
   "outputs": [],
   "source": [
    "model=torch.load('./checkpoint/saved_weights.pt')"
   ]
  },
  {
   "cell_type": "code",
   "execution_count": 211,
   "metadata": {
    "ExecuteTime": {
     "end_time": "2024-10-15T17:06:03.619861Z",
     "start_time": "2024-10-15T17:06:03.530959Z"
    }
   },
   "outputs": [],
   "source": [
    "X_test = torch.tensor(X_test).float()\n",
    "\n",
    "with torch.no_grad():\n",
    "  y_test_pred = model(X_test)\n",
    "\n",
    "y_test_pred = y_test_pred.numpy()[0]\n",
    "\n",
    "\n",
    "# # test y_test_pred first column\n",
    "# y_pred_close = y_test_pred[:, :1]\n",
    "# y_test_close = y_test[:, :1]"
   ]
  },
  {
   "cell_type": "code",
   "execution_count": 212,
   "metadata": {
    "ExecuteTime": {
     "end_time": "2024-10-15T17:06:03.674617Z",
     "start_time": "2024-10-15T17:06:03.663826Z"
    }
   },
   "outputs": [
    {
     "data": {
      "text/html": [
       "<div>\n",
       "<style scoped>\n",
       "    .dataframe tbody tr th:only-of-type {\n",
       "        vertical-align: middle;\n",
       "    }\n",
       "\n",
       "    .dataframe tbody tr th {\n",
       "        vertical-align: top;\n",
       "    }\n",
       "\n",
       "    .dataframe thead th {\n",
       "        text-align: right;\n",
       "    }\n",
       "</style>\n",
       "<table border=\"1\" class=\"dataframe\">\n",
       "  <thead>\n",
       "    <tr style=\"text-align: right;\">\n",
       "      <th></th>\n",
       "      <th>Close</th>\n",
       "      <th>High</th>\n",
       "      <th>Low</th>\n",
       "      <th>Open</th>\n",
       "      <th>Volume</th>\n",
       "    </tr>\n",
       "  </thead>\n",
       "  <tbody>\n",
       "    <tr>\n",
       "      <th>RMSE</th>\n",
       "      <td>0.005854</td>\n",
       "      <td>0.004807</td>\n",
       "      <td>0.004332</td>\n",
       "      <td>0.003102</td>\n",
       "      <td>0.025932</td>\n",
       "    </tr>\n",
       "    <tr>\n",
       "      <th>MSE</th>\n",
       "      <td>0.000034</td>\n",
       "      <td>0.000023</td>\n",
       "      <td>0.000019</td>\n",
       "      <td>0.000010</td>\n",
       "      <td>0.000672</td>\n",
       "    </tr>\n",
       "    <tr>\n",
       "      <th>MAE</th>\n",
       "      <td>0.004333</td>\n",
       "      <td>0.003409</td>\n",
       "      <td>0.002725</td>\n",
       "      <td>0.001499</td>\n",
       "      <td>0.009002</td>\n",
       "    </tr>\n",
       "    <tr>\n",
       "      <th>R2 score</th>\n",
       "      <td>0.996090</td>\n",
       "      <td>0.997401</td>\n",
       "      <td>0.997849</td>\n",
       "      <td>0.998904</td>\n",
       "      <td>0.610336</td>\n",
       "    </tr>\n",
       "  </tbody>\n",
       "</table>\n",
       "</div>"
      ],
      "text/plain": [
       "             Close      High       Low      Open    Volume\n",
       "RMSE      0.005854  0.004807  0.004332  0.003102  0.025932\n",
       "MSE       0.000034  0.000023  0.000019  0.000010  0.000672\n",
       "MAE       0.004333  0.003409  0.002725  0.001499  0.009002\n",
       "R2 score  0.996090  0.997401  0.997849  0.998904  0.610336"
      ]
     },
     "execution_count": 212,
     "metadata": {},
     "output_type": "execute_result"
    }
   ],
   "source": [
    "rmse = np.sqrt(mean_squared_error(y_test, y_test_pred, multioutput='raw_values'))\n",
    "mse = mean_squared_error(y_test, y_test_pred, multioutput='raw_values')\n",
    "mae = mean_absolute_error(y_test, y_test_pred, multioutput='raw_values')\n",
    "r2 = r2_score(y_test, y_test_pred, multioutput='raw_values')\n",
    "index = ['RMSE','MSE', 'MAE', 'R2 score']\n",
    "\n",
    "results = pd.DataFrame([rmse, mse, mae, r2], index=index, columns=['Close','High','Low','Open','Volume'])\n",
    "results"
   ]
  },
  {
   "cell_type": "code",
   "execution_count": 213,
   "metadata": {},
   "outputs": [
    {
     "data": {
      "text/html": [
       "<div>\n",
       "<style scoped>\n",
       "    .dataframe tbody tr th:only-of-type {\n",
       "        vertical-align: middle;\n",
       "    }\n",
       "\n",
       "    .dataframe tbody tr th {\n",
       "        vertical-align: top;\n",
       "    }\n",
       "\n",
       "    .dataframe thead th {\n",
       "        text-align: right;\n",
       "    }\n",
       "</style>\n",
       "<table border=\"1\" class=\"dataframe\">\n",
       "  <thead>\n",
       "    <tr style=\"text-align: right;\">\n",
       "      <th></th>\n",
       "      <th>Close</th>\n",
       "      <th>High</th>\n",
       "      <th>Low</th>\n",
       "      <th>Open</th>\n",
       "      <th>Volume</th>\n",
       "    </tr>\n",
       "  </thead>\n",
       "  <tbody>\n",
       "    <tr>\n",
       "      <th>0</th>\n",
       "      <td>0.004475</td>\n",
       "      <td>0.005095</td>\n",
       "      <td>0.001642</td>\n",
       "      <td>0.002803</td>\n",
       "      <td>0.002561</td>\n",
       "    </tr>\n",
       "    <tr>\n",
       "      <th>1</th>\n",
       "      <td>0.001852</td>\n",
       "      <td>0.000625</td>\n",
       "      <td>0.000529</td>\n",
       "      <td>0.001516</td>\n",
       "      <td>0.000153</td>\n",
       "    </tr>\n",
       "    <tr>\n",
       "      <th>2</th>\n",
       "      <td>0.003426</td>\n",
       "      <td>0.003228</td>\n",
       "      <td>0.003184</td>\n",
       "      <td>0.000262</td>\n",
       "      <td>0.000974</td>\n",
       "    </tr>\n",
       "    <tr>\n",
       "      <th>3</th>\n",
       "      <td>0.003739</td>\n",
       "      <td>0.000654</td>\n",
       "      <td>0.001450</td>\n",
       "      <td>0.000960</td>\n",
       "      <td>0.001054</td>\n",
       "    </tr>\n",
       "    <tr>\n",
       "      <th>4</th>\n",
       "      <td>0.004440</td>\n",
       "      <td>0.001260</td>\n",
       "      <td>0.005101</td>\n",
       "      <td>0.001285</td>\n",
       "      <td>0.011226</td>\n",
       "    </tr>\n",
       "    <tr>\n",
       "      <th>...</th>\n",
       "      <td>...</td>\n",
       "      <td>...</td>\n",
       "      <td>...</td>\n",
       "      <td>...</td>\n",
       "      <td>...</td>\n",
       "    </tr>\n",
       "    <tr>\n",
       "      <th>1319</th>\n",
       "      <td>0.005534</td>\n",
       "      <td>0.003469</td>\n",
       "      <td>0.002638</td>\n",
       "      <td>0.001164</td>\n",
       "      <td>0.004643</td>\n",
       "    </tr>\n",
       "    <tr>\n",
       "      <th>1320</th>\n",
       "      <td>0.003104</td>\n",
       "      <td>0.002990</td>\n",
       "      <td>0.002765</td>\n",
       "      <td>0.002344</td>\n",
       "      <td>0.000614</td>\n",
       "    </tr>\n",
       "    <tr>\n",
       "      <th>1321</th>\n",
       "      <td>0.008240</td>\n",
       "      <td>0.007152</td>\n",
       "      <td>0.003468</td>\n",
       "      <td>0.001236</td>\n",
       "      <td>0.000759</td>\n",
       "    </tr>\n",
       "    <tr>\n",
       "      <th>1322</th>\n",
       "      <td>0.008311</td>\n",
       "      <td>0.005877</td>\n",
       "      <td>0.004021</td>\n",
       "      <td>0.001784</td>\n",
       "      <td>0.004377</td>\n",
       "    </tr>\n",
       "    <tr>\n",
       "      <th>1323</th>\n",
       "      <td>0.007706</td>\n",
       "      <td>0.005270</td>\n",
       "      <td>0.007392</td>\n",
       "      <td>0.005121</td>\n",
       "      <td>0.003086</td>\n",
       "    </tr>\n",
       "  </tbody>\n",
       "</table>\n",
       "<p>1324 rows × 5 columns</p>\n",
       "</div>"
      ],
      "text/plain": [
       "         Close      High       Low      Open    Volume\n",
       "0     0.004475  0.005095  0.001642  0.002803  0.002561\n",
       "1     0.001852  0.000625  0.000529  0.001516  0.000153\n",
       "2     0.003426  0.003228  0.003184  0.000262  0.000974\n",
       "3     0.003739  0.000654  0.001450  0.000960  0.001054\n",
       "4     0.004440  0.001260  0.005101  0.001285  0.011226\n",
       "...        ...       ...       ...       ...       ...\n",
       "1319  0.005534  0.003469  0.002638  0.001164  0.004643\n",
       "1320  0.003104  0.002990  0.002765  0.002344  0.000614\n",
       "1321  0.008240  0.007152  0.003468  0.001236  0.000759\n",
       "1322  0.008311  0.005877  0.004021  0.001784  0.004377\n",
       "1323  0.007706  0.005270  0.007392  0.005121  0.003086\n",
       "\n",
       "[1324 rows x 5 columns]"
      ]
     },
     "execution_count": 213,
     "metadata": {},
     "output_type": "execute_result"
    }
   ],
   "source": [
    "# error number of all columns\n",
    "error = np.abs(y_test - y_test_pred)\n",
    "error = pd.DataFrame(error, columns=['Close','High','Low','Open','Volume'])\n",
    "error"
   ]
  },
  {
   "cell_type": "code",
   "execution_count": 214,
   "metadata": {
    "ExecuteTime": {
     "end_time": "2024-10-15T17:06:04.074391Z",
     "start_time": "2024-10-15T17:06:03.732670Z"
    }
   },
   "outputs": [
    {
     "data": {
      "image/png": "[encoded data removed]",
      "text/plain": [
       "<Figure size 2500x500 with 5 Axes>"
      ]
     },
     "metadata": {},
     "output_type": "display_data"
    }
   ],
   "source": [
    "fig, ax = plt.subplots(nrows=1, ncols=5)\n",
    "fig.set_figwidth(25)\n",
    "fig.set_figheight(5)\n",
    "\n",
    "for i in range(5):\n",
    "    ax[i].plot(np.arange(y_train.shape[0], y_train.shape[0]+y_test.shape[0]),\n",
    "         y_test[:,i], color='black', label='test target')\n",
    "\n",
    "    ax[i].plot(np.arange(y_train.shape[0], y_train.shape[0]+y_test_pred.shape[0]),\n",
    "         y_test_pred[:,i], color='red', label='test prediction')\n",
    "\n",
    "    ax[i].set_xlabel('time [days]')\n",
    "    ax[i].set_ylabel('price')\n",
    "    ax[i].legend(loc='best')\n",
    "\n",
    "ax[0].set_title('future close prices')\n",
    "ax[1].set_title('future high prices')\n",
    "ax[2].set_title('future low prices')\n",
    "ax[3].set_title('future open prices')\n",
    "ax[4].set_title('future volume prices')\n",
    "\n",
    "plt.show()"
   ]
  },
  {
   "cell_type": "code",
   "execution_count": 215,
   "metadata": {
    "ExecuteTime": {
     "end_time": "2024-10-15T17:06:04.392262Z",
     "start_time": "2024-10-15T17:06:04.100573Z"
    }
   },
   "outputs": [
    {
     "data": {
      "text/html": [
       "<div>\n",
       "<style scoped>\n",
       "    .dataframe tbody tr th:only-of-type {\n",
       "        vertical-align: middle;\n",
       "    }\n",
       "\n",
       "    .dataframe tbody tr th {\n",
       "        vertical-align: top;\n",
       "    }\n",
       "\n",
       "    .dataframe thead th {\n",
       "        text-align: right;\n",
       "    }\n",
       "</style>\n",
       "<table border=\"1\" class=\"dataframe\">\n",
       "  <thead>\n",
       "    <tr style=\"text-align: right;\">\n",
       "      <th></th>\n",
       "      <th>Close</th>\n",
       "      <th>High</th>\n",
       "      <th>Low</th>\n",
       "      <th>Open</th>\n",
       "      <th>Volume</th>\n",
       "    </tr>\n",
       "  </thead>\n",
       "  <tbody>\n",
       "    <tr>\n",
       "      <th>0</th>\n",
       "      <td>248.196655</td>\n",
       "      <td>242.245087</td>\n",
       "      <td>234.555771</td>\n",
       "      <td>234.559464</td>\n",
       "      <td>-4.212530e+06</td>\n",
       "    </tr>\n",
       "    <tr>\n",
       "      <th>1</th>\n",
       "      <td>224.797394</td>\n",
       "      <td>228.683792</td>\n",
       "      <td>225.109253</td>\n",
       "      <td>229.250763</td>\n",
       "      <td>4.548841e+05</td>\n",
       "    </tr>\n",
       "    <tr>\n",
       "      <th>2</th>\n",
       "      <td>230.072372</td>\n",
       "      <td>230.387451</td>\n",
       "      <td>229.096710</td>\n",
       "      <td>229.710709</td>\n",
       "      <td>3.479184e+05</td>\n",
       "    </tr>\n",
       "    <tr>\n",
       "      <th>3</th>\n",
       "      <td>235.832962</td>\n",
       "      <td>236.664337</td>\n",
       "      <td>234.813080</td>\n",
       "      <td>235.364120</td>\n",
       "      <td>9.935608e+05</td>\n",
       "    </tr>\n",
       "    <tr>\n",
       "      <th>4</th>\n",
       "      <td>238.636902</td>\n",
       "      <td>239.368256</td>\n",
       "      <td>237.723618</td>\n",
       "      <td>238.236313</td>\n",
       "      <td>6.255214e+05</td>\n",
       "    </tr>\n",
       "    <tr>\n",
       "      <th>...</th>\n",
       "      <td>...</td>\n",
       "      <td>...</td>\n",
       "      <td>...</td>\n",
       "      <td>...</td>\n",
       "      <td>...</td>\n",
       "    </tr>\n",
       "    <tr>\n",
       "      <th>95</th>\n",
       "      <td>248.594864</td>\n",
       "      <td>248.664108</td>\n",
       "      <td>248.570206</td>\n",
       "      <td>248.613708</td>\n",
       "      <td>-5.447494e+04</td>\n",
       "    </tr>\n",
       "    <tr>\n",
       "      <th>96</th>\n",
       "      <td>248.579422</td>\n",
       "      <td>248.649124</td>\n",
       "      <td>248.554077</td>\n",
       "      <td>248.597992</td>\n",
       "      <td>-5.445505e+04</td>\n",
       "    </tr>\n",
       "    <tr>\n",
       "      <th>97</th>\n",
       "      <td>248.564087</td>\n",
       "      <td>248.634216</td>\n",
       "      <td>248.537918</td>\n",
       "      <td>248.582321</td>\n",
       "      <td>-5.427710e+04</td>\n",
       "    </tr>\n",
       "    <tr>\n",
       "      <th>98</th>\n",
       "      <td>248.547470</td>\n",
       "      <td>248.618439</td>\n",
       "      <td>248.518814</td>\n",
       "      <td>248.564713</td>\n",
       "      <td>-5.322603e+04</td>\n",
       "    </tr>\n",
       "    <tr>\n",
       "      <th>99</th>\n",
       "      <td>248.522858</td>\n",
       "      <td>248.597504</td>\n",
       "      <td>248.483124</td>\n",
       "      <td>248.535751</td>\n",
       "      <td>-4.824939e+04</td>\n",
       "    </tr>\n",
       "  </tbody>\n",
       "</table>\n",
       "<p>100 rows × 5 columns</p>\n",
       "</div>"
      ],
      "text/plain": [
       "         Close        High         Low        Open        Volume\n",
       "0   248.196655  242.245087  234.555771  234.559464 -4.212530e+06\n",
       "1   224.797394  228.683792  225.109253  229.250763  4.548841e+05\n",
       "2   230.072372  230.387451  229.096710  229.710709  3.479184e+05\n",
       "3   235.832962  236.664337  234.813080  235.364120  9.935608e+05\n",
       "4   238.636902  239.368256  237.723618  238.236313  6.255214e+05\n",
       "..         ...         ...         ...         ...           ...\n",
       "95  248.594864  248.664108  248.570206  248.613708 -5.447494e+04\n",
       "96  248.579422  248.649124  248.554077  248.597992 -5.445505e+04\n",
       "97  248.564087  248.634216  248.537918  248.582321 -5.427710e+04\n",
       "98  248.547470  248.618439  248.518814  248.564713 -5.322603e+04\n",
       "99  248.522858  248.597504  248.483124  248.535751 -4.824939e+04\n",
       "\n",
       "[100 rows x 5 columns]"
      ]
     },
     "execution_count": 215,
     "metadata": {},
     "output_type": "execute_result"
    }
   ],
   "source": [
    "# Predicting the next 10 mins\n",
    "\n",
    "seq_len = 101\n",
    "sequences = []\n",
    "for index in range(len(test) - seq_len + 1): \n",
    "    sequences.append(test[index: index + seq_len])\n",
    "sequences = np.array(sequences)\n",
    "\n",
    "last_sequence = sequences[-1:, 1:, :]\n",
    "last_sequence = torch.from_numpy(last_sequence).float()\n",
    "\n",
    "# Generate predictions\n",
    "PREDICT = 100\n",
    "with torch.no_grad():\n",
    "    for i in range(PREDICT):\n",
    "        pred_i = model(last_sequence)\n",
    "        last_sequence = torch.cat((last_sequence, pred_i), dim=1)\n",
    "        last_sequence = last_sequence[:, 1:, :]\n",
    "\n",
    "\n",
    "pred_mins = last_sequence.reshape(PREDICT, 5).numpy()\n",
    "\n",
    "# # Inverse transform the predicted values\n",
    "pred_value = scaler.inverse_transform(pred_mins)\n",
    "\n",
    "df_pred = pd.DataFrame(\n",
    "    data=pred_value,\n",
    "    columns=['Close','High','Low','Open','Volume']\n",
    ")\n",
    "\n",
    "df_pred"
   ]
  },
  {
   "cell_type": "code",
   "execution_count": 224,
   "metadata": {},
   "outputs": [
    {
     "name": "stdout",
     "output_type": "stream",
     "text": [
      "         Close        High         Low        Open   Volume\n",
      "0   252.990005  253.039993  252.970001  253.009995  52244.0\n",
      "1   253.000000  253.046799  252.934998  252.938095  47367.0\n",
      "2   253.059998  253.130005  253.009995  253.009995  45794.0\n",
      "3   252.789993  253.085007  252.759995  253.059998  86162.0\n",
      "4   252.889999  252.947998  252.770004  252.789993  50463.0\n",
      "..         ...         ...         ...         ...      ...\n",
      "95  253.365005  253.377899  253.300003  253.320297  17052.0\n",
      "96  253.324997  253.384995  253.324905  253.369995  25717.0\n",
      "97  253.429993  253.464996  253.320007  253.320007  30301.0\n",
      "98  253.528198  253.528198  253.429993  253.429993  42713.0\n",
      "99  253.589996  253.589996  253.589996  253.589996  42713.0\n",
      "\n",
      "[100 rows x 5 columns]\n",
      "         Close        High         Low        Open        Volume\n",
      "0   248.196655  242.245087  234.555771  234.559464 -4.212530e+06\n",
      "1   224.797394  228.683792  225.109253  229.250763  4.548841e+05\n",
      "2   230.072372  230.387451  229.096710  229.710709  3.479184e+05\n",
      "3   235.832962  236.664337  234.813080  235.364120  9.935608e+05\n",
      "4   238.636902  239.368256  237.723618  238.236313  6.255214e+05\n",
      "..         ...         ...         ...         ...           ...\n",
      "95  248.594864  248.664108  248.570206  248.613708 -5.447494e+04\n",
      "96  248.579422  248.649124  248.554077  248.597992 -5.445505e+04\n",
      "97  248.564087  248.634216  248.537918  248.582321 -5.427710e+04\n",
      "98  248.547470  248.618439  248.518814  248.564713 -5.322603e+04\n",
      "99  248.522858  248.597504  248.483124  248.535751 -4.824939e+04\n",
      "\n",
      "[100 rows x 5 columns]\n",
      "        Close       High        Low       Open        Volume\n",
      "0    4.793350  10.794907  18.414230  18.450531  4.264774e+06\n",
      "1   28.202606  24.363007  27.825745  23.687332  4.075171e+05\n",
      "2   22.987625  22.742554  23.913284  23.299286  3.021244e+05\n",
      "3   16.957031  16.420670  17.946915  17.695877  9.073988e+05\n",
      "4   14.253098  13.579742  15.046387  14.553680  5.750584e+05\n",
      "..        ...        ...        ...        ...           ...\n",
      "95   4.770142   4.713791   4.729797   4.706589  7.152694e+04\n",
      "96   4.745575   4.735870   4.770828   4.772003  8.017205e+04\n",
      "97   4.865906   4.830780   4.782089   4.737686  8.457810e+04\n",
      "98   4.980728   4.909760   4.911179   4.865280  9.593903e+04\n",
      "99   5.067139   4.992493   5.106873   5.054245  9.096239e+04\n",
      "\n",
      "[100 rows x 5 columns]\n"
     ]
    }
   ],
   "source": [
    "# Get error of last 100 mins\n",
    "error_pred = np.abs(y_test[-100:] - pred_mins)\n",
    "\n",
    "x = scaler.inverse_transform(y_test[-100:])\n",
    "y = scaler.inverse_transform(pred_mins)\n",
    "\n",
    "# error_pred = scaler.inverse_transform(error_pred)\n",
    "\n",
    "error_pred = np.abs(x - y)\n",
    "\n",
    "\n",
    "error_pred = pd.DataFrame(error_pred , columns=['Close','High','Low','Open','Volume'])\n",
    "\n",
    "x = pd.DataFrame(x, columns=['Close','High','Low','Open','Volume'])\n",
    "\n",
    "y = pd.DataFrame(y, columns=['Close','High','Low','Open','Volume'])\n",
    "\n",
    "print(x)\n",
    "print(y)\n",
    "print(error_pred)"
   ]
  }
 ],
 "metadata": {
  "kernelspec": {
   "display_name": "py4math",
   "language": "python",
   "name": "python3"
  },
  "language_info": {
   "codemirror_mode": {
    "name": "ipython",
    "version": 3
   },
   "file_extension": ".py",
   "mimetype": "text/x-python",
   "name": "python",
   "nbconvert_exporter": "python",
   "pygments_lexer": "ipython3",
   "version": "3.11.0"
  }
 },
 "nbformat": 4,
 "nbformat_minor": 2
}
