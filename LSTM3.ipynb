{
 "cells": [
  {
   "cell_type": "markdown",
   "metadata": {},
   "source": [
    "# Students:\n",
    "\n",
    "### Le Hoang Sang\n",
    "\n",
    "### Vu Dinh Chuong"
   ]
  },
  {
   "cell_type": "code",
   "execution_count": 42,
   "metadata": {
    "ExecuteTime": {
     "end_time": "2024-10-15T16:56:44.878280Z",
     "start_time": "2024-10-15T16:56:42.738227Z"
    }
   },
   "outputs": [],
   "source": [
    "import pandas as pd\n",
    "import numpy as np\n",
    "import matplotlib.pyplot as plt\n",
    "import torch\n",
    "from sklearn.preprocessing import MinMaxScaler\n",
    "from torch.utils.data import TensorDataset, DataLoader\n",
    "from sklearn.metrics import r2_score, mean_squared_error, mean_absolute_error\n",
    "from torch import nn\n",
    "import torch.optim as optim"
   ]
  },
  {
   "cell_type": "markdown",
   "metadata": {},
   "source": [
    "# CLean data"
   ]
  },
  {
   "cell_type": "code",
   "execution_count": 43,
   "metadata": {
    "ExecuteTime": {
     "end_time": "2024-10-15T16:56:44.890442Z",
     "start_time": "2024-10-15T16:56:44.887126Z"
    }
   },
   "outputs": [],
   "source": [
    "def clean_data(df):\n",
    "    print(\"Initial data information:\")\n",
    "    print(df.info())\n",
    "\n",
    "    # Remove unnecessary columns (if there are columns named 'Unnamed')\n",
    "    df = df.loc[:, ~df.columns.get_level_values(1).str.contains('^Unnamed')]\n",
    "\n",
    "    # Handle the 'timestamp' column (if present)\n",
    "    if ('timestamp', '') in df.columns:\n",
    "        # Convert to datetime format\n",
    "        df[('timestamp', '')] = pd.to_datetime(df[('timestamp', '')], errors='coerce')  \n",
    "        \n",
    "        # Remove rows with missing timestamp values\n",
    "        df = df.dropna(subset=[('timestamp', '')]) \n",
    "\n",
    "    # Fill missing values using forward fill and backward fill methods\n",
    "    df = df.fillna(method='ffill').fillna(method='bfill')\n",
    "\n",
    "    # Normalize 'close' values between 0 and 1 if present\n",
    "    if ('close', '') in df.columns:\n",
    "        df[('close', '')] = (df[('close', '')] - df[('close', '')].min()) / (df[('close', '')].max() - df[('close', '')].min())\n",
    "\n",
    "    # Print out the data after cleaning\n",
    "    print(\"Data after cleaning:\")\n",
    "    print(df.head())\n",
    "\n",
    "    return df\n"
   ]
  },
  {
   "cell_type": "markdown",
   "metadata": {},
   "source": [
    "# Create features"
   ]
  },
  {
   "cell_type": "code",
   "execution_count": 44,
   "metadata": {
    "ExecuteTime": {
     "end_time": "2024-10-15T16:56:44.897350Z",
     "start_time": "2024-10-15T16:56:44.893709Z"
    }
   },
   "outputs": [],
   "source": [
    "def create_features(df):\n",
    "    df_features = df.copy()\n",
    "\n",
    "    print(\"Column names in the DataFrame:\", df_features.columns)\n",
    "\n",
    "    # Define the symbol you want to work with (e.g., 'A', 'AAL', etc.)\n",
    "    symbol = 'A'\n",
    "\n",
    "    # Define the columns for the selected stock symbol\n",
    "    numeric_cols = [(symbol, 'open'), (symbol, 'high'), (symbol, 'low'), (symbol, 'close'), (symbol, 'volume')]\n",
    "\n",
    "    # Check if these columns exist in the DataFrame\n",
    "    existing_cols = [col for col in numeric_cols if col in df_features.columns]\n",
    "\n",
    "    if not existing_cols:\n",
    "        raise ValueError(\"Required numeric columns not found in the DataFrame.\")\n",
    "\n",
    "    # Convert the necessary columns to numeric type\n",
    "    df_features[existing_cols] = df_features[existing_cols].apply(pd.to_numeric, errors='coerce')\n",
    "\n",
    "    # Remove rows with NaN values after conversion\n",
    "    df_features = df_features.dropna()\n",
    "\n",
    "    # Create features if the necessary columns exist\n",
    "    if (symbol, 'close') in df_features.columns:\n",
    "        df_features[(symbol, 'return')] = df_features[(symbol, 'close')].pct_change()\n",
    "        df_features[(symbol, 'ma7')] = df_features[(symbol, 'close')].rolling(window=7).mean()\n",
    "        df_features[(symbol, 'ma21')] = df_features[(symbol, 'close')].rolling(window=21).mean()\n",
    "        df_features[(symbol, 'volatility')] = df_features[(symbol, 'close')].rolling(window=7).std()\n",
    "    \n",
    "    if (symbol, 'open') in df_features.columns and (symbol, 'close') in df_features.columns:\n",
    "        df_features[(symbol, 'open_close_ratio')] = df_features[(symbol, 'open')] / df_features[(symbol, 'close')]\n",
    "    \n",
    "    if (symbol, 'high') in df_features.columns and (symbol, 'low') in df_features.columns:\n",
    "        df_features[(symbol, 'high_low_ratio')] = df_features[(symbol, 'high')] / df_features[(symbol, 'low')]\n",
    "\n",
    "    # Remove rows with NaN values due to calculations\n",
    "    df_features = df_features.dropna()  \n",
    "\n",
    "    print(\"DataFrame with new features:\")\n",
    "    print(df_features.head())\n",
    "\n",
    "    return df_features"
   ]
  },
  {
   "cell_type": "markdown",
   "metadata": {},
   "source": [
    "# Plot data"
   ]
  },
  {
   "cell_type": "code",
   "execution_count": 45,
   "metadata": {
    "ExecuteTime": {
     "end_time": "2024-10-15T16:56:44.904955Z",
     "start_time": "2024-10-15T16:56:44.900795Z"
    }
   },
   "outputs": [],
   "source": [
    "def plot_features(df_features, symbol='A'):\n",
    "    # Ensure symbol exists in the DataFrame\n",
    "    if symbol not in df_features.columns.get_level_values(0):\n",
    "        raise ValueError(f\"Symbol '{symbol}' not found in DataFrame columns.\")\n",
    "\n",
    "    # Plot the 'close' price\n",
    "    plt.figure(figsize=(14, 7))\n",
    "    plt.plot(df_features.index, df_features[(symbol, 'close')], label=f'{symbol} Close Price', color='b')\n",
    "    plt.title(f'{symbol} Close Price Over Time')\n",
    "    plt.xlabel('Time')\n",
    "    plt.ylabel('Close Price')\n",
    "    plt.legend()\n",
    "    plt.show()\n",
    "\n",
    "    # Plot the 7-day and 21-day moving averages\n",
    "    plt.figure(figsize=(14, 7))\n",
    "    plt.plot(df_features.index, df_features[(symbol, 'ma7')], label=f'{symbol} MA7', color='g')\n",
    "    plt.plot(df_features.index, df_features[(symbol, 'ma21')], label=f'{symbol} MA21', color='r')\n",
    "    plt.title(f'{symbol} 7-day and 21-day Moving Averages')\n",
    "    plt.xlabel('Time')\n",
    "    plt.ylabel('Price')\n",
    "    plt.legend()\n",
    "    plt.show()\n",
    "\n",
    "    # Plot the volatility (7-day rolling standard deviation)\n",
    "    plt.figure(figsize=(14, 7))\n",
    "    plt.plot(df_features.index, df_features[(symbol, 'volatility')], label=f'{symbol} Volatility (7-day)', color='purple')\n",
    "    plt.title(f'{symbol} Volatility (7-day rolling std)')\n",
    "    plt.xlabel('Time')\n",
    "    plt.ylabel('Volatility')\n",
    "    plt.legend()\n",
    "    plt.show()\n",
    "\n",
    "    # Plot the open/close ratio\n",
    "    plt.figure(figsize=(14, 7))\n",
    "    plt.plot(df_features.index, df_features[(symbol, 'open_close_ratio')], label=f'{symbol} Open/Close Ratio', color='orange')\n",
    "    plt.title(f'{symbol} Open/Close Ratio Over Time')\n",
    "    plt.xlabel('Time')\n",
    "    plt.ylabel('Ratio')\n",
    "    plt.legend()\n",
    "    plt.show()\n",
    "\n",
    "    # Plot the high/low ratio\n",
    "    plt.figure(figsize=(14, 7))\n",
    "    plt.plot(df_features.index, df_features[(symbol, 'high_low_ratio')], label=f'{symbol} High/Low Ratio', color='brown')\n",
    "    plt.title(f'{symbol} High/Low Ratio Over Time')\n",
    "    plt.xlabel('Time')\n",
    "    plt.ylabel('Ratio')\n",
    "    plt.legend()\n",
    "    plt.show()"
   ]
  },
  {
   "cell_type": "markdown",
   "metadata": {},
   "source": [
    "# Run flow"
   ]
  },
  {
   "cell_type": "code",
   "execution_count": 46,
   "metadata": {
    "ExecuteTime": {
     "end_time": "2024-10-15T16:56:51.984918Z",
     "start_time": "2024-10-15T16:56:45.002538Z"
    }
   },
   "outputs": [],
   "source": [
    "df = pd.read_csv('./newfile.csv', index_col=0, header=[0, 1]).sort_index(axis=1)\n",
    "\n",
    "# Drop the 'Adj Close' column\n",
    "df.drop('Adj Close', axis=1, inplace=True)"
   ]
  },
  {
   "cell_type": "code",
   "execution_count": 47,
   "metadata": {
    "ExecuteTime": {
     "end_time": "2024-10-15T16:56:56.329892Z",
     "start_time": "2024-10-15T16:56:52.034649Z"
    }
   },
   "outputs": [
    {
     "name": "stdout",
     "output_type": "stream",
     "text": [
      "Initial data information:\n",
      "<class 'pandas.core.frame.DataFrame'>\n",
      "Index: 8371 entries, 2024-11-18 14:31:00+00:00 to 2024-12-18 16:52:00+00:00\n",
      "Data columns (total 5 columns):\n",
      " #   Column                      Non-Null Count  Dtype  \n",
      "---  ------                      --------------  -----  \n",
      " 0   (Close, 226.1999969482422)  8371 non-null   float64\n",
      " 1   (High, 226.41000366210932)  8371 non-null   float64\n",
      " 2   (Low, 225.17999267578125)   8371 non-null   float64\n",
      " 3   (Open, 225.1999969482422)   8371 non-null   float64\n",
      " 4   (Volume, 1331036.0)         8371 non-null   float64\n",
      "dtypes: float64(5)\n",
      "memory usage: 392.4+ KB\n",
      "None\n",
      "Data after cleaning:\n",
      "Date                                  Close               High  \\\n",
      "2024-11-18 14:30:00+00:00 226.1999969482422 226.41000366210932   \n",
      "2024-11-18 14:31:00+00:00        226.565994         226.639999   \n",
      "2024-11-18 14:32:00+00:00        226.679993         226.880005   \n",
      "2024-11-18 14:33:00+00:00        226.410004         226.820007   \n",
      "2024-11-18 14:34:00+00:00        226.490005         226.550003   \n",
      "2024-11-18 14:35:00+00:00        226.220001         226.550003   \n",
      "\n",
      "Date                                     Low              Open    Volume  \n",
      "2024-11-18 14:30:00+00:00 225.17999267578125 225.1999969482422 1331036.0  \n",
      "2024-11-18 14:31:00+00:00         226.020004        226.220001  276499.0  \n",
      "2024-11-18 14:32:00+00:00         226.430099        226.550003  191068.0  \n",
      "2024-11-18 14:33:00+00:00         226.110001        226.750000  206426.0  \n",
      "2024-11-18 14:34:00+00:00         226.240005        226.369995  131348.0  \n",
      "2024-11-18 14:35:00+00:00         226.220001        226.484695   99552.0  \n"
     ]
    },
    {
     "name": "stderr",
     "output_type": "stream",
     "text": [
      "C:\\Users\\LT MSI\\AppData\\Local\\Temp\\ipykernel_8708\\1215159712.py:17: FutureWarning: DataFrame.fillna with 'method' is deprecated and will raise in a future version. Use obj.ffill() or obj.bfill() instead.\n",
      "  df = df.fillna(method='ffill').fillna(method='bfill')\n"
     ]
    }
   ],
   "source": [
    "df_cleaned = clean_data(df)"
   ]
  },
  {
   "cell_type": "code",
   "execution_count": 48,
   "metadata": {
    "ExecuteTime": {
     "end_time": "2024-10-15T16:56:56.963596Z",
     "start_time": "2024-10-15T16:56:56.956213Z"
    }
   },
   "outputs": [],
   "source": [
    "# Split train from  11/09/2017 9:30 A.M. to 17/01/2018 11:50 A.M and test data  from 17/01/2018 11:51A.M. to 16/02/2018 03:59A.M\n",
    "train = df.loc['2024-11-18 14:30:00+00:00':'2024-12-12 19:40:00+00:00']\n",
    "test = df.loc['2024-12-12 19:41:00+00:00':'2024-12-18 16:52:00+00:00']"
   ]
  },
  {
   "cell_type": "code",
   "execution_count": 49,
   "metadata": {
    "ExecuteTime": {
     "end_time": "2024-10-15T16:56:57.023400Z",
     "start_time": "2024-10-15T16:56:56.988567Z"
    }
   },
   "outputs": [],
   "source": [
    "# Create sequences of data\n",
    "def create_sequences(data, seq_length):\n",
    "    X, y = [], []\n",
    "    for i in range(len(data) - seq_length):\n",
    "        X.append(data[i:i+seq_length])\n",
    "        y.append(data[i+seq_length])\n",
    "    return np.array(X), np.array(y)\n",
    "\n",
    "scaler = MinMaxScaler()\n",
    "train_scaled = scaler.fit_transform(train)\n",
    "test_scaled = scaler.fit_transform(test)\n",
    "\n",
    "# Create sequences with a length of 100\n",
    "seq_length = 100\n",
    "X_train, y_train = create_sequences(train_scaled, seq_length)\n",
    "X_test, y_test = create_sequences(test_scaled, seq_length)\n",
    "\n",
    "# Create data loaders\n",
    "train_data = TensorDataset(torch.tensor(X_train).float(), torch.tensor(y_train).float())\n",
    "test_data = TensorDataset(torch.tensor(X_test).float(), torch.from_numpy(y_test).float())\n",
    "\n",
    "batch_size = 64\n",
    "train_loader = DataLoader(train_data, shuffle=True, batch_size=batch_size)\n",
    "test_loader = DataLoader(test_data, shuffle=False, batch_size=batch_size)"
   ]
  },
  {
   "cell_type": "code",
   "execution_count": 50,
   "metadata": {
    "ExecuteTime": {
     "end_time": "2024-10-15T16:56:57.062572Z",
     "start_time": "2024-10-15T16:56:57.056506Z"
    }
   },
   "outputs": [],
   "source": [
    "class VanillaLSTM(nn.Module):\n",
    "    def __init__(self, num_feature):\n",
    "        super(VanillaLSTM, self).__init__()\n",
    "        self.lstm  = nn.LSTM(num_feature,64,batch_first=True)\n",
    "        self.fc    = nn.Linear(64,num_feature)\n",
    "        \n",
    "    def forward(self, x):\n",
    "        output, (hidden, cell) = self.lstm(x)\n",
    "        x = self.fc(hidden)\n",
    "        return x\n",
    "\n",
    "model = VanillaLSTM(5)"
   ]
  },
  {
   "cell_type": "code",
   "execution_count": 51,
   "metadata": {
    "ExecuteTime": {
     "end_time": "2024-10-15T16:56:57.541857Z",
     "start_time": "2024-10-15T16:56:57.092407Z"
    }
   },
   "outputs": [],
   "source": [
    "# RMSE loss function\n",
    "class RMSELoss(nn.Module):\n",
    "    def __init__(self):\n",
    "        super().__init__()\n",
    "        self.mse = nn.MSELoss()\n",
    "        \n",
    "    def forward(self,yhat,y):\n",
    "        return torch.sqrt(self.mse(yhat,y))\n",
    "\n",
    "criterion = RMSELoss()\n",
    "optimizer = optim.Adam(model.parameters(), lr=0.01)"
   ]
  },
  {
   "cell_type": "code",
   "execution_count": 52,
   "metadata": {
    "ExecuteTime": {
     "end_time": "2024-10-15T16:56:57.603051Z",
     "start_time": "2024-10-15T16:56:57.600424Z"
    }
   },
   "outputs": [],
   "source": [
    "def train(dataloader):\n",
    "    epoch_loss = 0\n",
    "    model.train()  \n",
    "    \n",
    "    for batch in dataloader:\n",
    "        optimizer.zero_grad()          \n",
    "        x,y = batch\n",
    "        pred = model(x)\n",
    "        loss = criterion(pred[0],y)        \n",
    "        loss.backward()               \n",
    "        optimizer.step()      \n",
    "        epoch_loss += loss.item()  \n",
    "        \n",
    "    return epoch_loss"
   ]
  },
  {
   "cell_type": "code",
   "execution_count": 53,
   "metadata": {
    "ExecuteTime": {
     "end_time": "2024-10-15T16:56:57.632247Z",
     "start_time": "2024-10-15T16:56:57.630Z"
    }
   },
   "outputs": [],
   "source": [
    "def evaluate(dataloader):\n",
    "    epoch_loss = 0\n",
    "    model.eval()  \n",
    "    \n",
    "    with torch.no_grad():\n",
    "      for batch in dataloader:   \n",
    "          x,y= batch\n",
    "          pred = model(x)\n",
    "          loss = criterion(pred[0],y)              \n",
    "          epoch_loss += loss.item()  \n",
    "        \n",
    "    return epoch_loss / len(dataloader)"
   ]
  },
  {
   "cell_type": "code",
   "execution_count": 54,
   "metadata": {
    "ExecuteTime": {
     "end_time": "2024-10-15T17:06:03.148064Z",
     "start_time": "2024-10-15T16:56:57.659607Z"
    }
   },
   "outputs": [],
   "source": [
    "n_epochs = 600\n",
    "best_valid_loss = float('inf')\n",
    "\n",
    "for epoch in range(1, n_epochs + 1):\n",
    "    train_loss = train(train_loader)\n",
    "    valid_loss = evaluate(test_loader)\n",
    "    \n",
    "    # Save the best model\n",
    "    if valid_loss < best_valid_loss:\n",
    "        best_valid_loss = valid_loss\n",
    "        torch.save(model, './checkpoint/saved_weights.pt')\n",
    "\n",
    "    if (epoch % 200 == 0):\n",
    "        print(f'\\tEpoch: {epoch} | ' + f'\\tTrain Loss: {train_loss:.5f} | ' + f'\\tVal Loss: {valid_loss:.5f}\\n')"
   ]
  },
  {
   "cell_type": "code",
   "execution_count": 60,
   "metadata": {
    "ExecuteTime": {
     "end_time": "2024-10-15T17:06:03.445888Z",
     "start_time": "2024-10-15T17:06:03.432866Z"
    }
   },
   "outputs": [],
   "source": [
    "model=torch.load('./checkpoint/saved_weights.pt')"
   ]
  },
  {
   "cell_type": "code",
   "execution_count": 73,
   "metadata": {
    "ExecuteTime": {
     "end_time": "2024-10-15T17:06:03.619861Z",
     "start_time": "2024-10-15T17:06:03.530959Z"
    }
   },
   "outputs": [
    {
     "name": "stderr",
     "output_type": "stream",
     "text": [
      "C:\\Users\\LT MSI\\AppData\\Local\\Temp\\ipykernel_8708\\2741225094.py:1: UserWarning: To copy construct from a tensor, it is recommended to use sourceTensor.clone().detach() or sourceTensor.clone().detach().requires_grad_(True), rather than torch.tensor(sourceTensor).\n",
      "  X_test = torch.tensor(X_test).float()\n"
     ]
    }
   ],
   "source": [
    "X_test = torch.tensor(X_test).float()\n",
    "\n",
    "with torch.no_grad():\n",
    "  y_test_pred = model(X_test)\n",
    "\n",
    "y_test_pred = y_test_pred.numpy()[0]\n",
    "\n",
    "\n",
    "# # test y_test_pred first column\n",
    "# y_pred_close = y_test_pred[:, :1]\n",
    "# y_test_close = y_test[:, :1]"
   ]
  },
  {
   "cell_type": "code",
   "execution_count": 74,
   "metadata": {
    "ExecuteTime": {
     "end_time": "2024-10-15T17:06:03.674617Z",
     "start_time": "2024-10-15T17:06:03.663826Z"
    }
   },
   "outputs": [
    {
     "data": {
      "text/html": [
       "<div>\n",
       "<style scoped>\n",
       "    .dataframe tbody tr th:only-of-type {\n",
       "        vertical-align: middle;\n",
       "    }\n",
       "\n",
       "    .dataframe tbody tr th {\n",
       "        vertical-align: top;\n",
       "    }\n",
       "\n",
       "    .dataframe thead th {\n",
       "        text-align: right;\n",
       "    }\n",
       "</style>\n",
       "<table border=\"1\" class=\"dataframe\">\n",
       "  <thead>\n",
       "    <tr style=\"text-align: right;\">\n",
       "      <th></th>\n",
       "      <th>close</th>\n",
       "      <th>high</th>\n",
       "      <th>low</th>\n",
       "      <th>open</th>\n",
       "      <th>volume</th>\n",
       "    </tr>\n",
       "  </thead>\n",
       "  <tbody>\n",
       "    <tr>\n",
       "      <th>RMSE</th>\n",
       "      <td>0.016118</td>\n",
       "      <td>0.012564</td>\n",
       "      <td>0.013455</td>\n",
       "      <td>0.008240</td>\n",
       "      <td>0.044895</td>\n",
       "    </tr>\n",
       "    <tr>\n",
       "      <th>MSE</th>\n",
       "      <td>0.000260</td>\n",
       "      <td>0.000158</td>\n",
       "      <td>0.000181</td>\n",
       "      <td>0.000068</td>\n",
       "      <td>0.002016</td>\n",
       "    </tr>\n",
       "    <tr>\n",
       "      <th>MAE</th>\n",
       "      <td>0.011227</td>\n",
       "      <td>0.009077</td>\n",
       "      <td>0.008240</td>\n",
       "      <td>0.003858</td>\n",
       "      <td>0.017105</td>\n",
       "    </tr>\n",
       "    <tr>\n",
       "      <th>R2 score</th>\n",
       "      <td>0.997388</td>\n",
       "      <td>0.998394</td>\n",
       "      <td>0.998197</td>\n",
       "      <td>0.999317</td>\n",
       "      <td>0.680012</td>\n",
       "    </tr>\n",
       "  </tbody>\n",
       "</table>\n",
       "</div>"
      ],
      "text/plain": [
       "             close      high       low      open    volume\n",
       "RMSE      0.016118  0.012564  0.013455  0.008240  0.044895\n",
       "MSE       0.000260  0.000158  0.000181  0.000068  0.002016\n",
       "MAE       0.011227  0.009077  0.008240  0.003858  0.017105\n",
       "R2 score  0.997388  0.998394  0.998197  0.999317  0.680012"
      ]
     },
     "execution_count": 74,
     "metadata": {},
     "output_type": "execute_result"
    }
   ],
   "source": [
    "rmse = np.sqrt(mean_squared_error(y_test, y_test_pred, multioutput='raw_values'))\n",
    "mse = mean_squared_error(y_test, y_test_pred, multioutput='raw_values')\n",
    "mae = mean_absolute_error(y_test, y_test_pred, multioutput='raw_values')\n",
    "r2 = r2_score(y_test, y_test_pred, multioutput='raw_values')\n",
    "index = ['RMSE','MSE', 'MAE', 'R2 score']\n",
    "\n",
    "results = pd.DataFrame([rmse, mse, mae, r2], index=index, columns=['Close','High','Low','Open','Volume'])\n",
    "results"
   ]
  },
  {
   "cell_type": "code",
   "execution_count": 75,
   "metadata": {},
   "outputs": [
    {
     "data": {
      "text/html": [
       "<div>\n",
       "<style scoped>\n",
       "    .dataframe tbody tr th:only-of-type {\n",
       "        vertical-align: middle;\n",
       "    }\n",
       "\n",
       "    .dataframe tbody tr th {\n",
       "        vertical-align: top;\n",
       "    }\n",
       "\n",
       "    .dataframe thead th {\n",
       "        text-align: right;\n",
       "    }\n",
       "</style>\n",
       "<table border=\"1\" class=\"dataframe\">\n",
       "  <thead>\n",
       "    <tr style=\"text-align: right;\">\n",
       "      <th></th>\n",
       "      <th>close</th>\n",
       "      <th>high</th>\n",
       "      <th>low</th>\n",
       "      <th>open</th>\n",
       "      <th>volume</th>\n",
       "    </tr>\n",
       "  </thead>\n",
       "  <tbody>\n",
       "    <tr>\n",
       "      <th>0</th>\n",
       "      <td>0.014326</td>\n",
       "      <td>0.014815</td>\n",
       "      <td>0.004435</td>\n",
       "      <td>0.004469</td>\n",
       "      <td>0.007554</td>\n",
       "    </tr>\n",
       "    <tr>\n",
       "      <th>1</th>\n",
       "      <td>0.005291</td>\n",
       "      <td>0.005007</td>\n",
       "      <td>0.002757</td>\n",
       "      <td>0.000304</td>\n",
       "      <td>0.005484</td>\n",
       "    </tr>\n",
       "    <tr>\n",
       "      <th>2</th>\n",
       "      <td>0.009151</td>\n",
       "      <td>0.006002</td>\n",
       "      <td>0.008425</td>\n",
       "      <td>0.002244</td>\n",
       "      <td>0.004020</td>\n",
       "    </tr>\n",
       "    <tr>\n",
       "      <th>3</th>\n",
       "      <td>0.014816</td>\n",
       "      <td>0.002746</td>\n",
       "      <td>0.006962</td>\n",
       "      <td>0.000056</td>\n",
       "      <td>0.008180</td>\n",
       "    </tr>\n",
       "    <tr>\n",
       "      <th>4</th>\n",
       "      <td>0.018141</td>\n",
       "      <td>0.010279</td>\n",
       "      <td>0.020280</td>\n",
       "      <td>0.002396</td>\n",
       "      <td>0.015210</td>\n",
       "    </tr>\n",
       "    <tr>\n",
       "      <th>...</th>\n",
       "      <td>...</td>\n",
       "      <td>...</td>\n",
       "      <td>...</td>\n",
       "      <td>...</td>\n",
       "      <td>...</td>\n",
       "    </tr>\n",
       "    <tr>\n",
       "      <th>1319</th>\n",
       "      <td>0.008775</td>\n",
       "      <td>0.008649</td>\n",
       "      <td>0.006316</td>\n",
       "      <td>0.001368</td>\n",
       "      <td>0.008175</td>\n",
       "    </tr>\n",
       "    <tr>\n",
       "      <th>1320</th>\n",
       "      <td>0.000555</td>\n",
       "      <td>0.010386</td>\n",
       "      <td>0.006761</td>\n",
       "      <td>0.005266</td>\n",
       "      <td>0.000123</td>\n",
       "    </tr>\n",
       "    <tr>\n",
       "      <th>1321</th>\n",
       "      <td>0.017440</td>\n",
       "      <td>0.003076</td>\n",
       "      <td>0.008730</td>\n",
       "      <td>0.001156</td>\n",
       "      <td>0.002402</td>\n",
       "    </tr>\n",
       "    <tr>\n",
       "      <th>1322</th>\n",
       "      <td>0.017946</td>\n",
       "      <td>0.001093</td>\n",
       "      <td>0.010928</td>\n",
       "      <td>0.003239</td>\n",
       "      <td>0.009740</td>\n",
       "    </tr>\n",
       "    <tr>\n",
       "      <th>1323</th>\n",
       "      <td>0.015221</td>\n",
       "      <td>0.003891</td>\n",
       "      <td>0.021703</td>\n",
       "      <td>0.013773</td>\n",
       "      <td>0.007272</td>\n",
       "    </tr>\n",
       "  </tbody>\n",
       "</table>\n",
       "<p>1324 rows × 5 columns</p>\n",
       "</div>"
      ],
      "text/plain": [
       "         close      high       low      open    volume\n",
       "0     0.014326  0.014815  0.004435  0.004469  0.007554\n",
       "1     0.005291  0.005007  0.002757  0.000304  0.005484\n",
       "2     0.009151  0.006002  0.008425  0.002244  0.004020\n",
       "3     0.014816  0.002746  0.006962  0.000056  0.008180\n",
       "4     0.018141  0.010279  0.020280  0.002396  0.015210\n",
       "...        ...       ...       ...       ...       ...\n",
       "1319  0.008775  0.008649  0.006316  0.001368  0.008175\n",
       "1320  0.000555  0.010386  0.006761  0.005266  0.000123\n",
       "1321  0.017440  0.003076  0.008730  0.001156  0.002402\n",
       "1322  0.017946  0.001093  0.010928  0.003239  0.009740\n",
       "1323  0.015221  0.003891  0.021703  0.013773  0.007272\n",
       "\n",
       "[1324 rows x 5 columns]"
      ]
     },
     "execution_count": 75,
     "metadata": {},
     "output_type": "execute_result"
    }
   ],
   "source": [
    "# error number of all columns\n",
    "error = np.abs(y_test - y_test_pred)\n",
    "error = pd.DataFrame(error, columns=['Close','High','Low','Open','Volume'])\n",
    "error"
   ]
  },
  {
   "cell_type": "code",
   "execution_count": 58,
   "metadata": {
    "ExecuteTime": {
     "end_time": "2024-10-15T17:06:04.074391Z",
     "start_time": "2024-10-15T17:06:03.732670Z"
    }
   },
   "outputs": [
    {
     "data": {
      "image/png": "[encoded data removed]",
      "text/plain": [
       "<Figure size 2500x500 with 5 Axes>"
      ]
     },
     "metadata": {},
     "output_type": "display_data"
    }
   ],
   "source": [
    "fig, ax = plt.subplots(nrows=1, ncols=5)\n",
    "fig.set_figwidth(25)\n",
    "fig.set_figheight(5)\n",
    "\n",
    "for i in range(5):\n",
    "    ax[i].plot(np.arange(y_train.shape[0], y_train.shape[0]+y_test.shape[0]),\n",
    "         y_test[:,i], color='black', label='test target')\n",
    "\n",
    "    ax[i].plot(np.arange(y_train.shape[0], y_train.shape[0]+y_test_pred.shape[0]),\n",
    "         y_test_pred[:,i], color='red', label='test prediction')\n",
    "\n",
    "    ax[i].set_xlabel('time [days]')\n",
    "    ax[i].set_ylabel('price')\n",
    "    ax[i].legend(loc='best')\n",
    "\n",
    "ax[0].set_title('future close prices')\n",
    "ax[1].set_title('future high prices')\n",
    "ax[2].set_title('future low prices')\n",
    "ax[3].set_title('future open prices')\n",
    "ax[4].set_title('future volume prices')\n",
    "\n",
    "plt.show()"
   ]
  },
  {
   "cell_type": "code",
   "execution_count": 59,
   "metadata": {
    "ExecuteTime": {
     "end_time": "2024-10-15T17:06:04.392262Z",
     "start_time": "2024-10-15T17:06:04.100573Z"
    }
   },
   "outputs": [
    {
     "ename": "RuntimeError",
     "evalue": "shape '[10, 5]' is invalid for input of size 495",
     "output_type": "error",
     "traceback": [
      "\u001b[1;31m---------------------------------------------------------------------------\u001b[0m",
      "\u001b[1;31mRuntimeError\u001b[0m                              Traceback (most recent call last)",
      "Cell \u001b[1;32mIn[59], line 20\u001b[0m\n\u001b[0;32m     17\u001b[0m         last_sequence \u001b[38;5;241m=\u001b[39m torch\u001b[38;5;241m.\u001b[39mcat((last_sequence, pred_i), dim\u001b[38;5;241m=\u001b[39m\u001b[38;5;241m1\u001b[39m)\n\u001b[0;32m     18\u001b[0m         last_sequence \u001b[38;5;241m=\u001b[39m last_sequence[:, \u001b[38;5;241m1\u001b[39m:, :]\n\u001b[1;32m---> 20\u001b[0m pred_days \u001b[38;5;241m=\u001b[39m \u001b[43mlast_sequence\u001b[49m\u001b[38;5;241;43m.\u001b[39;49m\u001b[43mreshape\u001b[49m\u001b[43m(\u001b[49m\u001b[43mPREDICT\u001b[49m\u001b[43m,\u001b[49m\u001b[43m \u001b[49m\u001b[38;5;241;43m5\u001b[39;49m\u001b[43m)\u001b[49m\u001b[38;5;241m.\u001b[39mnumpy()\n\u001b[0;32m     22\u001b[0m \u001b[38;5;66;03m# Inverse transform the predicted values\u001b[39;00m\n\u001b[0;32m     23\u001b[0m pred_days \u001b[38;5;241m=\u001b[39m scaler\u001b[38;5;241m.\u001b[39minverse_transform(pred_days)\n",
      "\u001b[1;31mRuntimeError\u001b[0m: shape '[10, 5]' is invalid for input of size 495"
     ]
    }
   ],
   "source": [
    "# Predicting the next 10 mins\n",
    "\n",
    "seq_len = 100\n",
    "sequences = []\n",
    "for index in range(len(test) - seq_len + 1): \n",
    "    sequences.append(test[index: index + seq_len])\n",
    "sequences = np.array(sequences)\n",
    "\n",
    "last_sequence = sequences[-1:, 1:, :]\n",
    "last_sequence = torch.from_numpy(last_sequence).float()\n",
    "\n",
    "# Generate predictions\n",
    "PREDICT = 10\n",
    "with torch.no_grad():\n",
    "    for i in range(PREDICT):\n",
    "        pred_i = model(last_sequence)\n",
    "        last_sequence = torch.cat((last_sequence, pred_i), dim=1)\n",
    "        last_sequence = last_sequence[:, 1:, :]\n",
    "\n",
    "pred_days = last_sequence.reshape(PREDICT, 5).numpy()\n",
    "\n",
    "# Inverse transform the predicted values\n",
    "pred_days = scaler.inverse_transform(pred_days)\n",
    "\n",
    "df_pred = pd.DataFrame(\n",
    "    data=pred_days,\n",
    "    columns=['<Open>', '<High>', '<Low>', '<Close>', '<Volume>']\n",
    ")\n",
    "\n",
    "df_pred"
   ]
  },
  {
   "cell_type": "code",
   "execution_count": null,
   "metadata": {
    "ExecuteTime": {
     "end_time": "2024-10-15T17:06:04.416846Z",
     "start_time": "2024-10-15T17:06:04.414801Z"
    }
   },
   "outputs": [],
   "source": [
    "# df_features = create_features(df_cleaned)\n",
    "\n",
    "# print('features', df_features.head())\n",
    "\n",
    "# plot_features(df_features, symbol='A')"
   ]
  }
 ],
 "metadata": {
  "kernelspec": {
   "display_name": "py4math",
   "language": "python",
   "name": "python3"
  },
  "language_info": {
   "codemirror_mode": {
    "name": "ipython",
    "version": 3
   },
   "file_extension": ".py",
   "mimetype": "text/x-python",
   "name": "python",
   "nbconvert_exporter": "python",
   "pygments_lexer": "ipython3",
   "version": "3.11.0"
  }
 },
 "nbformat": 4,
 "nbformat_minor": 2
}
