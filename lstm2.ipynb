{
 "cells": [
  {
   "cell_type": "code",
   "id": "9156bbbc37c5dfc6",
   "metadata": {
    "ExecuteTime": {
     "end_time": "2024-12-12T02:06:45.977665Z",
     "start_time": "2024-12-12T02:06:36.736944Z"
    }
   },
   "source": [
    "import pandas as pd\n",
    "import numpy as np\n",
    "from tensorflow.keras.models import Sequential\n",
    "from tensorflow.keras.layers import LSTM, Dense, Dropout\n",
    "from sklearn.metrics import mean_squared_error, mean_absolute_error\n",
    "import matplotlib.pyplot as plt"
   ],
   "outputs": [],
   "execution_count": 1
  },
  {
   "cell_type": "markdown",
   "id": "e9b05202fb40588d",
   "metadata": {},
   "source": [
    "#### Input (X): Sử dụng dữ liệu từ t-100 đến t để dự đoán giá trị Close tại bước t+1.\n",
    "#### Target (y): Lấy giá trị Close tại thời điểm t+1 làm mục tiêu.     \n",
    "#### LSTM sẽ sử dụng dữ liệu của 100 phút trước đó để dự đoán giá trị của phút tiếp theo.\n",
    "#### Giá trị dự đoán là giá Close tại thời điểm t+1."
   ]
  },
  {
   "cell_type": "code",
   "id": "d15d75f569a304b4",
   "metadata": {
    "ExecuteTime": {
     "end_time": "2024-12-12T02:06:50.705329Z",
     "start_time": "2024-12-12T02:06:46.017619Z"
    }
   },
   "source": [
    "import data as data_file\n",
    "\n",
    "X_train, X_test, y_train, y_test, scaler, data = data_file.main()\n",
    "\n",
    "print(\"Train size:\", X_train.shape, \"Test size:\", X_test.shape, \"Data size:\", data.shape)"
   ],
   "outputs": [
    {
     "name": "stderr",
     "output_type": "stream",
     "text": [
      "[*********************100%***********************]  1 of 1 completed\n",
      "[*********************100%***********************]  1 of 1 completed\n"
     ]
    },
    {
     "name": "stdout",
     "output_type": "stream",
     "text": [
      "Columns in the data: Index(['Adj Close', 'Close', 'High', 'Low', 'Open', 'Volume'], dtype='object')\n",
      "Columns in the data: Index(['Adj Close', 'Close', 'High', 'Low', 'Open', 'Volume'], dtype='object')\n",
      "           Adj Close          Close           High            Low  \\\n",
      "count   75004.000000   75004.000000   75004.000000   75004.000000   \n",
      "mean    86983.018834   86983.018834   86983.019438   86983.018834   \n",
      "std     12065.728442   12065.728442   12065.728906   12065.728442   \n",
      "min     65198.042969   65198.042969   65198.042969   65198.042969   \n",
      "25%     72531.271484   72531.271484   72531.271484   72531.271484   \n",
      "50%     96477.439955   96477.439955   96477.441262   96477.439955   \n",
      "75%     96477.439955   96477.439955   96477.441262   96477.439955   \n",
      "max    101899.515625  101899.515625  101899.515625  101899.515625   \n",
      "\n",
      "                Open        Volume  \n",
      "count   75004.000000  7.500400e+04  \n",
      "mean    86983.019438  1.913048e+07  \n",
      "std     12065.728906  1.079070e+08  \n",
      "min     65198.042969  0.000000e+00  \n",
      "25%     72531.271484  0.000000e+00  \n",
      "50%     96477.441262  2.029674e+07  \n",
      "75%     96477.441262  2.029674e+07  \n",
      "max    101899.515625  2.717911e+10  \n",
      "Number of NaN values in each column:\n",
      "Adj Close    0\n",
      "Close        0\n",
      "High         0\n",
      "Low          0\n",
      "Open         0\n",
      "Volume       0\n",
      "dtype: int64\n",
      "Check for inf/-inf values:\n",
      "Empty DataFrame\n",
      "Columns: [Adj Close, Close, High, Low, Open, Volume]\n",
      "Index: []\n",
      "Train size: (59923, 100, 6) Test size: (14981, 100, 6) Data size: (75004, 6)\n"
     ]
    }
   ],
   "execution_count": 2
  },
  {
   "cell_type": "code",
   "id": "7b61e3688f416c73",
   "metadata": {
    "ExecuteTime": {
     "end_time": "2024-12-12T04:00:10.339283Z",
     "start_time": "2024-12-12T02:06:50.758226Z"
    }
   },
   "source": [
    "model = Sequential()\n",
    "\n",
    "model.add(LSTM(128, activation='relu', return_sequences=True, kernel_initializer='glorot_uniform', input_shape=(X_train.shape[1], X_train.shape[2])))\n",
    "\n",
    "# Loại bỏ ngẫu nhiên 10% số nút trong quá trình huấn luyện để giảm overfitting.\n",
    "model.add(Dropout(0.1))\n",
    "\n",
    "# return_sequences=False nghĩa là tầng này chỉ giữ lại trạng thái cuối cùng của chuỗi (last hidden state).\n",
    "model.add(LSTM(64, activation='relu', return_sequences=False))\n",
    "model.add(Dropout(0.1))\n",
    "\n",
    "# Tầng đầu ra, dự đoán giá trị Close tại thời điểm t+1.\n",
    "model.add(Dense(1))\n",
    "\n",
    "# Compile mô hình\n",
    "model.compile(optimizer='adam', loss='mean_absolute_error', metrics=['mae'])\n",
    "\n",
    "print(model.summary())\n",
    "\n",
    "# Huấn luyện mô hình\n",
    "# Epoch: Số lần toàn bộ dữ liệu huấn luyện được duyệt qua (50 lần trong mô hình này).\n",
    "# Batch size: Số mẫu trong một lô dữ liệu được đưa vào mô hình cùng lúc (32 mẫu).\n",
    "model.fit(X_train, y_train, epochs=50, batch_size=32, validation_split=0.2, verbose=1)"
   ],
   "outputs": [
    {
     "name": "stderr",
     "output_type": "stream",
     "text": [
      "/Library/Frameworks/Python.framework/Versions/3.11/lib/python3.11/site-packages/keras/src/layers/rnn/rnn.py:200: UserWarning: Do not pass an `input_shape`/`input_dim` argument to a layer. When using Sequential models, prefer using an `Input(shape)` object as the first layer in the model instead.\n",
      "  super().__init__(**kwargs)\n"
     ]
    },
    {
     "data": {
      "text/plain": [
       "\u001B[1mModel: \"sequential\"\u001B[0m\n"
      ],
      "text/html": [
       "<pre style=\"white-space:pre;overflow-x:auto;line-height:normal;font-family:Menlo,'DejaVu Sans Mono',consolas,'Courier New',monospace\"><span style=\"font-weight: bold\">Model: \"sequential\"</span>\n",
       "</pre>\n"
      ]
     },
     "metadata": {},
     "output_type": "display_data"
    },
    {
     "data": {
      "text/plain": [
       "┏━━━━━━━━━━━━━━━━━━━━━━━━━━━━━━━━━┳━━━━━━━━━━━━━━━━━━━━━━━━┳━━━━━━━━━━━━━━━┓\n",
       "┃\u001B[1m \u001B[0m\u001B[1mLayer (type)                   \u001B[0m\u001B[1m \u001B[0m┃\u001B[1m \u001B[0m\u001B[1mOutput Shape          \u001B[0m\u001B[1m \u001B[0m┃\u001B[1m \u001B[0m\u001B[1m      Param #\u001B[0m\u001B[1m \u001B[0m┃\n",
       "┡━━━━━━━━━━━━━━━━━━━━━━━━━━━━━━━━━╇━━━━━━━━━━━━━━━━━━━━━━━━╇━━━━━━━━━━━━━━━┩\n",
       "│ lstm (\u001B[38;5;33mLSTM\u001B[0m)                     │ (\u001B[38;5;45mNone\u001B[0m, \u001B[38;5;34m100\u001B[0m, \u001B[38;5;34m128\u001B[0m)       │        \u001B[38;5;34m69,120\u001B[0m │\n",
       "├─────────────────────────────────┼────────────────────────┼───────────────┤\n",
       "│ dropout (\u001B[38;5;33mDropout\u001B[0m)               │ (\u001B[38;5;45mNone\u001B[0m, \u001B[38;5;34m100\u001B[0m, \u001B[38;5;34m128\u001B[0m)       │             \u001B[38;5;34m0\u001B[0m │\n",
       "├─────────────────────────────────┼────────────────────────┼───────────────┤\n",
       "│ lstm_1 (\u001B[38;5;33mLSTM\u001B[0m)                   │ (\u001B[38;5;45mNone\u001B[0m, \u001B[38;5;34m64\u001B[0m)             │        \u001B[38;5;34m49,408\u001B[0m │\n",
       "├─────────────────────────────────┼────────────────────────┼───────────────┤\n",
       "│ dropout_1 (\u001B[38;5;33mDropout\u001B[0m)             │ (\u001B[38;5;45mNone\u001B[0m, \u001B[38;5;34m64\u001B[0m)             │             \u001B[38;5;34m0\u001B[0m │\n",
       "├─────────────────────────────────┼────────────────────────┼───────────────┤\n",
       "│ dense (\u001B[38;5;33mDense\u001B[0m)                   │ (\u001B[38;5;45mNone\u001B[0m, \u001B[38;5;34m1\u001B[0m)              │            \u001B[38;5;34m65\u001B[0m │\n",
       "└─────────────────────────────────┴────────────────────────┴───────────────┘\n"
      ],
      "text/html": [
       "<pre style=\"white-space:pre;overflow-x:auto;line-height:normal;font-family:Menlo,'DejaVu Sans Mono',consolas,'Courier New',monospace\">┏━━━━━━━━━━━━━━━━━━━━━━━━━━━━━━━━━┳━━━━━━━━━━━━━━━━━━━━━━━━┳━━━━━━━━━━━━━━━┓\n",
       "┃<span style=\"font-weight: bold\"> Layer (type)                    </span>┃<span style=\"font-weight: bold\"> Output Shape           </span>┃<span style=\"font-weight: bold\">       Param # </span>┃\n",
       "┡━━━━━━━━━━━━━━━━━━━━━━━━━━━━━━━━━╇━━━━━━━━━━━━━━━━━━━━━━━━╇━━━━━━━━━━━━━━━┩\n",
       "│ lstm (<span style=\"color: #0087ff; text-decoration-color: #0087ff\">LSTM</span>)                     │ (<span style=\"color: #00d7ff; text-decoration-color: #00d7ff\">None</span>, <span style=\"color: #00af00; text-decoration-color: #00af00\">100</span>, <span style=\"color: #00af00; text-decoration-color: #00af00\">128</span>)       │        <span style=\"color: #00af00; text-decoration-color: #00af00\">69,120</span> │\n",
       "├─────────────────────────────────┼────────────────────────┼───────────────┤\n",
       "│ dropout (<span style=\"color: #0087ff; text-decoration-color: #0087ff\">Dropout</span>)               │ (<span style=\"color: #00d7ff; text-decoration-color: #00d7ff\">None</span>, <span style=\"color: #00af00; text-decoration-color: #00af00\">100</span>, <span style=\"color: #00af00; text-decoration-color: #00af00\">128</span>)       │             <span style=\"color: #00af00; text-decoration-color: #00af00\">0</span> │\n",
       "├─────────────────────────────────┼────────────────────────┼───────────────┤\n",
       "│ lstm_1 (<span style=\"color: #0087ff; text-decoration-color: #0087ff\">LSTM</span>)                   │ (<span style=\"color: #00d7ff; text-decoration-color: #00d7ff\">None</span>, <span style=\"color: #00af00; text-decoration-color: #00af00\">64</span>)             │        <span style=\"color: #00af00; text-decoration-color: #00af00\">49,408</span> │\n",
       "├─────────────────────────────────┼────────────────────────┼───────────────┤\n",
       "│ dropout_1 (<span style=\"color: #0087ff; text-decoration-color: #0087ff\">Dropout</span>)             │ (<span style=\"color: #00d7ff; text-decoration-color: #00d7ff\">None</span>, <span style=\"color: #00af00; text-decoration-color: #00af00\">64</span>)             │             <span style=\"color: #00af00; text-decoration-color: #00af00\">0</span> │\n",
       "├─────────────────────────────────┼────────────────────────┼───────────────┤\n",
       "│ dense (<span style=\"color: #0087ff; text-decoration-color: #0087ff\">Dense</span>)                   │ (<span style=\"color: #00d7ff; text-decoration-color: #00d7ff\">None</span>, <span style=\"color: #00af00; text-decoration-color: #00af00\">1</span>)              │            <span style=\"color: #00af00; text-decoration-color: #00af00\">65</span> │\n",
       "└─────────────────────────────────┴────────────────────────┴───────────────┘\n",
       "</pre>\n"
      ]
     },
     "metadata": {},
     "output_type": "display_data"
    },
    {
     "data": {
      "text/plain": [
       "\u001B[1m Total params: \u001B[0m\u001B[38;5;34m118,593\u001B[0m (463.25 KB)\n"
      ],
      "text/html": [
       "<pre style=\"white-space:pre;overflow-x:auto;line-height:normal;font-family:Menlo,'DejaVu Sans Mono',consolas,'Courier New',monospace\"><span style=\"font-weight: bold\"> Total params: </span><span style=\"color: #00af00; text-decoration-color: #00af00\">118,593</span> (463.25 KB)\n",
       "</pre>\n"
      ]
     },
     "metadata": {},
     "output_type": "display_data"
    },
    {
     "data": {
      "text/plain": [
       "\u001B[1m Trainable params: \u001B[0m\u001B[38;5;34m118,593\u001B[0m (463.25 KB)\n"
      ],
      "text/html": [
       "<pre style=\"white-space:pre;overflow-x:auto;line-height:normal;font-family:Menlo,'DejaVu Sans Mono',consolas,'Courier New',monospace\"><span style=\"font-weight: bold\"> Trainable params: </span><span style=\"color: #00af00; text-decoration-color: #00af00\">118,593</span> (463.25 KB)\n",
       "</pre>\n"
      ]
     },
     "metadata": {},
     "output_type": "display_data"
    },
    {
     "data": {
      "text/plain": [
       "\u001B[1m Non-trainable params: \u001B[0m\u001B[38;5;34m0\u001B[0m (0.00 B)\n"
      ],
      "text/html": [
       "<pre style=\"white-space:pre;overflow-x:auto;line-height:normal;font-family:Menlo,'DejaVu Sans Mono',consolas,'Courier New',monospace\"><span style=\"font-weight: bold\"> Non-trainable params: </span><span style=\"color: #00af00; text-decoration-color: #00af00\">0</span> (0.00 B)\n",
       "</pre>\n"
      ]
     },
     "metadata": {},
     "output_type": "display_data"
    },
    {
     "name": "stdout",
     "output_type": "stream",
     "text": [
      "None\n",
      "Epoch 1/50\n",
      "\u001B[1m1499/1499\u001B[0m \u001B[32m━━━━━━━━━━━━━━━━━━━━\u001B[0m\u001B[37m\u001B[0m \u001B[1m130s\u001B[0m 86ms/step - loss: 0.1191 - mae: 0.1191 - val_loss: 0.1082 - val_mae: 0.1082\n",
      "Epoch 2/50\n",
      "\u001B[1m1499/1499\u001B[0m \u001B[32m━━━━━━━━━━━━━━━━━━━━\u001B[0m\u001B[37m\u001B[0m \u001B[1m123s\u001B[0m 82ms/step - loss: 0.0947 - mae: 0.0947 - val_loss: 0.0833 - val_mae: 0.0833\n",
      "Epoch 3/50\n",
      "\u001B[1m1499/1499\u001B[0m \u001B[32m━━━━━━━━━━━━━━━━━━━━\u001B[0m\u001B[37m\u001B[0m \u001B[1m120s\u001B[0m 80ms/step - loss: 0.0919 - mae: 0.0919 - val_loss: 0.0782 - val_mae: 0.0782\n",
      "Epoch 4/50\n",
      "\u001B[1m1499/1499\u001B[0m \u001B[32m━━━━━━━━━━━━━━━━━━━━\u001B[0m\u001B[37m\u001B[0m \u001B[1m119s\u001B[0m 79ms/step - loss: 0.0905 - mae: 0.0905 - val_loss: 0.0815 - val_mae: 0.0815\n",
      "Epoch 5/50\n",
      "\u001B[1m1499/1499\u001B[0m \u001B[32m━━━━━━━━━━━━━━━━━━━━\u001B[0m\u001B[37m\u001B[0m \u001B[1m127s\u001B[0m 84ms/step - loss: 0.0902 - mae: 0.0902 - val_loss: 0.0835 - val_mae: 0.0835\n",
      "Epoch 6/50\n",
      "\u001B[1m1499/1499\u001B[0m \u001B[32m━━━━━━━━━━━━━━━━━━━━\u001B[0m\u001B[37m\u001B[0m \u001B[1m133s\u001B[0m 88ms/step - loss: 0.0897 - mae: 0.0897 - val_loss: 0.0744 - val_mae: 0.0744\n",
      "Epoch 7/50\n",
      "\u001B[1m1499/1499\u001B[0m \u001B[32m━━━━━━━━━━━━━━━━━━━━\u001B[0m\u001B[37m\u001B[0m \u001B[1m139s\u001B[0m 93ms/step - loss: 0.0886 - mae: 0.0886 - val_loss: 0.0818 - val_mae: 0.0818\n",
      "Epoch 8/50\n",
      "\u001B[1m1499/1499\u001B[0m \u001B[32m━━━━━━━━━━━━━━━━━━━━\u001B[0m\u001B[37m\u001B[0m \u001B[1m149s\u001B[0m 99ms/step - loss: 0.0868 - mae: 0.0868 - val_loss: 0.0792 - val_mae: 0.0792\n",
      "Epoch 9/50\n",
      "\u001B[1m1499/1499\u001B[0m \u001B[32m━━━━━━━━━━━━━━━━━━━━\u001B[0m\u001B[37m\u001B[0m \u001B[1m160s\u001B[0m 107ms/step - loss: 0.0885 - mae: 0.0885 - val_loss: 0.0757 - val_mae: 0.0757\n",
      "Epoch 10/50\n",
      "\u001B[1m1499/1499\u001B[0m \u001B[32m━━━━━━━━━━━━━━━━━━━━\u001B[0m\u001B[37m\u001B[0m \u001B[1m162s\u001B[0m 108ms/step - loss: 0.0863 - mae: 0.0863 - val_loss: 0.0763 - val_mae: 0.0763\n",
      "Epoch 11/50\n",
      "\u001B[1m1499/1499\u001B[0m \u001B[32m━━━━━━━━━━━━━━━━━━━━\u001B[0m\u001B[37m\u001B[0m \u001B[1m159s\u001B[0m 106ms/step - loss: 0.0857 - mae: 0.0857 - val_loss: 0.0875 - val_mae: 0.0875\n",
      "Epoch 12/50\n",
      "\u001B[1m1499/1499\u001B[0m \u001B[32m━━━━━━━━━━━━━━━━━━━━\u001B[0m\u001B[37m\u001B[0m \u001B[1m147s\u001B[0m 98ms/step - loss: 0.0860 - mae: 0.0860 - val_loss: 0.0747 - val_mae: 0.0747\n",
      "Epoch 13/50\n",
      "\u001B[1m1499/1499\u001B[0m \u001B[32m━━━━━━━━━━━━━━━━━━━━\u001B[0m\u001B[37m\u001B[0m \u001B[1m151s\u001B[0m 101ms/step - loss: 0.0860 - mae: 0.0860 - val_loss: 0.0749 - val_mae: 0.0749\n",
      "Epoch 14/50\n",
      "\u001B[1m1499/1499\u001B[0m \u001B[32m━━━━━━━━━━━━━━━━━━━━\u001B[0m\u001B[37m\u001B[0m \u001B[1m139s\u001B[0m 92ms/step - loss: 0.0864 - mae: 0.0864 - val_loss: 0.0736 - val_mae: 0.0736\n",
      "Epoch 15/50\n",
      "\u001B[1m1499/1499\u001B[0m \u001B[32m━━━━━━━━━━━━━━━━━━━━\u001B[0m\u001B[37m\u001B[0m \u001B[1m132s\u001B[0m 88ms/step - loss: 0.0857 - mae: 0.0857 - val_loss: 0.0797 - val_mae: 0.0797\n",
      "Epoch 16/50\n",
      "\u001B[1m1499/1499\u001B[0m \u001B[32m━━━━━━━━━━━━━━━━━━━━\u001B[0m\u001B[37m\u001B[0m \u001B[1m140s\u001B[0m 93ms/step - loss: 0.0857 - mae: 0.0857 - val_loss: 0.0699 - val_mae: 0.0699\n",
      "Epoch 17/50\n",
      "\u001B[1m1499/1499\u001B[0m \u001B[32m━━━━━━━━━━━━━━━━━━━━\u001B[0m\u001B[37m\u001B[0m \u001B[1m131s\u001B[0m 88ms/step - loss: 0.0848 - mae: 0.0848 - val_loss: 0.0718 - val_mae: 0.0718\n",
      "Epoch 18/50\n",
      "\u001B[1m1499/1499\u001B[0m \u001B[32m━━━━━━━━━━━━━━━━━━━━\u001B[0m\u001B[37m\u001B[0m \u001B[1m128s\u001B[0m 85ms/step - loss: 0.0833 - mae: 0.0833 - val_loss: 0.0775 - val_mae: 0.0775\n",
      "Epoch 19/50\n",
      "\u001B[1m1499/1499\u001B[0m \u001B[32m━━━━━━━━━━━━━━━━━━━━\u001B[0m\u001B[37m\u001B[0m \u001B[1m141s\u001B[0m 94ms/step - loss: 0.0867 - mae: 0.0867 - val_loss: 0.0765 - val_mae: 0.0765\n",
      "Epoch 20/50\n",
      "\u001B[1m1499/1499\u001B[0m \u001B[32m━━━━━━━━━━━━━━━━━━━━\u001B[0m\u001B[37m\u001B[0m \u001B[1m144s\u001B[0m 96ms/step - loss: 0.0852 - mae: 0.0852 - val_loss: 0.0706 - val_mae: 0.0706\n",
      "Epoch 21/50\n",
      "\u001B[1m1499/1499\u001B[0m \u001B[32m━━━━━━━━━━━━━━━━━━━━\u001B[0m\u001B[37m\u001B[0m \u001B[1m143s\u001B[0m 95ms/step - loss: 0.0845 - mae: 0.0845 - val_loss: 0.0742 - val_mae: 0.0742\n",
      "Epoch 22/50\n",
      "\u001B[1m1499/1499\u001B[0m \u001B[32m━━━━━━━━━━━━━━━━━━━━\u001B[0m\u001B[37m\u001B[0m \u001B[1m140s\u001B[0m 93ms/step - loss: 0.0827 - mae: 0.0827 - val_loss: 0.0749 - val_mae: 0.0749\n",
      "Epoch 23/50\n",
      "\u001B[1m1499/1499\u001B[0m \u001B[32m━━━━━━━━━━━━━━━━━━━━\u001B[0m\u001B[37m\u001B[0m \u001B[1m133s\u001B[0m 89ms/step - loss: 0.0846 - mae: 0.0846 - val_loss: 0.0749 - val_mae: 0.0749\n",
      "Epoch 24/50\n",
      "\u001B[1m1499/1499\u001B[0m \u001B[32m━━━━━━━━━━━━━━━━━━━━\u001B[0m\u001B[37m\u001B[0m \u001B[1m145s\u001B[0m 97ms/step - loss: 0.0843 - mae: 0.0843 - val_loss: 0.0704 - val_mae: 0.0704\n",
      "Epoch 25/50\n",
      "\u001B[1m1499/1499\u001B[0m \u001B[32m━━━━━━━━━━━━━━━━━━━━\u001B[0m\u001B[37m\u001B[0m \u001B[1m143s\u001B[0m 96ms/step - loss: 0.0817 - mae: 0.0817 - val_loss: 0.0703 - val_mae: 0.0703\n",
      "Epoch 26/50\n",
      "\u001B[1m1499/1499\u001B[0m \u001B[32m━━━━━━━━━━━━━━━━━━━━\u001B[0m\u001B[37m\u001B[0m \u001B[1m144s\u001B[0m 96ms/step - loss: 0.0869 - mae: 0.0869 - val_loss: 0.0734 - val_mae: 0.0734\n",
      "Epoch 27/50\n",
      "\u001B[1m1499/1499\u001B[0m \u001B[32m━━━━━━━━━━━━━━━━━━━━\u001B[0m\u001B[37m\u001B[0m \u001B[1m131s\u001B[0m 87ms/step - loss: 0.0846 - mae: 0.0846 - val_loss: 0.0753 - val_mae: 0.0753\n",
      "Epoch 28/50\n",
      "\u001B[1m1499/1499\u001B[0m \u001B[32m━━━━━━━━━━━━━━━━━━━━\u001B[0m\u001B[37m\u001B[0m \u001B[1m134s\u001B[0m 89ms/step - loss: 0.0831 - mae: 0.0831 - val_loss: 0.0711 - val_mae: 0.0711\n",
      "Epoch 29/50\n",
      "\u001B[1m1499/1499\u001B[0m \u001B[32m━━━━━━━━━━━━━━━━━━━━\u001B[0m\u001B[37m\u001B[0m \u001B[1m138s\u001B[0m 92ms/step - loss: 0.0837 - mae: 0.0837 - val_loss: 0.0745 - val_mae: 0.0745\n",
      "Epoch 30/50\n",
      "\u001B[1m1499/1499\u001B[0m \u001B[32m━━━━━━━━━━━━━━━━━━━━\u001B[0m\u001B[37m\u001B[0m \u001B[1m127s\u001B[0m 85ms/step - loss: 0.0836 - mae: 0.0836 - val_loss: 0.0786 - val_mae: 0.0786\n",
      "Epoch 31/50\n",
      "\u001B[1m1499/1499\u001B[0m \u001B[32m━━━━━━━━━━━━━━━━━━━━\u001B[0m\u001B[37m\u001B[0m \u001B[1m125s\u001B[0m 83ms/step - loss: 0.0849 - mae: 0.0849 - val_loss: 0.0736 - val_mae: 0.0736\n",
      "Epoch 32/50\n",
      "\u001B[1m1499/1499\u001B[0m \u001B[32m━━━━━━━━━━━━━━━━━━━━\u001B[0m\u001B[37m\u001B[0m \u001B[1m125s\u001B[0m 83ms/step - loss: 0.0838 - mae: 0.0838 - val_loss: 0.0753 - val_mae: 0.0753\n",
      "Epoch 33/50\n",
      "\u001B[1m1499/1499\u001B[0m \u001B[32m━━━━━━━━━━━━━━━━━━━━\u001B[0m\u001B[37m\u001B[0m \u001B[1m132s\u001B[0m 88ms/step - loss: 0.0869 - mae: 0.0869 - val_loss: 0.0734 - val_mae: 0.0734\n",
      "Epoch 34/50\n",
      "\u001B[1m1499/1499\u001B[0m \u001B[32m━━━━━━━━━━━━━━━━━━━━\u001B[0m\u001B[37m\u001B[0m \u001B[1m137s\u001B[0m 92ms/step - loss: 0.0850 - mae: 0.0850 - val_loss: 0.0744 - val_mae: 0.0744\n",
      "Epoch 35/50\n",
      "\u001B[1m1499/1499\u001B[0m \u001B[32m━━━━━━━━━━━━━━━━━━━━\u001B[0m\u001B[37m\u001B[0m \u001B[1m131s\u001B[0m 87ms/step - loss: 0.0850 - mae: 0.0850 - val_loss: 0.0814 - val_mae: 0.0814\n",
      "Epoch 36/50\n",
      "\u001B[1m1499/1499\u001B[0m \u001B[32m━━━━━━━━━━━━━━━━━━━━\u001B[0m\u001B[37m\u001B[0m \u001B[1m128s\u001B[0m 85ms/step - loss: 0.0855 - mae: 0.0855 - val_loss: 0.0738 - val_mae: 0.0738\n",
      "Epoch 37/50\n",
      "\u001B[1m1499/1499\u001B[0m \u001B[32m━━━━━━━━━━━━━━━━━━━━\u001B[0m\u001B[37m\u001B[0m \u001B[1m125s\u001B[0m 84ms/step - loss: 0.0844 - mae: 0.0844 - val_loss: 0.0689 - val_mae: 0.0689\n",
      "Epoch 38/50\n",
      "\u001B[1m1499/1499\u001B[0m \u001B[32m━━━━━━━━━━━━━━━━━━━━\u001B[0m\u001B[37m\u001B[0m \u001B[1m142s\u001B[0m 94ms/step - loss: 0.0817 - mae: 0.0817 - val_loss: 0.0734 - val_mae: 0.0734\n",
      "Epoch 39/50\n",
      "\u001B[1m1499/1499\u001B[0m \u001B[32m━━━━━━━━━━━━━━━━━━━━\u001B[0m\u001B[37m\u001B[0m \u001B[1m135s\u001B[0m 90ms/step - loss: 0.0838 - mae: 0.0838 - val_loss: 0.0707 - val_mae: 0.0707\n",
      "Epoch 40/50\n",
      "\u001B[1m1499/1499\u001B[0m \u001B[32m━━━━━━━━━━━━━━━━━━━━\u001B[0m\u001B[37m\u001B[0m \u001B[1m138s\u001B[0m 92ms/step - loss: 0.0841 - mae: 0.0841 - val_loss: 0.0678 - val_mae: 0.0678\n",
      "Epoch 41/50\n",
      "\u001B[1m1499/1499\u001B[0m \u001B[32m━━━━━━━━━━━━━━━━━━━━\u001B[0m\u001B[37m\u001B[0m \u001B[1m139s\u001B[0m 92ms/step - loss: 0.0837 - mae: 0.0837 - val_loss: 0.0717 - val_mae: 0.0717\n",
      "Epoch 42/50\n",
      "\u001B[1m1499/1499\u001B[0m \u001B[32m━━━━━━━━━━━━━━━━━━━━\u001B[0m\u001B[37m\u001B[0m \u001B[1m134s\u001B[0m 90ms/step - loss: 0.0829 - mae: 0.0829 - val_loss: 0.0747 - val_mae: 0.0747\n",
      "Epoch 43/50\n",
      "\u001B[1m1499/1499\u001B[0m \u001B[32m━━━━━━━━━━━━━━━━━━━━\u001B[0m\u001B[37m\u001B[0m \u001B[1m129s\u001B[0m 86ms/step - loss: 0.0829 - mae: 0.0829 - val_loss: 0.0721 - val_mae: 0.0721\n",
      "Epoch 44/50\n",
      "\u001B[1m1499/1499\u001B[0m \u001B[32m━━━━━━━━━━━━━━━━━━━━\u001B[0m\u001B[37m\u001B[0m \u001B[1m141s\u001B[0m 94ms/step - loss: 0.0827 - mae: 0.0827 - val_loss: 0.0683 - val_mae: 0.0683\n",
      "Epoch 45/50\n",
      "\u001B[1m1499/1499\u001B[0m \u001B[32m━━━━━━━━━━━━━━━━━━━━\u001B[0m\u001B[37m\u001B[0m \u001B[1m127s\u001B[0m 85ms/step - loss: 0.0824 - mae: 0.0824 - val_loss: 0.0719 - val_mae: 0.0719\n",
      "Epoch 46/50\n",
      "\u001B[1m1499/1499\u001B[0m \u001B[32m━━━━━━━━━━━━━━━━━━━━\u001B[0m\u001B[37m\u001B[0m \u001B[1m125s\u001B[0m 83ms/step - loss: 0.0813 - mae: 0.0813 - val_loss: 0.0699 - val_mae: 0.0699\n",
      "Epoch 47/50\n",
      "\u001B[1m1499/1499\u001B[0m \u001B[32m━━━━━━━━━━━━━━━━━━━━\u001B[0m\u001B[37m\u001B[0m \u001B[1m137s\u001B[0m 91ms/step - loss: 12.7023 - mae: 12.7023 - val_loss: 0.0747 - val_mae: 0.0747\n",
      "Epoch 48/50\n",
      "\u001B[1m1499/1499\u001B[0m \u001B[32m━━━━━━━━━━━━━━━━━━━━\u001B[0m\u001B[37m\u001B[0m \u001B[1m139s\u001B[0m 93ms/step - loss: 0.0838 - mae: 0.0838 - val_loss: 0.0739 - val_mae: 0.0739\n",
      "Epoch 49/50\n",
      "\u001B[1m1499/1499\u001B[0m \u001B[32m━━━━━━━━━━━━━━━━━━━━\u001B[0m\u001B[37m\u001B[0m \u001B[1m133s\u001B[0m 89ms/step - loss: 0.0846 - mae: 0.0846 - val_loss: 0.0722 - val_mae: 0.0722\n",
      "Epoch 50/50\n",
      "\u001B[1m1499/1499\u001B[0m \u001B[32m━━━━━━━━━━━━━━━━━━━━\u001B[0m\u001B[37m\u001B[0m \u001B[1m130s\u001B[0m 87ms/step - loss: 0.0840 - mae: 0.0840 - val_loss: 0.0719 - val_mae: 0.0719\n"
     ]
    },
    {
     "data": {
      "text/plain": [
       "<keras.src.callbacks.history.History at 0x1784d0350>"
      ]
     },
     "execution_count": 3,
     "metadata": {},
     "output_type": "execute_result"
    }
   ],
   "execution_count": 3
  },
  {
   "cell_type": "code",
   "id": "9d92771128e4305d",
   "metadata": {
    "ExecuteTime": {
     "end_time": "2024-12-12T04:00:24.051291Z",
     "start_time": "2024-12-12T04:00:10.461310Z"
    }
   },
   "source": [
    "y_pred = model.predict(X_test)\n",
    "\n",
    "print(\"Shape of predictions:\", y_pred.shape)"
   ],
   "outputs": [
    {
     "name": "stdout",
     "output_type": "stream",
     "text": [
      "\u001B[1m469/469\u001B[0m \u001B[32m━━━━━━━━━━━━━━━━━━━━\u001B[0m\u001B[37m\u001B[0m \u001B[1m13s\u001B[0m 28ms/step\n",
      "Shape of predictions: (14981, 1)\n"
     ]
    }
   ],
   "execution_count": 4
  },
  {
   "cell_type": "code",
   "id": "f02245f28af49769",
   "metadata": {
    "ExecuteTime": {
     "end_time": "2024-12-12T04:00:24.075925Z",
     "start_time": "2024-12-12T04:00:24.062340Z"
    }
   },
   "source": [
    "# Chuyển đổi giá trị dự đoán và thực tế về thang đo gốc\n",
    "y_pred_original = scaler.inverse_transform(np.concatenate((y_pred, np.zeros((y_pred.shape[0], data.shape[1] - 1))), axis=1))[:, 0]\n",
    "y_test_original = scaler.inverse_transform(np.concatenate((y_test.reshape(-1, 1), np.zeros((y_test.shape[0], data.shape[1] - 1))), axis=1))[:, 0]"
   ],
   "outputs": [],
   "execution_count": 5
  },
  {
   "cell_type": "code",
   "id": "f9d196e126809ef8",
   "metadata": {
    "ExecuteTime": {
     "end_time": "2024-12-12T06:35:53.061496Z",
     "start_time": "2024-12-12T06:35:53.055815Z"
    }
   },
   "source": [
    "mse_original = mean_squared_error(y_test_original, y_pred_original)\n",
    "rmse_original = np.sqrt(mse_original)\n",
    "mae_original = mean_absolute_error(y_test_original, y_pred_original)\n",
    "\n",
    "mse = mean_squared_error(y_test, y_pred)\n",
    "rmse = np.sqrt(mse)\n",
    "mae = mean_absolute_error(y_test, y_pred)\n",
    "\n",
    "print(f\"MSE Original: {mse_original}\")\n",
    "print(f\"RMSE Original: {rmse_original}\")\n",
    "print(f\"MAE Original: {mae_original}\")\n",
    "\n",
    "print(f\"MSE: {mse}\")\n",
    "print(f\"RMSE: {rmse}\")\n",
    "print(f\"MAE: {mae}\")"
   ],
   "outputs": [
    {
     "name": "stdout",
     "output_type": "stream",
     "text": [
      "MSE Original: 47494456.125197925\n",
      "RMSE Original: 6891.622169358817\n",
      "MAE Original: 2596.6445878600853\n",
      "MSE: 0.035259482768868304\n",
      "RMSE: 0.18777508559142853\n",
      "MAE: 0.07075041953167772\n"
     ]
    }
   ],
   "execution_count": 15
  },
  {
   "cell_type": "code",
   "id": "e2a0ba52c8000416",
   "metadata": {
    "ExecuteTime": {
     "end_time": "2024-12-12T06:37:23.278208Z",
     "start_time": "2024-12-12T06:37:22.539141Z"
    }
   },
   "source": [
    "# Giả sử data là DataFrame gốc chứa toàn bộ thông tin\n",
    "time_index_test = data.index[-len(X_test):]  # Lấy index cuối cùng tương ứng với X_test\n",
    "time_index_test = time_index_test.tz_localize(None)  # Loại bỏ timezone nếu có\n",
    "\n",
    "# Đặt thời gian dự đoán và đảm bảo không có timezone\n",
    "input_datetime = pd.Timestamp('2024-11-06 01:00').tz_localize(None)\n",
    "\n",
    "# Hàm lấy chỉ số gần nhất cho một thời gian nhập vào\n",
    "def get_test_record_by_datetime(input_datetime, time_index_test):\n",
    "    \"\"\"\n",
    "    Hàm tìm chỉ số gần nhất trong time_index_test cho thời gian nhập vào.\n",
    "    \"\"\"\n",
    "    time_diff = (time_index_test - input_datetime).total_seconds()  # Tính chênh lệch thời gian\n",
    "    closest_time_index = np.argmin(np.abs(time_diff))  # Tìm chỉ số có sự khác biệt nhỏ nhất\n",
    "    return closest_time_index\n",
    "\n",
    "def predict_future(input_datetime, X_test, y_test, time_index_test, model, scaler, num_minutes=10):\n",
    "    \"\"\"\n",
    "    Hàm thực hiện dự đoán trong num_minutes phút tiếp theo từ thời gian nhập vào.\n",
    "    \"\"\"\n",
    "    # Lấy index tương ứng với thời gian nhập vào\n",
    "    index_for_input = get_test_record_by_datetime(input_datetime, time_index_test)\n",
    "\n",
    "    # Lấy X_current tương ứng với chỉ số này\n",
    "    X_current = X_test[index_for_input]\n",
    "\n",
    "    # Khởi tạo danh sách kết quả\n",
    "    future_predictions = []\n",
    "    actual_values = []\n",
    "    errors = []\n",
    "\n",
    "    # Dự đoán liên tục trong num_minutes phút\n",
    "    for i in range(num_minutes):\n",
    "        # Dự đoán giá trị tiếp theo\n",
    "        next_pred = model.predict(X_current.reshape(1, X_current.shape[0], X_current.shape[1]), verbose=0)[0, 0]\n",
    "\n",
    "        # Lấy giá trị thực tế từ y_test\n",
    "        actual_value = y_test[index_for_input + i] if index_for_input + i < len(y_test) else None\n",
    "\n",
    "        # Tính sai số tuyệt đối giữa dự đoán và giá trị thực tế (nếu có)\n",
    "        error = np.abs(next_pred - actual_value) if actual_value is not None else None\n",
    "\n",
    "        # Thêm giá trị dự đoán, giá trị thực tế và sai số vào danh sách\n",
    "        future_predictions.append(next_pred)\n",
    "        actual_values.append(actual_value)\n",
    "        errors.append(error)\n",
    "\n",
    "        # Cập nhật đầu vào cho lần dự đoán tiếp theo\n",
    "        X_current = np.roll(X_current, -1, axis=0)  # Lăn dữ liệu về bên trái (giữ lại 99 bước trước đó)\n",
    "        X_current[-1] = np.array([next_pred] * X_current.shape[1])  # Thay thế giá trị cuối cùng bằng dự đoán mới\n",
    "\n",
    "    # Chuyển đổi giá trị thật (Actual) về thang đo gốc\n",
    "    actual_values_array = np.array([v if v is not None else 0 for v in actual_values]).reshape(-1, 1)\n",
    "    actual_values_extended = np.zeros((len(actual_values), X_test.shape[2]))\n",
    "    actual_values_extended[:, 0] = actual_values_array[:, 0]\n",
    "    actual_values_original = scaler.inverse_transform(actual_values_extended)[:, 0]\n",
    "\n",
    "    # Chuyển đổi giá trị dự đoán (Predicted) về thang đo gốc\n",
    "    future_predictions_array = np.array(future_predictions).reshape(-1, 1)\n",
    "    future_predictions_extended = np.zeros((len(future_predictions), X_test.shape[2]))\n",
    "    future_predictions_extended[:, 0] = future_predictions_array[:, 0]\n",
    "    future_predictions_original = scaler.inverse_transform(future_predictions_extended)[:, 0]\n",
    "\n",
    "    # Chuyển đổi sai số (Error) về thang đo gốc\n",
    "    errors_original = np.abs(actual_values_original - future_predictions_original)\n",
    "\n",
    "    # Tạo DataFrame để hiển thị các giá trị dự đoán, giá trị thực tế và sai số\n",
    "    future_df = pd.DataFrame({\n",
    "        \"Thời gian\": time_index_test[index_for_input:index_for_input + num_minutes],\n",
    "        \"Dự đoán (Predicted)\": future_predictions_original,\n",
    "        \"Giá trị thật (Actual)\": actual_values_original,\n",
    "        \"Sai số (Error)\": errors_original\n",
    "    })\n",
    "\n",
    "    # Hiển thị kết quả dự đoán, giá trị thật và sai số\n",
    "    print(future_df.to_string(index=False))\n",
    "\n",
    "    # Vẽ biểu đồ kết quả\n",
    "    plt.figure(figsize=(10, 6))\n",
    "    plt.plot(future_df[\"Thời gian\"], future_df[\"Dự đoán (Predicted)\"], marker='o', label=\"Dự đoán\", color='b')\n",
    "    plt.plot(future_df[\"Thời gian\"], future_df[\"Giá trị thật (Actual)\"], marker='x', label=\"Giá trị thật\", color='g')\n",
    "    plt.xlabel('Thời gian')\n",
    "    plt.ylabel('Giá trị')\n",
    "    plt.title('Dự đoán và giá trị thật trong {} phút tiếp theo'.format(num_minutes))\n",
    "    plt.legend()\n",
    "    plt.xticks(rotation=45)\n",
    "    plt.grid(True)\n",
    "    plt.tight_layout()\n",
    "    plt.show()\n",
    "\n",
    "# Gọi hàm dự đoán\n",
    "predict_future(input_datetime, X_test, y_test, time_index_test, model, scaler, num_minutes=10)\n"
   ],
   "outputs": [
    {
     "name": "stdout",
     "output_type": "stream",
     "text": [
      "          Thời gian  Dự đoán (Predicted)  Giá trị thật (Actual)  Sai số (Error)\n",
      "2024-12-01 16:23:00         69131.402711           96477.439955    27346.037244\n",
      "2024-12-01 16:24:00         69102.027910           86704.485060    17602.457150\n",
      "2024-12-01 16:25:00         69116.945006           68380.257812      736.687194\n",
      "2024-12-01 16:26:00         69196.475507           96477.439955    27280.964448\n",
      "2024-12-01 16:27:00         69335.375787           96477.439955    27142.064168\n",
      "2024-12-01 16:28:00         69492.012952           96477.439955    26985.427003\n",
      "2024-12-01 16:29:00         69652.374469           96477.439955    26825.065486\n",
      "2024-12-01 16:30:00         69804.936175           96477.439955    26672.503780\n",
      "2024-12-01 16:31:00         69951.304848           68981.492188      969.812660\n",
      "2024-12-01 16:32:00         70092.836785           71201.070312     1108.233528\n"
     ]
    },
    {
     "data": {
      "text/plain": [
       "<Figure size 1000x600 with 1 Axes>"
      ],
      "image/png": "[encoded data removed]"
     },
     "metadata": {},
     "output_type": "display_data"
    }
   ],
   "execution_count": 17
  }
 ],
 "metadata": {
  "kernelspec": {
   "display_name": "Python 3",
   "language": "python",
   "name": "python3"
  },
  "language_info": {
   "codemirror_mode": {
    "name": "ipython",
    "version": 3
   },
   "file_extension": ".py",
   "mimetype": "text/x-python",
   "name": "python",
   "nbconvert_exporter": "python",
   "pygments_lexer": "ipython3",
   "version": "3.11.0"
  }
 },
 "nbformat": 4,
 "nbformat_minor": 5
}
