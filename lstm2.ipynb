{
 "cells": [
  {
   "cell_type": "code",
   "id": "9156bbbc37c5dfc6",
   "metadata": {
    "ExecuteTime": {
     "end_time": "2024-12-26T15:04:40.337347Z",
     "start_time": "2024-12-26T15:04:36.374801Z"
    }
   },
   "source": [
    "import pandas as pd\n",
    "import numpy as np\n",
    "from tensorflow.keras.models import Sequential\n",
    "from tensorflow.keras.layers import LSTM, Dense, Dropout\n",
    "from sklearn.metrics import mean_squared_error, mean_absolute_error\n",
    "import matplotlib.pyplot as plt"
   ],
   "outputs": [],
   "execution_count": 1
  },
  {
   "cell_type": "markdown",
   "id": "e9b05202fb40588d",
   "metadata": {},
   "source": [
    "#### Input (X): Sử dụng dữ liệu từ t-100 đến t để dự đoán giá trị Close tại bước t+1.\n",
    "#### Target (y): Lấy giá trị Close tại thời điểm t+1 làm mục tiêu.     \n",
    "#### LSTM sẽ sử dụng dữ liệu của 100 phút trước đó để dự đoán giá trị của phút tiếp theo.\n",
    "#### Giá trị dự đoán là giá Close tại thời điểm t+1."
   ]
  },
  {
   "cell_type": "code",
   "id": "d15d75f569a304b4",
   "metadata": {
    "ExecuteTime": {
     "end_time": "2024-12-26T16:00:38.646790Z",
     "start_time": "2024-12-26T16:00:38.401524Z"
    }
   },
   "source": [
    "import data2 as data_file\n",
    "\n",
    "X_train, X_test, y_train, y_test, scaler, data = data_file.splitData()\n",
    "\n",
    "# print(X_train[:5])\n",
    "# print(X_test[:5])\n",
    "\n",
    "print(\"Train size:\", X_train.shape, \"Test size:\", X_test.shape, \"Data size:\", data.shape)"
   ],
   "outputs": [
    {
     "name": "stdout",
     "output_type": "stream",
     "text": [
      "Columns in the data: Index(['Adj Close', 'Close', 'High', 'Low', 'Open', 'Volume'], dtype='object')\n",
      "Columns in the data: Index(['Adj Close', 'Close', 'High', 'Low', 'Open', 'Volume'], dtype='object')\n",
      "         Adj Close        Close         High          Low         Open  \\\n",
      "count  8372.000000  8372.000000  8372.000000  8372.000000  8372.000000   \n",
      "mean    239.847229   239.847229   239.917474   239.772625   239.842623   \n",
      "std       8.294663     8.294663     8.293444     8.297406     8.295736   \n",
      "min     225.873001   225.873001   226.029999   225.179993   225.199997   \n",
      "25%     230.393780   230.393780   230.439896   230.330002   230.389999   \n",
      "50%     242.089996   242.089996   242.130005   242.044998   242.089600   \n",
      "75%     247.179993   247.179993   247.250000   247.100006   247.175003   \n",
      "max     253.678696   253.678696   253.809998   253.600006   253.679993   \n",
      "\n",
      "             Volume  \n",
      "count  8.372000e+03  \n",
      "mean   9.089058e+04  \n",
      "std    1.790603e+05  \n",
      "min    0.000000e+00  \n",
      "25%    3.430225e+04  \n",
      "50%    4.953900e+04  \n",
      "75%    7.935000e+04  \n",
      "max    3.242521e+06  \n",
      "Number of NaN values in each column:\n",
      "Adj Close    0\n",
      "Close        0\n",
      "High         0\n",
      "Low          0\n",
      "Open         0\n",
      "Volume       0\n",
      "dtype: int64\n",
      "Check for inf/-inf values:\n",
      "Empty DataFrame\n",
      "Columns: [Adj Close, Close, High, Low, Open, Volume]\n",
      "Index: []\n",
      "Train size: (6617, 100, 6) Test size: (1655, 100, 6) Data size: (8372, 6)\n"
     ]
    }
   ],
   "execution_count": 24
  },
  {
   "metadata": {},
   "cell_type": "code",
   "outputs": [],
   "execution_count": null,
   "source": "print(data.head())",
   "id": "59f505a9bf58c22d"
  },
  {
   "cell_type": "code",
   "id": "7b61e3688f416c73",
   "metadata": {
    "ExecuteTime": {
     "end_time": "2024-12-26T15:15:51.723070Z",
     "start_time": "2024-12-26T15:04:41.033111Z"
    }
   },
   "source": [
    "model = Sequential()\n",
    "\n",
    "model.add(LSTM(128, activation='relu', return_sequences=True, kernel_initializer='glorot_uniform', input_shape=(X_train.shape[1], X_train.shape[2])))\n",
    "\n",
    "# Loại bỏ ngẫu nhiên 10% số nút trong quá trình huấn luyện để giảm overfitting.\n",
    "model.add(Dropout(0.1))\n",
    "\n",
    "# return_sequences=False nghĩa là tầng này chỉ giữ lại trạng thái cuối cùng của chuỗi (last hidden state).\n",
    "model.add(LSTM(64, activation='relu', return_sequences=False))\n",
    "model.add(Dropout(0.1))\n",
    "\n",
    "# Tầng đầu ra, dự đoán giá trị Close tại thời điểm t+1.\n",
    "model.add(Dense(1))\n",
    "\n",
    "# Compile mô hình\n",
    "model.compile(optimizer='adam', loss='mean_absolute_error', metrics=['mae'])\n",
    "\n",
    "print(model.summary())\n",
    "\n",
    "# Huấn luyện mô hình\n",
    "# Epoch: Số lần toàn bộ dữ liệu huấn luyện được duyệt qua (50 lần trong mô hình này).\n",
    "# Batch size: Số mẫu trong một lô dữ liệu được đưa vào mô hình cùng lúc (32 mẫu).\n",
    "model.fit(X_train, y_train, epochs=50, batch_size=32, validation_split=0.2, verbose=1)"
   ],
   "outputs": [
    {
     "name": "stderr",
     "output_type": "stream",
     "text": [
      "/Library/Frameworks/Python.framework/Versions/3.11/lib/python3.11/site-packages/keras/src/layers/rnn/rnn.py:200: UserWarning: Do not pass an `input_shape`/`input_dim` argument to a layer. When using Sequential models, prefer using an `Input(shape)` object as the first layer in the model instead.\n",
      "  super().__init__(**kwargs)\n"
     ]
    },
    {
     "data": {
      "text/plain": [
       "\u001B[1mModel: \"sequential\"\u001B[0m\n"
      ],
      "text/html": [
       "<pre style=\"white-space:pre;overflow-x:auto;line-height:normal;font-family:Menlo,'DejaVu Sans Mono',consolas,'Courier New',monospace\"><span style=\"font-weight: bold\">Model: \"sequential\"</span>\n",
       "</pre>\n"
      ]
     },
     "metadata": {},
     "output_type": "display_data"
    },
    {
     "data": {
      "text/plain": [
       "┏━━━━━━━━━━━━━━━━━━━━━━━━━━━━━━━━━┳━━━━━━━━━━━━━━━━━━━━━━━━┳━━━━━━━━━━━━━━━┓\n",
       "┃\u001B[1m \u001B[0m\u001B[1mLayer (type)                   \u001B[0m\u001B[1m \u001B[0m┃\u001B[1m \u001B[0m\u001B[1mOutput Shape          \u001B[0m\u001B[1m \u001B[0m┃\u001B[1m \u001B[0m\u001B[1m      Param #\u001B[0m\u001B[1m \u001B[0m┃\n",
       "┡━━━━━━━━━━━━━━━━━━━━━━━━━━━━━━━━━╇━━━━━━━━━━━━━━━━━━━━━━━━╇━━━━━━━━━━━━━━━┩\n",
       "│ lstm (\u001B[38;5;33mLSTM\u001B[0m)                     │ (\u001B[38;5;45mNone\u001B[0m, \u001B[38;5;34m100\u001B[0m, \u001B[38;5;34m128\u001B[0m)       │        \u001B[38;5;34m69,120\u001B[0m │\n",
       "├─────────────────────────────────┼────────────────────────┼───────────────┤\n",
       "│ dropout (\u001B[38;5;33mDropout\u001B[0m)               │ (\u001B[38;5;45mNone\u001B[0m, \u001B[38;5;34m100\u001B[0m, \u001B[38;5;34m128\u001B[0m)       │             \u001B[38;5;34m0\u001B[0m │\n",
       "├─────────────────────────────────┼────────────────────────┼───────────────┤\n",
       "│ lstm_1 (\u001B[38;5;33mLSTM\u001B[0m)                   │ (\u001B[38;5;45mNone\u001B[0m, \u001B[38;5;34m64\u001B[0m)             │        \u001B[38;5;34m49,408\u001B[0m │\n",
       "├─────────────────────────────────┼────────────────────────┼───────────────┤\n",
       "│ dropout_1 (\u001B[38;5;33mDropout\u001B[0m)             │ (\u001B[38;5;45mNone\u001B[0m, \u001B[38;5;34m64\u001B[0m)             │             \u001B[38;5;34m0\u001B[0m │\n",
       "├─────────────────────────────────┼────────────────────────┼───────────────┤\n",
       "│ dense (\u001B[38;5;33mDense\u001B[0m)                   │ (\u001B[38;5;45mNone\u001B[0m, \u001B[38;5;34m1\u001B[0m)              │            \u001B[38;5;34m65\u001B[0m │\n",
       "└─────────────────────────────────┴────────────────────────┴───────────────┘\n"
      ],
      "text/html": [
       "<pre style=\"white-space:pre;overflow-x:auto;line-height:normal;font-family:Menlo,'DejaVu Sans Mono',consolas,'Courier New',monospace\">┏━━━━━━━━━━━━━━━━━━━━━━━━━━━━━━━━━┳━━━━━━━━━━━━━━━━━━━━━━━━┳━━━━━━━━━━━━━━━┓\n",
       "┃<span style=\"font-weight: bold\"> Layer (type)                    </span>┃<span style=\"font-weight: bold\"> Output Shape           </span>┃<span style=\"font-weight: bold\">       Param # </span>┃\n",
       "┡━━━━━━━━━━━━━━━━━━━━━━━━━━━━━━━━━╇━━━━━━━━━━━━━━━━━━━━━━━━╇━━━━━━━━━━━━━━━┩\n",
       "│ lstm (<span style=\"color: #0087ff; text-decoration-color: #0087ff\">LSTM</span>)                     │ (<span style=\"color: #00d7ff; text-decoration-color: #00d7ff\">None</span>, <span style=\"color: #00af00; text-decoration-color: #00af00\">100</span>, <span style=\"color: #00af00; text-decoration-color: #00af00\">128</span>)       │        <span style=\"color: #00af00; text-decoration-color: #00af00\">69,120</span> │\n",
       "├─────────────────────────────────┼────────────────────────┼───────────────┤\n",
       "│ dropout (<span style=\"color: #0087ff; text-decoration-color: #0087ff\">Dropout</span>)               │ (<span style=\"color: #00d7ff; text-decoration-color: #00d7ff\">None</span>, <span style=\"color: #00af00; text-decoration-color: #00af00\">100</span>, <span style=\"color: #00af00; text-decoration-color: #00af00\">128</span>)       │             <span style=\"color: #00af00; text-decoration-color: #00af00\">0</span> │\n",
       "├─────────────────────────────────┼────────────────────────┼───────────────┤\n",
       "│ lstm_1 (<span style=\"color: #0087ff; text-decoration-color: #0087ff\">LSTM</span>)                   │ (<span style=\"color: #00d7ff; text-decoration-color: #00d7ff\">None</span>, <span style=\"color: #00af00; text-decoration-color: #00af00\">64</span>)             │        <span style=\"color: #00af00; text-decoration-color: #00af00\">49,408</span> │\n",
       "├─────────────────────────────────┼────────────────────────┼───────────────┤\n",
       "│ dropout_1 (<span style=\"color: #0087ff; text-decoration-color: #0087ff\">Dropout</span>)             │ (<span style=\"color: #00d7ff; text-decoration-color: #00d7ff\">None</span>, <span style=\"color: #00af00; text-decoration-color: #00af00\">64</span>)             │             <span style=\"color: #00af00; text-decoration-color: #00af00\">0</span> │\n",
       "├─────────────────────────────────┼────────────────────────┼───────────────┤\n",
       "│ dense (<span style=\"color: #0087ff; text-decoration-color: #0087ff\">Dense</span>)                   │ (<span style=\"color: #00d7ff; text-decoration-color: #00d7ff\">None</span>, <span style=\"color: #00af00; text-decoration-color: #00af00\">1</span>)              │            <span style=\"color: #00af00; text-decoration-color: #00af00\">65</span> │\n",
       "└─────────────────────────────────┴────────────────────────┴───────────────┘\n",
       "</pre>\n"
      ]
     },
     "metadata": {},
     "output_type": "display_data"
    },
    {
     "data": {
      "text/plain": [
       "\u001B[1m Total params: \u001B[0m\u001B[38;5;34m118,593\u001B[0m (463.25 KB)\n"
      ],
      "text/html": [
       "<pre style=\"white-space:pre;overflow-x:auto;line-height:normal;font-family:Menlo,'DejaVu Sans Mono',consolas,'Courier New',monospace\"><span style=\"font-weight: bold\"> Total params: </span><span style=\"color: #00af00; text-decoration-color: #00af00\">118,593</span> (463.25 KB)\n",
       "</pre>\n"
      ]
     },
     "metadata": {},
     "output_type": "display_data"
    },
    {
     "data": {
      "text/plain": [
       "\u001B[1m Trainable params: \u001B[0m\u001B[38;5;34m118,593\u001B[0m (463.25 KB)\n"
      ],
      "text/html": [
       "<pre style=\"white-space:pre;overflow-x:auto;line-height:normal;font-family:Menlo,'DejaVu Sans Mono',consolas,'Courier New',monospace\"><span style=\"font-weight: bold\"> Trainable params: </span><span style=\"color: #00af00; text-decoration-color: #00af00\">118,593</span> (463.25 KB)\n",
       "</pre>\n"
      ]
     },
     "metadata": {},
     "output_type": "display_data"
    },
    {
     "data": {
      "text/plain": [
       "\u001B[1m Non-trainable params: \u001B[0m\u001B[38;5;34m0\u001B[0m (0.00 B)\n"
      ],
      "text/html": [
       "<pre style=\"white-space:pre;overflow-x:auto;line-height:normal;font-family:Menlo,'DejaVu Sans Mono',consolas,'Courier New',monospace\"><span style=\"font-weight: bold\"> Non-trainable params: </span><span style=\"color: #00af00; text-decoration-color: #00af00\">0</span> (0.00 B)\n",
       "</pre>\n"
      ]
     },
     "metadata": {},
     "output_type": "display_data"
    },
    {
     "name": "stdout",
     "output_type": "stream",
     "text": [
      "None\n",
      "Epoch 1/50\n",
      "\u001B[1m166/166\u001B[0m \u001B[32m━━━━━━━━━━━━━━━━━━━━\u001B[0m\u001B[37m\u001B[0m \u001B[1m14s\u001B[0m 77ms/step - loss: 0.0893 - mae: 0.0893 - val_loss: 0.0190 - val_mae: 0.0190\n",
      "Epoch 2/50\n",
      "\u001B[1m166/166\u001B[0m \u001B[32m━━━━━━━━━━━━━━━━━━━━\u001B[0m\u001B[37m\u001B[0m \u001B[1m13s\u001B[0m 79ms/step - loss: 0.0355 - mae: 0.0355 - val_loss: 0.0096 - val_mae: 0.0096\n",
      "Epoch 3/50\n",
      "\u001B[1m166/166\u001B[0m \u001B[32m━━━━━━━━━━━━━━━━━━━━\u001B[0m\u001B[37m\u001B[0m \u001B[1m13s\u001B[0m 78ms/step - loss: 0.0326 - mae: 0.0326 - val_loss: 0.0082 - val_mae: 0.0082\n",
      "Epoch 4/50\n",
      "\u001B[1m166/166\u001B[0m \u001B[32m━━━━━━━━━━━━━━━━━━━━\u001B[0m\u001B[37m\u001B[0m \u001B[1m13s\u001B[0m 80ms/step - loss: 0.0312 - mae: 0.0312 - val_loss: 0.0119 - val_mae: 0.0119\n",
      "Epoch 5/50\n",
      "\u001B[1m166/166\u001B[0m \u001B[32m━━━━━━━━━━━━━━━━━━━━\u001B[0m\u001B[37m\u001B[0m \u001B[1m13s\u001B[0m 79ms/step - loss: 0.0288 - mae: 0.0288 - val_loss: 0.0082 - val_mae: 0.0082\n",
      "Epoch 6/50\n",
      "\u001B[1m166/166\u001B[0m \u001B[32m━━━━━━━━━━━━━━━━━━━━\u001B[0m\u001B[37m\u001B[0m \u001B[1m13s\u001B[0m 79ms/step - loss: 0.0286 - mae: 0.0286 - val_loss: 0.0065 - val_mae: 0.0065\n",
      "Epoch 7/50\n",
      "\u001B[1m166/166\u001B[0m \u001B[32m━━━━━━━━━━━━━━━━━━━━\u001B[0m\u001B[37m\u001B[0m \u001B[1m13s\u001B[0m 78ms/step - loss: 0.0270 - mae: 0.0270 - val_loss: 0.0147 - val_mae: 0.0147\n",
      "Epoch 8/50\n",
      "\u001B[1m166/166\u001B[0m \u001B[32m━━━━━━━━━━━━━━━━━━━━\u001B[0m\u001B[37m\u001B[0m \u001B[1m13s\u001B[0m 78ms/step - loss: 0.0264 - mae: 0.0264 - val_loss: 0.0252 - val_mae: 0.0252\n",
      "Epoch 9/50\n",
      "\u001B[1m166/166\u001B[0m \u001B[32m━━━━━━━━━━━━━━━━━━━━\u001B[0m\u001B[37m\u001B[0m \u001B[1m13s\u001B[0m 79ms/step - loss: 0.0260 - mae: 0.0260 - val_loss: 0.0160 - val_mae: 0.0160\n",
      "Epoch 10/50\n",
      "\u001B[1m166/166\u001B[0m \u001B[32m━━━━━━━━━━━━━━━━━━━━\u001B[0m\u001B[37m\u001B[0m \u001B[1m14s\u001B[0m 83ms/step - loss: 0.0251 - mae: 0.0251 - val_loss: 0.0064 - val_mae: 0.0064\n",
      "Epoch 11/50\n",
      "\u001B[1m166/166\u001B[0m \u001B[32m━━━━━━━━━━━━━━━━━━━━\u001B[0m\u001B[37m\u001B[0m \u001B[1m13s\u001B[0m 81ms/step - loss: 0.0258 - mae: 0.0258 - val_loss: 0.0060 - val_mae: 0.0060\n",
      "Epoch 12/50\n",
      "\u001B[1m166/166\u001B[0m \u001B[32m━━━━━━━━━━━━━━━━━━━━\u001B[0m\u001B[37m\u001B[0m \u001B[1m13s\u001B[0m 79ms/step - loss: 0.0244 - mae: 0.0244 - val_loss: 0.0088 - val_mae: 0.0088\n",
      "Epoch 13/50\n",
      "\u001B[1m166/166\u001B[0m \u001B[32m━━━━━━━━━━━━━━━━━━━━\u001B[0m\u001B[37m\u001B[0m \u001B[1m13s\u001B[0m 80ms/step - loss: 0.0247 - mae: 0.0247 - val_loss: 0.0218 - val_mae: 0.0218\n",
      "Epoch 14/50\n",
      "\u001B[1m166/166\u001B[0m \u001B[32m━━━━━━━━━━━━━━━━━━━━\u001B[0m\u001B[37m\u001B[0m \u001B[1m13s\u001B[0m 79ms/step - loss: 0.0231 - mae: 0.0231 - val_loss: 0.0193 - val_mae: 0.0193\n",
      "Epoch 15/50\n",
      "\u001B[1m166/166\u001B[0m \u001B[32m━━━━━━━━━━━━━━━━━━━━\u001B[0m\u001B[37m\u001B[0m \u001B[1m13s\u001B[0m 80ms/step - loss: 0.0249 - mae: 0.0249 - val_loss: 0.0057 - val_mae: 0.0057\n",
      "Epoch 16/50\n",
      "\u001B[1m166/166\u001B[0m \u001B[32m━━━━━━━━━━━━━━━━━━━━\u001B[0m\u001B[37m\u001B[0m \u001B[1m13s\u001B[0m 81ms/step - loss: 0.0232 - mae: 0.0232 - val_loss: 0.0111 - val_mae: 0.0111\n",
      "Epoch 17/50\n",
      "\u001B[1m166/166\u001B[0m \u001B[32m━━━━━━━━━━━━━━━━━━━━\u001B[0m\u001B[37m\u001B[0m \u001B[1m13s\u001B[0m 80ms/step - loss: 0.0238 - mae: 0.0238 - val_loss: 0.0065 - val_mae: 0.0065\n",
      "Epoch 18/50\n",
      "\u001B[1m166/166\u001B[0m \u001B[32m━━━━━━━━━━━━━━━━━━━━\u001B[0m\u001B[37m\u001B[0m \u001B[1m13s\u001B[0m 81ms/step - loss: 0.0238 - mae: 0.0238 - val_loss: 0.0063 - val_mae: 0.0063\n",
      "Epoch 19/50\n",
      "\u001B[1m166/166\u001B[0m \u001B[32m━━━━━━━━━━━━━━━━━━━━\u001B[0m\u001B[37m\u001B[0m \u001B[1m14s\u001B[0m 81ms/step - loss: 0.0233 - mae: 0.0233 - val_loss: 0.0192 - val_mae: 0.0192\n",
      "Epoch 20/50\n",
      "\u001B[1m166/166\u001B[0m \u001B[32m━━━━━━━━━━━━━━━━━━━━\u001B[0m\u001B[37m\u001B[0m \u001B[1m13s\u001B[0m 79ms/step - loss: 0.0229 - mae: 0.0229 - val_loss: 0.0055 - val_mae: 0.0055\n",
      "Epoch 21/50\n",
      "\u001B[1m166/166\u001B[0m \u001B[32m━━━━━━━━━━━━━━━━━━━━\u001B[0m\u001B[37m\u001B[0m \u001B[1m13s\u001B[0m 78ms/step - loss: 0.0231 - mae: 0.0231 - val_loss: 0.0170 - val_mae: 0.0170\n",
      "Epoch 22/50\n",
      "\u001B[1m166/166\u001B[0m \u001B[32m━━━━━━━━━━━━━━━━━━━━\u001B[0m\u001B[37m\u001B[0m \u001B[1m13s\u001B[0m 78ms/step - loss: 0.0240 - mae: 0.0240 - val_loss: 0.0053 - val_mae: 0.0053\n",
      "Epoch 23/50\n",
      "\u001B[1m166/166\u001B[0m \u001B[32m━━━━━━━━━━━━━━━━━━━━\u001B[0m\u001B[37m\u001B[0m \u001B[1m13s\u001B[0m 80ms/step - loss: 0.0224 - mae: 0.0224 - val_loss: 0.0087 - val_mae: 0.0087\n",
      "Epoch 24/50\n",
      "\u001B[1m166/166\u001B[0m \u001B[32m━━━━━━━━━━━━━━━━━━━━\u001B[0m\u001B[37m\u001B[0m \u001B[1m13s\u001B[0m 78ms/step - loss: 0.0219 - mae: 0.0219 - val_loss: 0.0075 - val_mae: 0.0075\n",
      "Epoch 25/50\n",
      "\u001B[1m166/166\u001B[0m \u001B[32m━━━━━━━━━━━━━━━━━━━━\u001B[0m\u001B[37m\u001B[0m \u001B[1m13s\u001B[0m 79ms/step - loss: 0.0216 - mae: 0.0216 - val_loss: 0.0060 - val_mae: 0.0060\n",
      "Epoch 26/50\n",
      "\u001B[1m166/166\u001B[0m \u001B[32m━━━━━━━━━━━━━━━━━━━━\u001B[0m\u001B[37m\u001B[0m \u001B[1m13s\u001B[0m 81ms/step - loss: 0.0220 - mae: 0.0220 - val_loss: 0.0077 - val_mae: 0.0077\n",
      "Epoch 27/50\n",
      "\u001B[1m166/166\u001B[0m \u001B[32m━━━━━━━━━━━━━━━━━━━━\u001B[0m\u001B[37m\u001B[0m \u001B[1m13s\u001B[0m 80ms/step - loss: 0.0220 - mae: 0.0220 - val_loss: 0.0065 - val_mae: 0.0065\n",
      "Epoch 28/50\n",
      "\u001B[1m166/166\u001B[0m \u001B[32m━━━━━━━━━━━━━━━━━━━━\u001B[0m\u001B[37m\u001B[0m \u001B[1m13s\u001B[0m 80ms/step - loss: 0.0211 - mae: 0.0211 - val_loss: 0.0137 - val_mae: 0.0137\n",
      "Epoch 29/50\n",
      "\u001B[1m166/166\u001B[0m \u001B[32m━━━━━━━━━━━━━━━━━━━━\u001B[0m\u001B[37m\u001B[0m \u001B[1m14s\u001B[0m 82ms/step - loss: 0.0241 - mae: 0.0241 - val_loss: 0.0075 - val_mae: 0.0075\n",
      "Epoch 30/50\n",
      "\u001B[1m166/166\u001B[0m \u001B[32m━━━━━━━━━━━━━━━━━━━━\u001B[0m\u001B[37m\u001B[0m \u001B[1m13s\u001B[0m 80ms/step - loss: 0.0213 - mae: 0.0213 - val_loss: 0.0105 - val_mae: 0.0105\n",
      "Epoch 31/50\n",
      "\u001B[1m166/166\u001B[0m \u001B[32m━━━━━━━━━━━━━━━━━━━━\u001B[0m\u001B[37m\u001B[0m \u001B[1m14s\u001B[0m 82ms/step - loss: 0.0208 - mae: 0.0208 - val_loss: 0.0079 - val_mae: 0.0079\n",
      "Epoch 32/50\n",
      "\u001B[1m166/166\u001B[0m \u001B[32m━━━━━━━━━━━━━━━━━━━━\u001B[0m\u001B[37m\u001B[0m \u001B[1m14s\u001B[0m 82ms/step - loss: 0.0210 - mae: 0.0210 - val_loss: 0.0065 - val_mae: 0.0065\n",
      "Epoch 33/50\n",
      "\u001B[1m166/166\u001B[0m \u001B[32m━━━━━━━━━━━━━━━━━━━━\u001B[0m\u001B[37m\u001B[0m \u001B[1m14s\u001B[0m 82ms/step - loss: 0.0208 - mae: 0.0208 - val_loss: 0.0057 - val_mae: 0.0057\n",
      "Epoch 34/50\n",
      "\u001B[1m166/166\u001B[0m \u001B[32m━━━━━━━━━━━━━━━━━━━━\u001B[0m\u001B[37m\u001B[0m \u001B[1m14s\u001B[0m 82ms/step - loss: 0.0221 - mae: 0.0221 - val_loss: 0.0065 - val_mae: 0.0065\n",
      "Epoch 35/50\n",
      "\u001B[1m166/166\u001B[0m \u001B[32m━━━━━━━━━━━━━━━━━━━━\u001B[0m\u001B[37m\u001B[0m \u001B[1m13s\u001B[0m 81ms/step - loss: 0.0230 - mae: 0.0230 - val_loss: 0.0134 - val_mae: 0.0134\n",
      "Epoch 36/50\n",
      "\u001B[1m166/166\u001B[0m \u001B[32m━━━━━━━━━━━━━━━━━━━━\u001B[0m\u001B[37m\u001B[0m \u001B[1m13s\u001B[0m 81ms/step - loss: 0.0209 - mae: 0.0209 - val_loss: 0.0095 - val_mae: 0.0095\n",
      "Epoch 37/50\n",
      "\u001B[1m166/166\u001B[0m \u001B[32m━━━━━━━━━━━━━━━━━━━━\u001B[0m\u001B[37m\u001B[0m \u001B[1m13s\u001B[0m 81ms/step - loss: 0.0230 - mae: 0.0230 - val_loss: 0.0058 - val_mae: 0.0058\n",
      "Epoch 38/50\n",
      "\u001B[1m166/166\u001B[0m \u001B[32m━━━━━━━━━━━━━━━━━━━━\u001B[0m\u001B[37m\u001B[0m \u001B[1m14s\u001B[0m 84ms/step - loss: 0.0217 - mae: 0.0217 - val_loss: 0.0158 - val_mae: 0.0158\n",
      "Epoch 39/50\n",
      "\u001B[1m166/166\u001B[0m \u001B[32m━━━━━━━━━━━━━━━━━━━━\u001B[0m\u001B[37m\u001B[0m \u001B[1m14s\u001B[0m 84ms/step - loss: 0.0224 - mae: 0.0224 - val_loss: 0.0168 - val_mae: 0.0168\n",
      "Epoch 40/50\n",
      "\u001B[1m166/166\u001B[0m \u001B[32m━━━━━━━━━━━━━━━━━━━━\u001B[0m\u001B[37m\u001B[0m \u001B[1m14s\u001B[0m 84ms/step - loss: 0.0222 - mae: 0.0222 - val_loss: 0.0070 - val_mae: 0.0070\n",
      "Epoch 41/50\n",
      "\u001B[1m166/166\u001B[0m \u001B[32m━━━━━━━━━━━━━━━━━━━━\u001B[0m\u001B[37m\u001B[0m \u001B[1m14s\u001B[0m 84ms/step - loss: 0.0208 - mae: 0.0208 - val_loss: 0.0089 - val_mae: 0.0089\n",
      "Epoch 42/50\n",
      "\u001B[1m166/166\u001B[0m \u001B[32m━━━━━━━━━━━━━━━━━━━━\u001B[0m\u001B[37m\u001B[0m \u001B[1m14s\u001B[0m 84ms/step - loss: 0.0212 - mae: 0.0212 - val_loss: 0.0160 - val_mae: 0.0160\n",
      "Epoch 43/50\n",
      "\u001B[1m166/166\u001B[0m \u001B[32m━━━━━━━━━━━━━━━━━━━━\u001B[0m\u001B[37m\u001B[0m \u001B[1m14s\u001B[0m 83ms/step - loss: 0.0215 - mae: 0.0215 - val_loss: 0.0175 - val_mae: 0.0175\n",
      "Epoch 44/50\n",
      "\u001B[1m166/166\u001B[0m \u001B[32m━━━━━━━━━━━━━━━━━━━━\u001B[0m\u001B[37m\u001B[0m \u001B[1m14s\u001B[0m 82ms/step - loss: 0.0217 - mae: 0.0217 - val_loss: 0.0105 - val_mae: 0.0105\n",
      "Epoch 45/50\n",
      "\u001B[1m166/166\u001B[0m \u001B[32m━━━━━━━━━━━━━━━━━━━━\u001B[0m\u001B[37m\u001B[0m \u001B[1m14s\u001B[0m 82ms/step - loss: 0.0213 - mae: 0.0213 - val_loss: 0.0064 - val_mae: 0.0064\n",
      "Epoch 46/50\n",
      "\u001B[1m166/166\u001B[0m \u001B[32m━━━━━━━━━━━━━━━━━━━━\u001B[0m\u001B[37m\u001B[0m \u001B[1m14s\u001B[0m 82ms/step - loss: 0.0210 - mae: 0.0210 - val_loss: 0.0060 - val_mae: 0.0060\n",
      "Epoch 47/50\n",
      "\u001B[1m166/166\u001B[0m \u001B[32m━━━━━━━━━━━━━━━━━━━━\u001B[0m\u001B[37m\u001B[0m \u001B[1m13s\u001B[0m 81ms/step - loss: 0.0211 - mae: 0.0211 - val_loss: 0.0058 - val_mae: 0.0058\n",
      "Epoch 48/50\n",
      "\u001B[1m166/166\u001B[0m \u001B[32m━━━━━━━━━━━━━━━━━━━━\u001B[0m\u001B[37m\u001B[0m \u001B[1m13s\u001B[0m 81ms/step - loss: 0.0218 - mae: 0.0218 - val_loss: 0.0065 - val_mae: 0.0065\n",
      "Epoch 49/50\n",
      "\u001B[1m166/166\u001B[0m \u001B[32m━━━━━━━━━━━━━━━━━━━━\u001B[0m\u001B[37m\u001B[0m \u001B[1m14s\u001B[0m 83ms/step - loss: 0.0209 - mae: 0.0209 - val_loss: 0.0224 - val_mae: 0.0224\n",
      "Epoch 50/50\n",
      "\u001B[1m166/166\u001B[0m \u001B[32m━━━━━━━━━━━━━━━━━━━━\u001B[0m\u001B[37m\u001B[0m \u001B[1m13s\u001B[0m 81ms/step - loss: 0.0211 - mae: 0.0211 - val_loss: 0.0069 - val_mae: 0.0069\n"
     ]
    },
    {
     "data": {
      "text/plain": [
       "<keras.src.callbacks.history.History at 0x175ecb7d0>"
      ]
     },
     "execution_count": 3,
     "metadata": {},
     "output_type": "execute_result"
    }
   ],
   "execution_count": 3
  },
  {
   "cell_type": "code",
   "id": "9d92771128e4305d",
   "metadata": {
    "ExecuteTime": {
     "end_time": "2024-12-26T15:15:53.228115Z",
     "start_time": "2024-12-26T15:15:51.805542Z"
    }
   },
   "source": [
    "y_pred = model.predict(X_test)\n",
    "\n",
    "print(\"Shape of predictions:\", y_pred.shape)"
   ],
   "outputs": [
    {
     "name": "stdout",
     "output_type": "stream",
     "text": [
      "\u001B[1m52/52\u001B[0m \u001B[32m━━━━━━━━━━━━━━━━━━━━\u001B[0m\u001B[37m\u001B[0m \u001B[1m1s\u001B[0m 25ms/step\n",
      "Shape of predictions: (1655, 1)\n"
     ]
    }
   ],
   "execution_count": 4
  },
  {
   "cell_type": "code",
   "id": "f02245f28af49769",
   "metadata": {
    "ExecuteTime": {
     "end_time": "2024-12-26T15:15:53.242376Z",
     "start_time": "2024-12-26T15:15:53.238085Z"
    }
   },
   "source": [
    "# Chuyển đổi giá trị dự đoán và thực tế về thang đo gốc\n",
    "y_pred_original = scaler.inverse_transform(np.concatenate((y_pred, np.zeros((y_pred.shape[0], data.shape[1] - 1))), axis=1))[:, 0]\n",
    "y_test_original = scaler.inverse_transform(np.concatenate((y_test.reshape(-1, 1), np.zeros((y_test.shape[0], data.shape[1] - 1))), axis=1))[:, 0]"
   ],
   "outputs": [],
   "execution_count": 5
  },
  {
   "cell_type": "code",
   "id": "f9d196e126809ef8",
   "metadata": {
    "ExecuteTime": {
     "end_time": "2024-12-26T15:15:53.258703Z",
     "start_time": "2024-12-26T15:15:53.253913Z"
    }
   },
   "source": [
    "mse_original = mean_squared_error(y_test_original, y_pred_original)\n",
    "rmse_original = np.sqrt(mse_original)\n",
    "mae_original = mean_absolute_error(y_test_original, y_pred_original)\n",
    "\n",
    "mse = mean_squared_error(y_test, y_pred)\n",
    "rmse = np.sqrt(mse)\n",
    "mae = mean_absolute_error(y_test, y_pred)\n",
    "\n",
    "print(f\"MSE Original: {mse_original}\")\n",
    "print(f\"RMSE Original: {rmse_original}\")\n",
    "print(f\"MAE Original: {mae_original}\")\n",
    "\n",
    "print(f\"MSE: {mse}\")\n",
    "print(f\"RMSE: {rmse}\")\n",
    "print(f\"MAE: {mae}\")"
   ],
   "outputs": [
    {
     "name": "stdout",
     "output_type": "stream",
     "text": [
      "MSE Original: 0.06587023163736833\n",
      "RMSE Original: 0.25665196597214746\n",
      "MAE Original: 0.1931607794151646\n",
      "MSE: 8.519648837697635e-05\n",
      "RMSE: 0.00923019438457156\n",
      "MAE: 0.006946806484509101\n"
     ]
    }
   ],
   "execution_count": 6
  },
  {
   "cell_type": "code",
   "id": "e2a0ba52c8000416",
   "metadata": {
    "ExecuteTime": {
     "end_time": "2024-12-26T16:04:28.750106Z",
     "start_time": "2024-12-26T16:04:28.180568Z"
    }
   },
   "source": [
    "# Kiểm tra và xử lý index thời gian trong data\n",
    "def prepare_time_index(data):\n",
    "    if not isinstance(data.index, pd.DatetimeIndex):\n",
    "        if 'time' in data.columns:  # Nếu có cột 'time' chứa thời gian\n",
    "            data['time'] = pd.to_datetime(data['time'])  # Chuyển sang datetime\n",
    "            data.set_index('time', inplace=True)  # Đặt cột 'time' làm index\n",
    "        else:\n",
    "            raise ValueError(\"DataFrame `data` không chứa thời gian hoặc không có index thời gian.\")\n",
    "    return data\n",
    "\n",
    "# Hàm lấy chỉ số gần nhất cho một thời gian nhập vào\n",
    "def get_test_record_by_datetime(input_datetime, time_index):\n",
    "    time_diff = (time_index - input_datetime).total_seconds()  # Tính chênh lệch thời gian\n",
    "    closest_time_index = np.argmin(np.abs(time_diff))  # Tìm chỉ số có sự khác biệt nhỏ nhất\n",
    "    return closest_time_index\n",
    "\n",
    "# Hàm dự đoán\n",
    "def predict_future_from_last_20(data, X_test, y_test, model, scaler, num_minutes=10):\n",
    "    # Chuẩn bị time index từ data\n",
    "    data = prepare_time_index(data)\n",
    "    time_index_test = data.index[-len(X_test):]  # Lấy index của tập X_test\n",
    "    time_index_test = time_index_test.tz_localize(None)  # Loại bỏ timezone nếu có\n",
    "\n",
    "    # Chọn dòng bắt đầu dự đoán: cách dòng cuối 20 dòng\n",
    "    start_index = len(X_test) - 20\n",
    "    input_datetime = time_index_test[start_index]\n",
    "\n",
    "    # Lấy index tương ứng với thời gian nhập vào\n",
    "    index_for_input = get_test_record_by_datetime(input_datetime, time_index_test)\n",
    "\n",
    "    # Lấy X_current tương ứng với chỉ số này\n",
    "    X_current = X_test[index_for_input]\n",
    "\n",
    "    # Khởi tạo danh sách kết quả\n",
    "    future_predictions = []\n",
    "    actual_values = []\n",
    "\n",
    "    # Dự đoán liên tục trong num_minutes phút\n",
    "    for i in range(num_minutes):\n",
    "        # Dự đoán giá trị tiếp theo\n",
    "        next_pred = model.predict(X_current.reshape(1, X_current.shape[0], X_current.shape[1]), verbose=0)[0, 0]\n",
    "\n",
    "        # Lấy giá trị thực tế từ y_test\n",
    "        actual_value = y_test[index_for_input + i] if index_for_input + i < len(y_test) else None\n",
    "\n",
    "        # Thêm giá trị dự đoán và giá trị thực tế vào danh sách\n",
    "        future_predictions.append(next_pred)\n",
    "        actual_values.append(actual_value if actual_value is not None else np.nan)\n",
    "\n",
    "        # Cập nhật đầu vào cho lần dự đoán tiếp theo\n",
    "        X_current = np.roll(X_current, -1, axis=0)  # Lăn dữ liệu về bên trái\n",
    "        X_current[-1] = np.array([next_pred] * X_current.shape[1])  # Thay thế giá trị cuối cùng bằng dự đoán mới\n",
    "\n",
    "    # Chuyển đổi giá trị về thang đo gốc\n",
    "    def inverse_transform(values):\n",
    "        values_array = np.array(values).reshape(-1, 1)\n",
    "        extended_array = np.zeros((len(values), X_test.shape[2]))\n",
    "        extended_array[:, 0] = values_array[:, 0]\n",
    "        return scaler.inverse_transform(extended_array)[:, 0]\n",
    "\n",
    "    # Chuyển đổi giá trị thực tế và dự đoán về thang đo gốc\n",
    "    actual_values_original = inverse_transform(actual_values)\n",
    "    future_predictions_original = inverse_transform(future_predictions)\n",
    "    \n",
    "      # Tạo DataFrame để hiển thị các giá trị dự đoán và thực tế sacaled\n",
    "    future_df = pd.DataFrame({\n",
    "        \"Thời gian\": time_index_test[start_index:start_index + num_minutes],\n",
    "        \"Dự đoán (Predicted)\": future_predictions,\n",
    "        \"Giá trị thật (Actual)\": actual_values,\n",
    "    })\n",
    "\n",
    "    # # Tạo DataFrame để hiển thị các giá trị dự đoán và thực tế\n",
    "    # future_df = pd.DataFrame({\n",
    "    #     \"Thời gian\": time_index_test[start_index:start_index + num_minutes],\n",
    "    #     \"Dự đoán (Predicted)\": future_predictions_original,\n",
    "    #     \"Giá trị thật (Actual)\": actual_values_original,\n",
    "    # })\n",
    "\n",
    "    # Hiển thị kết quả dự đoán\n",
    "    print(future_df.to_string(index=False))\n",
    "\n",
    "    # Vẽ biểu đồ kết quả\n",
    "    plt.figure(figsize=(10, 6))\n",
    "    plt.plot(future_df[\"Thời gian\"], future_df[\"Dự đoán (Predicted)\"], marker='o', label=\"Dự đoán\", color='b')\n",
    "    plt.plot(future_df[\"Thời gian\"], future_df[\"Giá trị thật (Actual)\"], marker='x', label=\"Giá trị thật\", color='g')\n",
    "    plt.xlabel('Thời gian')\n",
    "    plt.ylabel('Giá trị')\n",
    "    plt.title('Dự đoán và giá trị thật trong {} phút tiếp theo'.format(num_minutes))\n",
    "    plt.legend()\n",
    "    plt.xticks(rotation=45)\n",
    "    plt.grid(True)\n",
    "    plt.tight_layout()\n",
    "    plt.show()\n",
    "\n",
    "# Gọi hàm dự đoán\n",
    "predict_future_from_last_20(data, X_test, y_test, model, scaler, num_minutes=10)"
   ],
   "outputs": [
    {
     "name": "stdout",
     "output_type": "stream",
     "text": [
      "          Thời gian  Dự đoán (Predicted)  Giá trị thật (Actual)\n",
      "2024-12-18 16:33:00             0.742761               0.751537\n",
      "2024-12-18 16:34:00             0.751173               0.605524\n",
      "2024-12-18 16:35:00             0.758315               0.998608\n",
      "2024-12-18 16:36:00             0.762977               0.319431\n",
      "2024-12-18 16:37:00             0.765866               0.559425\n",
      "2024-12-18 16:38:00             0.767707               0.025786\n",
      "2024-12-18 16:39:00             0.769029               0.151059\n",
      "2024-12-18 16:40:00             0.770151               0.118573\n",
      "2024-12-18 16:41:00             0.771254               0.787860\n",
      "2024-12-18 16:42:00             0.772430               0.763764\n"
     ]
    },
    {
     "data": {
      "text/plain": [
       "<Figure size 1000x600 with 1 Axes>"
      ],
      "image/png": "[encoded data removed]"
     },
     "metadata": {},
     "output_type": "display_data"
    }
   ],
   "execution_count": 25
  },
  {
   "metadata": {
    "ExecuteTime": {
     "end_time": "2024-12-26T15:46:59.588428Z",
     "start_time": "2024-12-26T15:46:59.581987Z"
    }
   },
   "cell_type": "code",
   "source": [
    "X_test_df = pd.DataFrame(X_test.reshape(X_test.shape[0], -1))\n",
    "print(X_test_df.tail(20))"
   ],
   "id": "6256cf62b1cb5b56",
   "outputs": [
    {
     "name": "stdout",
     "output_type": "stream",
     "text": [
      "           0         1         2         3         4         5         6    \\\n",
      "1635  0.747836  0.747836  0.743340  0.745954  0.745260  0.013593  0.746142   \n",
      "1636  0.120012  0.120012  0.115551  0.141098  0.141507  0.010527  0.120012   \n",
      "1637  0.346645  0.346645  0.344132  0.362069  0.364642  0.021477  0.344965   \n",
      "1638  0.098743  0.098743  0.100792  0.118403  0.125351  0.038911  0.095556   \n",
      "1639  0.952575  0.952575  0.948344  0.953554  0.952423  0.009494  0.955452   \n",
      "1640  0.103468  0.103468  0.102772  0.124560  0.129389  0.011667  0.100231   \n",
      "1641  0.611817  0.611817  0.609791  0.622801  0.623244  0.012061  0.614155   \n",
      "1642  0.222868  0.222868  0.221249  0.241379  0.242978  0.017288  0.218193   \n",
      "1643  0.620628  0.620628  0.615954  0.628255  0.626229  0.010506  0.621743   \n",
      "1644  0.613435  0.613435  0.611591  0.616115  0.620435  0.363269  0.601355   \n",
      "1645  0.842165  0.842165  0.837293  0.842364  0.843048  0.012502  0.846114   \n",
      "1646  0.951496  0.951496  0.952840  0.953554  0.952599  0.019719  0.948439   \n",
      "1647  0.900067  0.900067  0.895968  0.901478  0.900983  0.018509  0.898988   \n",
      "1648  0.092678  0.092678  0.091658  0.111776  0.113647  0.113888  0.092894   \n",
      "1649  0.797923  0.797923  0.794817  0.803659  0.802068  0.012457  0.800448   \n",
      "1650  0.590980  0.590980  0.587113  0.601161  0.601826  0.011396  0.592397   \n",
      "1651  0.134789  0.134789  0.129449  0.153765  0.152827  0.018899  0.130081   \n",
      "1652  0.045926  0.045926  0.042117  0.068220  0.068118  0.004874  0.051680   \n",
      "1653  0.161729  0.161729  0.158027  0.182266  0.182349  0.024743  0.166049   \n",
      "1654  0.097894  0.097894  0.098272  0.119634  0.122893  0.036161  0.099512   \n",
      "\n",
      "           7         8         9    ...       590       591       592  \\\n",
      "1635  0.746142  0.742621  0.753695  ...  0.737938  0.748065  0.745787   \n",
      "1636  0.120012  0.115191  0.141098  ...  0.215677  0.235398  0.239417   \n",
      "1637  0.344965  0.343053  0.359606  ...  0.382469  0.397959  0.399628   \n",
      "1638  0.095556  0.097192  0.115412  ...  0.133344  0.156580  0.159059   \n",
      "1639  0.955452  0.951044  0.954613  ...  0.974442  0.978536  0.977880   \n",
      "1640  0.100231  0.097192  0.122097  ...  0.140389  0.162565  0.165730   \n",
      "1641  0.614155  0.610871  0.623153  ...  0.639669  0.652357  0.650632   \n",
      "1642  0.218193  0.218146  0.235538  ...  0.168287  0.187368  0.192795   \n",
      "1643  0.621743  0.617221  0.630190  ...  0.613679  0.625194  0.625597   \n",
      "1644  0.601355  0.612671  0.612245  ...  0.645068  0.656932  0.658006   \n",
      "1645  0.846114  0.841245  0.846939  ...  0.868970  0.876143  0.874298   \n",
      "1646  0.948439  0.947084  0.951091  ...  0.970842  0.974490  0.973315   \n",
      "1647  0.898988  0.895968  0.902709  ...  0.898308  0.905352  0.902742   \n",
      "1648  0.092894  0.091559  0.111823  ...  0.122390  0.146552  0.146418   \n",
      "1649  0.800448  0.795986  0.804011  ...  0.796973  0.806122  0.805302   \n",
      "1650  0.592397  0.588193  0.602568  ...  0.612671  0.626319  0.624298   \n",
      "1651  0.130081  0.128870  0.144969  ...  0.126530  0.151358  0.152388   \n",
      "1652  0.051680  0.046940  0.069317  ...  0.026638  0.053836  0.053547   \n",
      "1653  0.166049  0.161987  0.182266  ...  0.121310  0.145673  0.147297   \n",
      "1654  0.099512  0.093953  0.114356  ...  0.006119  0.028149  0.029846   \n",
      "\n",
      "           593       594       595       596       597       598       599  \n",
      "1635  0.017144  0.738590  0.738590  0.737617  0.746309  0.748596  0.014405  \n",
      "1636  0.011397  0.212438  0.212438  0.210943  0.226598  0.234551  0.036716  \n",
      "1637  0.023470  0.380929  0.380929  0.378326  0.396200  0.397296  0.025676  \n",
      "1638  0.015270  0.131160  0.131160  0.131030  0.152006  0.156952  0.022869  \n",
      "1639  0.009119  0.980066  0.980066  0.976602  0.981703  0.979635  0.010839  \n",
      "1640  0.009688  0.141590  0.141590  0.139309  0.162210  0.163799  0.010156  \n",
      "1641  0.023080  0.635377  0.635377  0.638661  0.646027  0.652037  0.032827  \n",
      "1642  0.028217  0.159931  0.159931  0.161267  0.180859  0.186447  0.052507  \n",
      "1643  0.090548  0.616897  0.616897  0.613301  0.625441  0.625922  0.097321  \n",
      "1644  0.016336  0.650478  0.650478  0.645788  0.654469  0.654846  0.011605  \n",
      "1645  0.011499  0.874533  0.874533  0.870411  0.877551  0.875000  0.012130  \n",
      "1646  0.017340  0.973793  0.973793  0.970122  0.975721  0.973315  0.020181  \n",
      "1647  0.021495  0.899348  0.899348  0.898046  0.903941  0.904846  0.073703  \n",
      "1648  0.011291  0.123251  0.123251  0.119690  0.144265  0.145365  0.013331  \n",
      "1649  0.010147  0.796132  0.796132  0.796616  0.802956  0.806180  0.009930  \n",
      "1650  0.006340  0.618471  0.618471  0.613391  0.627727  0.626054  0.007488  \n",
      "1651  0.008829  0.132059  0.132059  0.127430  0.153026  0.153087  0.005767  \n",
      "1652  0.010344  0.030641  0.030641  0.027718  0.054054  0.054775  0.005044  \n",
      "1653  0.010441  0.126485  0.126485  0.122030  0.148135  0.147823  0.025044  \n",
      "1654  0.015191  0.013918  0.013918  0.010076  0.033779  0.034059  0.014055  \n",
      "\n",
      "[20 rows x 600 columns]\n"
     ]
    }
   ],
   "execution_count": 23
  },
  {
   "metadata": {
    "ExecuteTime": {
     "end_time": "2024-12-26T15:46:43.833233Z",
     "start_time": "2024-12-26T15:46:43.826147Z"
    }
   },
   "cell_type": "code",
   "source": [
    "X_train_df = pd.DataFrame(X_train.reshape(X_train.shape[0], -1))\n",
    "print(X_train_df.head(20))"
   ],
   "id": "93daa17cdbf2530c",
   "outputs": [
    {
     "name": "stdout",
     "output_type": "stream",
     "text": [
      "         0         1         2         3         4         5         6    \\\n",
      "0   0.874407  0.874407  0.870411  0.878255  0.877282  0.013198  0.874346   \n",
      "1   0.552297  0.552297  0.547516  0.557002  0.555896  0.031043  0.550858   \n",
      "2   0.506263  0.506263  0.502880  0.519353  0.518961  0.049082  0.506802   \n",
      "3   0.748660  0.748660  0.744241  0.752991  0.750703  0.006079  0.747940   \n",
      "4   0.112459  0.112459  0.106911  0.122449  0.126756  0.216272  0.106195   \n",
      "5   0.856914  0.856914  0.852772  0.861365  0.858849  0.005931  0.854573   \n",
      "6   0.308462  0.308462  0.304536  0.322660  0.326194  0.016225  0.310620   \n",
      "7   0.887840  0.887840  0.889129  0.892681  0.895892  0.012751  0.890357   \n",
      "8   0.740500  0.740500  0.740101  0.747009  0.745084  0.023433  0.737690   \n",
      "9   0.104547  0.104547  0.101872  0.121042  0.122542  0.032415  0.102749   \n",
      "10  0.650838  0.650838  0.648668  0.659746  0.659410  0.029837  0.648500   \n",
      "11  0.495179  0.495179  0.492801  0.508445  0.509133  0.011888  0.497632   \n",
      "12  0.116684  0.116684  0.113031  0.138283  0.139396  0.009849  0.119292   \n",
      "13  0.535574  0.535574  0.530932  0.542928  0.541433  0.028075  0.540673   \n",
      "14  0.324106  0.324106  0.319115  0.338318  0.338308  0.015438  0.327163   \n",
      "15  0.062642  0.062642  0.059035  0.084448  0.083919  0.015213  0.066425   \n",
      "16  0.732835  0.732835  0.732070  0.740675  0.740169  0.032567  0.737511   \n",
      "17  0.946820  0.946820  0.946724  0.947572  0.949347  0.018883  0.947540   \n",
      "18  0.333996  0.333996  0.329373  0.350809  0.350070  0.006002  0.335974   \n",
      "19  0.966960  0.966960  0.962203  0.967804  0.965063  0.032132  0.964443   \n",
      "\n",
      "         7         8         9    ...       590       591       592       593  \\\n",
      "0   0.874346  0.870050  0.877551  ...  0.838373  0.847512  0.846911  0.003961   \n",
      "1   0.550858  0.548596  0.561576  ...  0.554355  0.569321  0.568645  0.014228   \n",
      "2   0.506802  0.502880  0.519353  ...  0.508999  0.522871  0.525632  0.012016   \n",
      "3   0.747940  0.744421  0.755981  ...  0.786177  0.797150  0.795295  0.005164   \n",
      "4   0.106195  0.102562  0.121042  ...  0.070914  0.086207  0.085323  0.044440   \n",
      "5   0.854573  0.852412  0.859430  ...  0.800576  0.811048  0.808638  0.017464   \n",
      "6   0.310620  0.307776  0.325961  ...  0.319834  0.341661  0.340594  0.008096   \n",
      "7   0.890357  0.887329  0.893730  ...  0.947419  0.950739  0.949098  0.017130   \n",
      "8   0.737690  0.735601  0.745975  ...  0.725702  0.735046  0.733673  0.008157   \n",
      "9   0.102749  0.099352  0.123505  ...  0.017278  0.038712  0.037928  0.014178   \n",
      "10  0.648500  0.647228  0.657284  ...  0.636429  0.648135  0.646419  0.012974   \n",
      "11  0.497632  0.493160  0.508797  ...  0.530932  0.542928  0.541433  0.028075   \n",
      "12  0.119292  0.114111  0.138635  ...  0.148668  0.172766  0.172226  0.014068   \n",
      "13  0.540673  0.536361  0.548558  ...  0.561148  0.576003  0.575839  0.008780   \n",
      "14  0.327163  0.322174  0.340609  ...  0.336573  0.353276  0.357167  0.016249   \n",
      "15  0.066425  0.061915  0.085855  ...  0.036717  0.061225  0.063202  0.025680   \n",
      "16  0.737511  0.732542  0.737860  ...  0.746058  0.757037  0.756317  0.009275   \n",
      "17  0.947540  0.949244  0.951393  ...  0.965083  0.967980  0.965239  0.014897   \n",
      "18  0.335974  0.330633  0.350461  ...  0.344849  0.352569  0.365516  0.024457   \n",
      "19  0.964443  0.962920  0.967980  ...  0.995824  0.999419  0.998245  0.019741   \n",
      "\n",
      "         594       595       596       597       598       599  \n",
      "0   0.839655  0.839655  0.836573  0.845883  0.844803  0.005115  \n",
      "1   0.561648  0.561648  0.556876  0.570725  0.568820  0.033413  \n",
      "2   0.513096  0.513096  0.508999  0.522871  0.521770  0.008329  \n",
      "3   0.791457  0.791457  0.787458  0.798029  0.795646  0.007233  \n",
      "4   0.085130  0.085130  0.080454  0.097291  0.098315  0.050983  \n",
      "5   0.804044  0.804044  0.800396  0.808237  0.808989  0.020033  \n",
      "6   0.325365  0.325365  0.321274  0.341661  0.340723  0.014104  \n",
      "7   0.944663  0.944663  0.947084  0.948628  0.949965  0.023422  \n",
      "8   0.729958  0.729958  0.726782  0.736453  0.735604  0.006993  \n",
      "9   0.019313  0.019313  0.018358  0.040113  0.044944  0.023790  \n",
      "10  0.640408  0.640408  0.636429  0.649543  0.649761  0.011931  \n",
      "11  0.540673  0.540673  0.536361  0.548558  0.547047  0.023896  \n",
      "12  0.150217  0.150217  0.148308  0.169951  0.173104  0.018088  \n",
      "13  0.561641  0.561641  0.559392  0.572484  0.574628  0.015454  \n",
      "14  0.331839  0.331839  0.333333  0.346235  0.353933  0.033283  \n",
      "15  0.035931  0.035931  0.035277  0.055947  0.063553  0.024922  \n",
      "16  0.749199  0.749199  0.744525  0.754398  0.754916  0.013631  \n",
      "17  0.968762  0.968762  0.964723  0.971499  0.969101  0.008135  \n",
      "18  0.339751  0.339751  0.334773  0.351513  0.351475  0.025336  \n",
      "19  0.995731  0.995731  0.994349  0.994018  0.997542  0.031206  \n",
      "\n",
      "[20 rows x 600 columns]\n"
     ]
    }
   ],
   "execution_count": 22
  }
 ],
 "metadata": {
  "kernelspec": {
   "display_name": "Python 3",
   "language": "python",
   "name": "python3"
  },
  "language_info": {
   "codemirror_mode": {
    "name": "ipython",
    "version": 3
   },
   "file_extension": ".py",
   "mimetype": "text/x-python",
   "name": "python",
   "nbconvert_exporter": "python",
   "pygments_lexer": "ipython3",
   "version": "3.11.0"
  }
 },
 "nbformat": 4,
 "nbformat_minor": 5
}
