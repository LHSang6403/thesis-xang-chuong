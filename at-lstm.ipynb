{
 "cells": [
  {
   "cell_type": "code",
   "id": "initial_id",
   "metadata": {
    "collapsed": true,
    "ExecuteTime": {
     "end_time": "2024-12-12T02:08:31.872184Z",
     "start_time": "2024-12-12T02:08:28.506409Z"
    }
   },
   "source": [
    "import pandas as pd\n",
    "import numpy as np\n",
    "from sklearn.metrics import mean_squared_error, mean_absolute_error\n",
    "import matplotlib.pyplot as plt\n",
    "from tensorflow.keras.layers import Input, LSTM, Dense, Dropout, Multiply, Permute, Flatten, RepeatVector, Softmax\n",
    "from tensorflow.keras.models import Model\n",
    "import tensorflow.keras.backend as K\n",
    "from sklearn.preprocessing import MinMaxScaler"
   ],
   "outputs": [],
   "execution_count": 1
  },
  {
   "metadata": {
    "ExecuteTime": {
     "end_time": "2024-12-12T02:08:36.455486Z",
     "start_time": "2024-12-12T02:08:31.879282Z"
    }
   },
   "cell_type": "code",
   "source": [
    "import data as data_file\n",
    "\n",
    "X_train, X_test, y_train, y_test, scaler, data = data_file.main()\n",
    "\n",
    "print(\"Train size:\", X_train.shape, \"Test size:\", X_test.shape, \"Data size:\", data.shape)"
   ],
   "id": "89654cab4f1dcf64",
   "outputs": [
    {
     "name": "stderr",
     "output_type": "stream",
     "text": [
      "[*********************100%***********************]  1 of 1 completed\n"
     ]
    },
    {
     "name": "stdout",
     "output_type": "stream",
     "text": [
      "Columns in the data: Index(['Adj Close', 'Close', 'High', 'Low', 'Open', 'Volume'], dtype='object')\n",
      "Columns in the data: Index(['Adj Close', 'Close', 'High', 'Low', 'Open', 'Volume'], dtype='object')\n",
      "           Adj Close          Close           High            Low  \\\n",
      "count   75006.000000   75006.000000   75006.000000   75006.000000   \n",
      "mean    86983.384923   86983.384923   86983.385527   86983.384923   \n",
      "std     12065.775859   12065.775859   12065.776322   12065.775859   \n",
      "min     65198.042969   65198.042969   65198.042969   65198.042969   \n",
      "25%     72531.691406   72531.691406   72531.691406   72531.691406   \n",
      "50%     96477.439955   96477.439955   96477.441262   96477.439955   \n",
      "75%     96477.439955   96477.439955   96477.441262   96477.439955   \n",
      "max    101899.515625  101899.515625  101899.515625  101899.515625   \n",
      "\n",
      "                Open        Volume  \n",
      "count   75006.000000  7.500600e+04  \n",
      "mean    86983.385527  1.912998e+07  \n",
      "std     12065.776322  1.079056e+08  \n",
      "min     65198.042969  0.000000e+00  \n",
      "25%     72531.691406  0.000000e+00  \n",
      "50%     96477.441262  2.029674e+07  \n",
      "75%     96477.441262  2.029674e+07  \n",
      "max    101899.515625  2.717911e+10  \n",
      "Number of NaN values in each column:\n",
      "Adj Close    0\n",
      "Close        0\n",
      "High         0\n",
      "Low          0\n",
      "Open         0\n",
      "Volume       0\n",
      "dtype: int64\n",
      "Check for inf/-inf values:\n",
      "Empty DataFrame\n",
      "Columns: [Adj Close, Close, High, Low, Open, Volume]\n",
      "Index: []\n",
      "Train size: (59924, 100, 6) Test size: (14982, 100, 6) Data size: (75006, 6)\n"
     ]
    }
   ],
   "execution_count": 2
  },
  {
   "metadata": {
    "ExecuteTime": {
     "end_time": "2024-12-12T04:04:36.950394Z",
     "start_time": "2024-12-12T02:08:36.520392Z"
    }
   },
   "cell_type": "code",
   "source": [
    "def attention_block(inputs):\n",
    "    attention = Dense(1, activation='tanh')(inputs)  # Học trọng số\n",
    "    attention = Flatten()(attention)  # Đưa về dạng 1D\n",
    "    attention = Softmax()(attention)  # Softmax layer\n",
    "    attention = RepeatVector(K.int_shape(inputs)[2])(attention)  # Lặp lại trọng số theo chiều features\n",
    "    attention = Permute([2, 1])(attention)  # Hoán vị để phù hợp với inputs\n",
    "    weighted_inputs = Multiply()([inputs, attention])  # Nhân trọng số với inputs\n",
    "    return weighted_inputs\n",
    "\n",
    "# Xây dựng mô hình với Attention\n",
    "inputs = Input(shape=(X_train.shape[1], X_train.shape[2]))\n",
    "\n",
    "# LSTM Layer 1\n",
    "lstm_out_1 = LSTM(128, activation='relu', return_sequences=True)(inputs)\n",
    "lstm_out_1 = Dropout(0.1)(lstm_out_1)\n",
    "\n",
    "# Attention Layer\n",
    "attention_out = attention_block(lstm_out_1)\n",
    "\n",
    "# LSTM Layer 2\n",
    "lstm_out_2 = LSTM(64, activation='relu', return_sequences=False)(attention_out)\n",
    "lstm_out_2 = Dropout(0.1)(lstm_out_2)\n",
    "\n",
    "# Output Layer\n",
    "output = Dense(1)(lstm_out_2)\n",
    "\n",
    "model = Model(inputs=inputs, outputs=output)\n",
    "model.compile(optimizer='adam', loss='mean_absolute_error', metrics=['mae'])\n",
    "\n",
    "print(model.summary())\n",
    "\n",
    "model.fit(X_train, y_train, epochs=50, batch_size=32, validation_split=0.2, verbose=1)"
   ],
   "id": "93165af989034701",
   "outputs": [
    {
     "data": {
      "text/plain": [
       "\u001B[1mModel: \"functional\"\u001B[0m\n"
      ],
      "text/html": [
       "<pre style=\"white-space:pre;overflow-x:auto;line-height:normal;font-family:Menlo,'DejaVu Sans Mono',consolas,'Courier New',monospace\"><span style=\"font-weight: bold\">Model: \"functional\"</span>\n",
       "</pre>\n"
      ]
     },
     "metadata": {},
     "output_type": "display_data"
    },
    {
     "data": {
      "text/plain": [
       "┏━━━━━━━━━━━━━━━━━━━━━┳━━━━━━━━━━━━━━━━━━━┳━━━━━━━━━━━━┳━━━━━━━━━━━━━━━━━━━┓\n",
       "┃\u001B[1m \u001B[0m\u001B[1mLayer (type)       \u001B[0m\u001B[1m \u001B[0m┃\u001B[1m \u001B[0m\u001B[1mOutput Shape     \u001B[0m\u001B[1m \u001B[0m┃\u001B[1m \u001B[0m\u001B[1m   Param #\u001B[0m\u001B[1m \u001B[0m┃\u001B[1m \u001B[0m\u001B[1mConnected to     \u001B[0m\u001B[1m \u001B[0m┃\n",
       "┡━━━━━━━━━━━━━━━━━━━━━╇━━━━━━━━━━━━━━━━━━━╇━━━━━━━━━━━━╇━━━━━━━━━━━━━━━━━━━┩\n",
       "│ input_layer         │ (\u001B[38;5;45mNone\u001B[0m, \u001B[38;5;34m100\u001B[0m, \u001B[38;5;34m6\u001B[0m)    │          \u001B[38;5;34m0\u001B[0m │ -                 │\n",
       "│ (\u001B[38;5;33mInputLayer\u001B[0m)        │                   │            │                   │\n",
       "├─────────────────────┼───────────────────┼────────────┼───────────────────┤\n",
       "│ lstm (\u001B[38;5;33mLSTM\u001B[0m)         │ (\u001B[38;5;45mNone\u001B[0m, \u001B[38;5;34m100\u001B[0m, \u001B[38;5;34m128\u001B[0m)  │     \u001B[38;5;34m69,120\u001B[0m │ input_layer[\u001B[38;5;34m0\u001B[0m][\u001B[38;5;34m0\u001B[0m] │\n",
       "├─────────────────────┼───────────────────┼────────────┼───────────────────┤\n",
       "│ dropout (\u001B[38;5;33mDropout\u001B[0m)   │ (\u001B[38;5;45mNone\u001B[0m, \u001B[38;5;34m100\u001B[0m, \u001B[38;5;34m128\u001B[0m)  │          \u001B[38;5;34m0\u001B[0m │ lstm[\u001B[38;5;34m0\u001B[0m][\u001B[38;5;34m0\u001B[0m]        │\n",
       "├─────────────────────┼───────────────────┼────────────┼───────────────────┤\n",
       "│ dense (\u001B[38;5;33mDense\u001B[0m)       │ (\u001B[38;5;45mNone\u001B[0m, \u001B[38;5;34m100\u001B[0m, \u001B[38;5;34m1\u001B[0m)    │        \u001B[38;5;34m129\u001B[0m │ dropout[\u001B[38;5;34m0\u001B[0m][\u001B[38;5;34m0\u001B[0m]     │\n",
       "├─────────────────────┼───────────────────┼────────────┼───────────────────┤\n",
       "│ flatten (\u001B[38;5;33mFlatten\u001B[0m)   │ (\u001B[38;5;45mNone\u001B[0m, \u001B[38;5;34m100\u001B[0m)       │          \u001B[38;5;34m0\u001B[0m │ dense[\u001B[38;5;34m0\u001B[0m][\u001B[38;5;34m0\u001B[0m]       │\n",
       "├─────────────────────┼───────────────────┼────────────┼───────────────────┤\n",
       "│ softmax (\u001B[38;5;33mSoftmax\u001B[0m)   │ (\u001B[38;5;45mNone\u001B[0m, \u001B[38;5;34m100\u001B[0m)       │          \u001B[38;5;34m0\u001B[0m │ flatten[\u001B[38;5;34m0\u001B[0m][\u001B[38;5;34m0\u001B[0m]     │\n",
       "├─────────────────────┼───────────────────┼────────────┼───────────────────┤\n",
       "│ repeat_vector       │ (\u001B[38;5;45mNone\u001B[0m, \u001B[38;5;34m128\u001B[0m, \u001B[38;5;34m100\u001B[0m)  │          \u001B[38;5;34m0\u001B[0m │ softmax[\u001B[38;5;34m0\u001B[0m][\u001B[38;5;34m0\u001B[0m]     │\n",
       "│ (\u001B[38;5;33mRepeatVector\u001B[0m)      │                   │            │                   │\n",
       "├─────────────────────┼───────────────────┼────────────┼───────────────────┤\n",
       "│ permute (\u001B[38;5;33mPermute\u001B[0m)   │ (\u001B[38;5;45mNone\u001B[0m, \u001B[38;5;34m100\u001B[0m, \u001B[38;5;34m128\u001B[0m)  │          \u001B[38;5;34m0\u001B[0m │ repeat_vector[\u001B[38;5;34m0\u001B[0m]… │\n",
       "├─────────────────────┼───────────────────┼────────────┼───────────────────┤\n",
       "│ multiply (\u001B[38;5;33mMultiply\u001B[0m) │ (\u001B[38;5;45mNone\u001B[0m, \u001B[38;5;34m100\u001B[0m, \u001B[38;5;34m128\u001B[0m)  │          \u001B[38;5;34m0\u001B[0m │ dropout[\u001B[38;5;34m0\u001B[0m][\u001B[38;5;34m0\u001B[0m],    │\n",
       "│                     │                   │            │ permute[\u001B[38;5;34m0\u001B[0m][\u001B[38;5;34m0\u001B[0m]     │\n",
       "├─────────────────────┼───────────────────┼────────────┼───────────────────┤\n",
       "│ lstm_1 (\u001B[38;5;33mLSTM\u001B[0m)       │ (\u001B[38;5;45mNone\u001B[0m, \u001B[38;5;34m64\u001B[0m)        │     \u001B[38;5;34m49,408\u001B[0m │ multiply[\u001B[38;5;34m0\u001B[0m][\u001B[38;5;34m0\u001B[0m]    │\n",
       "├─────────────────────┼───────────────────┼────────────┼───────────────────┤\n",
       "│ dropout_1 (\u001B[38;5;33mDropout\u001B[0m) │ (\u001B[38;5;45mNone\u001B[0m, \u001B[38;5;34m64\u001B[0m)        │          \u001B[38;5;34m0\u001B[0m │ lstm_1[\u001B[38;5;34m0\u001B[0m][\u001B[38;5;34m0\u001B[0m]      │\n",
       "├─────────────────────┼───────────────────┼────────────┼───────────────────┤\n",
       "│ dense_1 (\u001B[38;5;33mDense\u001B[0m)     │ (\u001B[38;5;45mNone\u001B[0m, \u001B[38;5;34m1\u001B[0m)         │         \u001B[38;5;34m65\u001B[0m │ dropout_1[\u001B[38;5;34m0\u001B[0m][\u001B[38;5;34m0\u001B[0m]   │\n",
       "└─────────────────────┴───────────────────┴────────────┴───────────────────┘\n"
      ],
      "text/html": [
       "<pre style=\"white-space:pre;overflow-x:auto;line-height:normal;font-family:Menlo,'DejaVu Sans Mono',consolas,'Courier New',monospace\">┏━━━━━━━━━━━━━━━━━━━━━┳━━━━━━━━━━━━━━━━━━━┳━━━━━━━━━━━━┳━━━━━━━━━━━━━━━━━━━┓\n",
       "┃<span style=\"font-weight: bold\"> Layer (type)        </span>┃<span style=\"font-weight: bold\"> Output Shape      </span>┃<span style=\"font-weight: bold\">    Param # </span>┃<span style=\"font-weight: bold\"> Connected to      </span>┃\n",
       "┡━━━━━━━━━━━━━━━━━━━━━╇━━━━━━━━━━━━━━━━━━━╇━━━━━━━━━━━━╇━━━━━━━━━━━━━━━━━━━┩\n",
       "│ input_layer         │ (<span style=\"color: #00d7ff; text-decoration-color: #00d7ff\">None</span>, <span style=\"color: #00af00; text-decoration-color: #00af00\">100</span>, <span style=\"color: #00af00; text-decoration-color: #00af00\">6</span>)    │          <span style=\"color: #00af00; text-decoration-color: #00af00\">0</span> │ -                 │\n",
       "│ (<span style=\"color: #0087ff; text-decoration-color: #0087ff\">InputLayer</span>)        │                   │            │                   │\n",
       "├─────────────────────┼───────────────────┼────────────┼───────────────────┤\n",
       "│ lstm (<span style=\"color: #0087ff; text-decoration-color: #0087ff\">LSTM</span>)         │ (<span style=\"color: #00d7ff; text-decoration-color: #00d7ff\">None</span>, <span style=\"color: #00af00; text-decoration-color: #00af00\">100</span>, <span style=\"color: #00af00; text-decoration-color: #00af00\">128</span>)  │     <span style=\"color: #00af00; text-decoration-color: #00af00\">69,120</span> │ input_layer[<span style=\"color: #00af00; text-decoration-color: #00af00\">0</span>][<span style=\"color: #00af00; text-decoration-color: #00af00\">0</span>] │\n",
       "├─────────────────────┼───────────────────┼────────────┼───────────────────┤\n",
       "│ dropout (<span style=\"color: #0087ff; text-decoration-color: #0087ff\">Dropout</span>)   │ (<span style=\"color: #00d7ff; text-decoration-color: #00d7ff\">None</span>, <span style=\"color: #00af00; text-decoration-color: #00af00\">100</span>, <span style=\"color: #00af00; text-decoration-color: #00af00\">128</span>)  │          <span style=\"color: #00af00; text-decoration-color: #00af00\">0</span> │ lstm[<span style=\"color: #00af00; text-decoration-color: #00af00\">0</span>][<span style=\"color: #00af00; text-decoration-color: #00af00\">0</span>]        │\n",
       "├─────────────────────┼───────────────────┼────────────┼───────────────────┤\n",
       "│ dense (<span style=\"color: #0087ff; text-decoration-color: #0087ff\">Dense</span>)       │ (<span style=\"color: #00d7ff; text-decoration-color: #00d7ff\">None</span>, <span style=\"color: #00af00; text-decoration-color: #00af00\">100</span>, <span style=\"color: #00af00; text-decoration-color: #00af00\">1</span>)    │        <span style=\"color: #00af00; text-decoration-color: #00af00\">129</span> │ dropout[<span style=\"color: #00af00; text-decoration-color: #00af00\">0</span>][<span style=\"color: #00af00; text-decoration-color: #00af00\">0</span>]     │\n",
       "├─────────────────────┼───────────────────┼────────────┼───────────────────┤\n",
       "│ flatten (<span style=\"color: #0087ff; text-decoration-color: #0087ff\">Flatten</span>)   │ (<span style=\"color: #00d7ff; text-decoration-color: #00d7ff\">None</span>, <span style=\"color: #00af00; text-decoration-color: #00af00\">100</span>)       │          <span style=\"color: #00af00; text-decoration-color: #00af00\">0</span> │ dense[<span style=\"color: #00af00; text-decoration-color: #00af00\">0</span>][<span style=\"color: #00af00; text-decoration-color: #00af00\">0</span>]       │\n",
       "├─────────────────────┼───────────────────┼────────────┼───────────────────┤\n",
       "│ softmax (<span style=\"color: #0087ff; text-decoration-color: #0087ff\">Softmax</span>)   │ (<span style=\"color: #00d7ff; text-decoration-color: #00d7ff\">None</span>, <span style=\"color: #00af00; text-decoration-color: #00af00\">100</span>)       │          <span style=\"color: #00af00; text-decoration-color: #00af00\">0</span> │ flatten[<span style=\"color: #00af00; text-decoration-color: #00af00\">0</span>][<span style=\"color: #00af00; text-decoration-color: #00af00\">0</span>]     │\n",
       "├─────────────────────┼───────────────────┼────────────┼───────────────────┤\n",
       "│ repeat_vector       │ (<span style=\"color: #00d7ff; text-decoration-color: #00d7ff\">None</span>, <span style=\"color: #00af00; text-decoration-color: #00af00\">128</span>, <span style=\"color: #00af00; text-decoration-color: #00af00\">100</span>)  │          <span style=\"color: #00af00; text-decoration-color: #00af00\">0</span> │ softmax[<span style=\"color: #00af00; text-decoration-color: #00af00\">0</span>][<span style=\"color: #00af00; text-decoration-color: #00af00\">0</span>]     │\n",
       "│ (<span style=\"color: #0087ff; text-decoration-color: #0087ff\">RepeatVector</span>)      │                   │            │                   │\n",
       "├─────────────────────┼───────────────────┼────────────┼───────────────────┤\n",
       "│ permute (<span style=\"color: #0087ff; text-decoration-color: #0087ff\">Permute</span>)   │ (<span style=\"color: #00d7ff; text-decoration-color: #00d7ff\">None</span>, <span style=\"color: #00af00; text-decoration-color: #00af00\">100</span>, <span style=\"color: #00af00; text-decoration-color: #00af00\">128</span>)  │          <span style=\"color: #00af00; text-decoration-color: #00af00\">0</span> │ repeat_vector[<span style=\"color: #00af00; text-decoration-color: #00af00\">0</span>]… │\n",
       "├─────────────────────┼───────────────────┼────────────┼───────────────────┤\n",
       "│ multiply (<span style=\"color: #0087ff; text-decoration-color: #0087ff\">Multiply</span>) │ (<span style=\"color: #00d7ff; text-decoration-color: #00d7ff\">None</span>, <span style=\"color: #00af00; text-decoration-color: #00af00\">100</span>, <span style=\"color: #00af00; text-decoration-color: #00af00\">128</span>)  │          <span style=\"color: #00af00; text-decoration-color: #00af00\">0</span> │ dropout[<span style=\"color: #00af00; text-decoration-color: #00af00\">0</span>][<span style=\"color: #00af00; text-decoration-color: #00af00\">0</span>],    │\n",
       "│                     │                   │            │ permute[<span style=\"color: #00af00; text-decoration-color: #00af00\">0</span>][<span style=\"color: #00af00; text-decoration-color: #00af00\">0</span>]     │\n",
       "├─────────────────────┼───────────────────┼────────────┼───────────────────┤\n",
       "│ lstm_1 (<span style=\"color: #0087ff; text-decoration-color: #0087ff\">LSTM</span>)       │ (<span style=\"color: #00d7ff; text-decoration-color: #00d7ff\">None</span>, <span style=\"color: #00af00; text-decoration-color: #00af00\">64</span>)        │     <span style=\"color: #00af00; text-decoration-color: #00af00\">49,408</span> │ multiply[<span style=\"color: #00af00; text-decoration-color: #00af00\">0</span>][<span style=\"color: #00af00; text-decoration-color: #00af00\">0</span>]    │\n",
       "├─────────────────────┼───────────────────┼────────────┼───────────────────┤\n",
       "│ dropout_1 (<span style=\"color: #0087ff; text-decoration-color: #0087ff\">Dropout</span>) │ (<span style=\"color: #00d7ff; text-decoration-color: #00d7ff\">None</span>, <span style=\"color: #00af00; text-decoration-color: #00af00\">64</span>)        │          <span style=\"color: #00af00; text-decoration-color: #00af00\">0</span> │ lstm_1[<span style=\"color: #00af00; text-decoration-color: #00af00\">0</span>][<span style=\"color: #00af00; text-decoration-color: #00af00\">0</span>]      │\n",
       "├─────────────────────┼───────────────────┼────────────┼───────────────────┤\n",
       "│ dense_1 (<span style=\"color: #0087ff; text-decoration-color: #0087ff\">Dense</span>)     │ (<span style=\"color: #00d7ff; text-decoration-color: #00d7ff\">None</span>, <span style=\"color: #00af00; text-decoration-color: #00af00\">1</span>)         │         <span style=\"color: #00af00; text-decoration-color: #00af00\">65</span> │ dropout_1[<span style=\"color: #00af00; text-decoration-color: #00af00\">0</span>][<span style=\"color: #00af00; text-decoration-color: #00af00\">0</span>]   │\n",
       "└─────────────────────┴───────────────────┴────────────┴───────────────────┘\n",
       "</pre>\n"
      ]
     },
     "metadata": {},
     "output_type": "display_data"
    },
    {
     "data": {
      "text/plain": [
       "\u001B[1m Total params: \u001B[0m\u001B[38;5;34m118,722\u001B[0m (463.76 KB)\n"
      ],
      "text/html": [
       "<pre style=\"white-space:pre;overflow-x:auto;line-height:normal;font-family:Menlo,'DejaVu Sans Mono',consolas,'Courier New',monospace\"><span style=\"font-weight: bold\"> Total params: </span><span style=\"color: #00af00; text-decoration-color: #00af00\">118,722</span> (463.76 KB)\n",
       "</pre>\n"
      ]
     },
     "metadata": {},
     "output_type": "display_data"
    },
    {
     "data": {
      "text/plain": [
       "\u001B[1m Trainable params: \u001B[0m\u001B[38;5;34m118,722\u001B[0m (463.76 KB)\n"
      ],
      "text/html": [
       "<pre style=\"white-space:pre;overflow-x:auto;line-height:normal;font-family:Menlo,'DejaVu Sans Mono',consolas,'Courier New',monospace\"><span style=\"font-weight: bold\"> Trainable params: </span><span style=\"color: #00af00; text-decoration-color: #00af00\">118,722</span> (463.76 KB)\n",
       "</pre>\n"
      ]
     },
     "metadata": {},
     "output_type": "display_data"
    },
    {
     "data": {
      "text/plain": [
       "\u001B[1m Non-trainable params: \u001B[0m\u001B[38;5;34m0\u001B[0m (0.00 B)\n"
      ],
      "text/html": [
       "<pre style=\"white-space:pre;overflow-x:auto;line-height:normal;font-family:Menlo,'DejaVu Sans Mono',consolas,'Courier New',monospace\"><span style=\"font-weight: bold\"> Non-trainable params: </span><span style=\"color: #00af00; text-decoration-color: #00af00\">0</span> (0.00 B)\n",
       "</pre>\n"
      ]
     },
     "metadata": {},
     "output_type": "display_data"
    },
    {
     "name": "stdout",
     "output_type": "stream",
     "text": [
      "None\n",
      "Epoch 1/50\n",
      "\u001B[1m1499/1499\u001B[0m \u001B[32m━━━━━━━━━━━━━━━━━━━━\u001B[0m\u001B[37m\u001B[0m \u001B[1m133s\u001B[0m 88ms/step - loss: 917.5999 - mae: 917.5999 - val_loss: 0.2649 - val_mae: 0.2649\n",
      "Epoch 2/50\n",
      "\u001B[1m1499/1499\u001B[0m \u001B[32m━━━━━━━━━━━━━━━━━━━━\u001B[0m\u001B[37m\u001B[0m \u001B[1m120s\u001B[0m 80ms/step - loss: 0.5577 - mae: 0.5577 - val_loss: 0.1029 - val_mae: 0.1029\n",
      "Epoch 3/50\n",
      "\u001B[1m1499/1499\u001B[0m \u001B[32m━━━━━━━━━━━━━━━━━━━━\u001B[0m\u001B[37m\u001B[0m \u001B[1m118s\u001B[0m 78ms/step - loss: 0.1072 - mae: 0.1072 - val_loss: 0.0917 - val_mae: 0.0917\n",
      "Epoch 4/50\n",
      "\u001B[1m1499/1499\u001B[0m \u001B[32m━━━━━━━━━━━━━━━━━━━━\u001B[0m\u001B[37m\u001B[0m \u001B[1m127s\u001B[0m 84ms/step - loss: 0.1009 - mae: 0.1009 - val_loss: 0.0855 - val_mae: 0.0855\n",
      "Epoch 5/50\n",
      "\u001B[1m1499/1499\u001B[0m \u001B[32m━━━━━━━━━━━━━━━━━━━━\u001B[0m\u001B[37m\u001B[0m \u001B[1m132s\u001B[0m 88ms/step - loss: 0.0979 - mae: 0.0979 - val_loss: 0.0862 - val_mae: 0.0862\n",
      "Epoch 6/50\n",
      "\u001B[1m1499/1499\u001B[0m \u001B[32m━━━━━━━━━━━━━━━━━━━━\u001B[0m\u001B[37m\u001B[0m \u001B[1m134s\u001B[0m 89ms/step - loss: 0.0972 - mae: 0.0972 - val_loss: 0.0871 - val_mae: 0.0871\n",
      "Epoch 7/50\n",
      "\u001B[1m1499/1499\u001B[0m \u001B[32m━━━━━━━━━━━━━━━━━━━━\u001B[0m\u001B[37m\u001B[0m \u001B[1m137s\u001B[0m 91ms/step - loss: 1377456896.0000 - mae: 1377456896.0000 - val_loss: 0.2587 - val_mae: 0.2587\n",
      "Epoch 8/50\n",
      "\u001B[1m1499/1499\u001B[0m \u001B[32m━━━━━━━━━━━━━━━━━━━━\u001B[0m\u001B[37m\u001B[0m \u001B[1m142s\u001B[0m 95ms/step - loss: 0.2494 - mae: 0.2494 - val_loss: 0.1570 - val_mae: 0.1570\n",
      "Epoch 9/50\n",
      "\u001B[1m1499/1499\u001B[0m \u001B[32m━━━━━━━━━━━━━━━━━━━━\u001B[0m\u001B[37m\u001B[0m \u001B[1m140s\u001B[0m 93ms/step - loss: 0.1148 - mae: 0.1148 - val_loss: 0.0884 - val_mae: 0.0884\n",
      "Epoch 10/50\n",
      "\u001B[1m1499/1499\u001B[0m \u001B[32m━━━━━━━━━━━━━━━━━━━━\u001B[0m\u001B[37m\u001B[0m \u001B[1m143s\u001B[0m 95ms/step - loss: 0.0989 - mae: 0.0989 - val_loss: 0.0812 - val_mae: 0.0812\n",
      "Epoch 11/50\n",
      "\u001B[1m1499/1499\u001B[0m \u001B[32m━━━━━━━━━━━━━━━━━━━━\u001B[0m\u001B[37m\u001B[0m \u001B[1m127s\u001B[0m 85ms/step - loss: 0.0989 - mae: 0.0989 - val_loss: 0.0872 - val_mae: 0.0872\n",
      "Epoch 12/50\n",
      "\u001B[1m1499/1499\u001B[0m \u001B[32m━━━━━━━━━━━━━━━━━━━━\u001B[0m\u001B[37m\u001B[0m \u001B[1m129s\u001B[0m 86ms/step - loss: 0.0947 - mae: 0.0947 - val_loss: 0.0819 - val_mae: 0.0819\n",
      "Epoch 13/50\n",
      "\u001B[1m1499/1499\u001B[0m \u001B[32m━━━━━━━━━━━━━━━━━━━━\u001B[0m\u001B[37m\u001B[0m \u001B[1m132s\u001B[0m 88ms/step - loss: 0.0933 - mae: 0.0933 - val_loss: 0.0894 - val_mae: 0.0894\n",
      "Epoch 14/50\n",
      "\u001B[1m1499/1499\u001B[0m \u001B[32m━━━━━━━━━━━━━━━━━━━━\u001B[0m\u001B[37m\u001B[0m \u001B[1m140s\u001B[0m 93ms/step - loss: 0.0951 - mae: 0.0951 - val_loss: 0.0949 - val_mae: 0.0949\n",
      "Epoch 15/50\n",
      "\u001B[1m1499/1499\u001B[0m \u001B[32m━━━━━━━━━━━━━━━━━━━━\u001B[0m\u001B[37m\u001B[0m \u001B[1m130s\u001B[0m 87ms/step - loss: 0.1007 - mae: 0.1007 - val_loss: 0.0980 - val_mae: 0.0980\n",
      "Epoch 16/50\n",
      "\u001B[1m1499/1499\u001B[0m \u001B[32m━━━━━━━━━━━━━━━━━━━━\u001B[0m\u001B[37m\u001B[0m \u001B[1m127s\u001B[0m 85ms/step - loss: 0.0968 - mae: 0.0968 - val_loss: 0.0793 - val_mae: 0.0793\n",
      "Epoch 17/50\n",
      "\u001B[1m1499/1499\u001B[0m \u001B[32m━━━━━━━━━━━━━━━━━━━━\u001B[0m\u001B[37m\u001B[0m \u001B[1m125s\u001B[0m 84ms/step - loss: 0.0962 - mae: 0.0962 - val_loss: 0.0816 - val_mae: 0.0816\n",
      "Epoch 18/50\n",
      "\u001B[1m1499/1499\u001B[0m \u001B[32m━━━━━━━━━━━━━━━━━━━━\u001B[0m\u001B[37m\u001B[0m \u001B[1m139s\u001B[0m 93ms/step - loss: 0.0939 - mae: 0.0939 - val_loss: 0.0839 - val_mae: 0.0839\n",
      "Epoch 19/50\n",
      "\u001B[1m1499/1499\u001B[0m \u001B[32m━━━━━━━━━━━━━━━━━━━━\u001B[0m\u001B[37m\u001B[0m \u001B[1m153s\u001B[0m 102ms/step - loss: 0.0950 - mae: 0.0950 - val_loss: 0.0772 - val_mae: 0.0772\n",
      "Epoch 20/50\n",
      "\u001B[1m1499/1499\u001B[0m \u001B[32m━━━━━━━━━━━━━━━━━━━━\u001B[0m\u001B[37m\u001B[0m \u001B[1m155s\u001B[0m 103ms/step - loss: 0.0920 - mae: 0.0920 - val_loss: 0.0816 - val_mae: 0.0816\n",
      "Epoch 21/50\n",
      "\u001B[1m1499/1499\u001B[0m \u001B[32m━━━━━━━━━━━━━━━━━━━━\u001B[0m\u001B[37m\u001B[0m \u001B[1m143s\u001B[0m 95ms/step - loss: 0.0905 - mae: 0.0905 - val_loss: 0.0843 - val_mae: 0.0843\n",
      "Epoch 22/50\n",
      "\u001B[1m1499/1499\u001B[0m \u001B[32m━━━━━━━━━━━━━━━━━━━━\u001B[0m\u001B[37m\u001B[0m \u001B[1m138s\u001B[0m 92ms/step - loss: 0.0940 - mae: 0.0940 - val_loss: 0.0896 - val_mae: 0.0896\n",
      "Epoch 23/50\n",
      "\u001B[1m1499/1499\u001B[0m \u001B[32m━━━━━━━━━━━━━━━━━━━━\u001B[0m\u001B[37m\u001B[0m \u001B[1m123s\u001B[0m 82ms/step - loss: 0.0933 - mae: 0.0933 - val_loss: 0.0895 - val_mae: 0.0895\n",
      "Epoch 24/50\n",
      "\u001B[1m1499/1499\u001B[0m \u001B[32m━━━━━━━━━━━━━━━━━━━━\u001B[0m\u001B[37m\u001B[0m \u001B[1m137s\u001B[0m 91ms/step - loss: 0.1001 - mae: 0.1001 - val_loss: 0.0828 - val_mae: 0.0828\n",
      "Epoch 25/50\n",
      "\u001B[1m1499/1499\u001B[0m \u001B[32m━━━━━━━━━━━━━━━━━━━━\u001B[0m\u001B[37m\u001B[0m \u001B[1m139s\u001B[0m 93ms/step - loss: 0.0960 - mae: 0.0960 - val_loss: 0.0797 - val_mae: 0.0797\n",
      "Epoch 26/50\n",
      "\u001B[1m1499/1499\u001B[0m \u001B[32m━━━━━━━━━━━━━━━━━━━━\u001B[0m\u001B[37m\u001B[0m \u001B[1m156s\u001B[0m 104ms/step - loss: 0.0924 - mae: 0.0924 - val_loss: 0.0792 - val_mae: 0.0792\n",
      "Epoch 27/50\n",
      "\u001B[1m1499/1499\u001B[0m \u001B[32m━━━━━━━━━━━━━━━━━━━━\u001B[0m\u001B[37m\u001B[0m \u001B[1m137s\u001B[0m 91ms/step - loss: 0.0924 - mae: 0.0924 - val_loss: 0.0834 - val_mae: 0.0834\n",
      "Epoch 28/50\n",
      "\u001B[1m1499/1499\u001B[0m \u001B[32m━━━━━━━━━━━━━━━━━━━━\u001B[0m\u001B[37m\u001B[0m \u001B[1m149s\u001B[0m 99ms/step - loss: 8.4059 - mae: 8.4059 - val_loss: 0.1042 - val_mae: 0.1042\n",
      "Epoch 29/50\n",
      "\u001B[1m1499/1499\u001B[0m \u001B[32m━━━━━━━━━━━━━━━━━━━━\u001B[0m\u001B[37m\u001B[0m \u001B[1m150s\u001B[0m 100ms/step - loss: 0.2124 - mae: 0.2124 - val_loss: 0.0828 - val_mae: 0.0828\n",
      "Epoch 30/50\n",
      "\u001B[1m1499/1499\u001B[0m \u001B[32m━━━━━━━━━━━━━━━━━━━━\u001B[0m\u001B[37m\u001B[0m \u001B[1m147s\u001B[0m 98ms/step - loss: 0.0969 - mae: 0.0969 - val_loss: 0.0841 - val_mae: 0.0841\n",
      "Epoch 31/50\n",
      "\u001B[1m1499/1499\u001B[0m \u001B[32m━━━━━━━━━━━━━━━━━━━━\u001B[0m\u001B[37m\u001B[0m \u001B[1m139s\u001B[0m 92ms/step - loss: 0.1185 - mae: 0.1185 - val_loss: 0.0875 - val_mae: 0.0875\n",
      "Epoch 32/50\n",
      "\u001B[1m1499/1499\u001B[0m \u001B[32m━━━━━━━━━━━━━━━━━━━━\u001B[0m\u001B[37m\u001B[0m \u001B[1m135s\u001B[0m 90ms/step - loss: 0.0973 - mae: 0.0973 - val_loss: 0.0956 - val_mae: 0.0956\n",
      "Epoch 33/50\n",
      "\u001B[1m1499/1499\u001B[0m \u001B[32m━━━━━━━━━━━━━━━━━━━━\u001B[0m\u001B[37m\u001B[0m \u001B[1m144s\u001B[0m 96ms/step - loss: 0.0953 - mae: 0.0953 - val_loss: 0.0842 - val_mae: 0.0842\n",
      "Epoch 34/50\n",
      "\u001B[1m1499/1499\u001B[0m \u001B[32m━━━━━━━━━━━━━━━━━━━━\u001B[0m\u001B[37m\u001B[0m \u001B[1m162s\u001B[0m 108ms/step - loss: 0.0963 - mae: 0.0963 - val_loss: 0.0829 - val_mae: 0.0829\n",
      "Epoch 35/50\n",
      "\u001B[1m1499/1499\u001B[0m \u001B[32m━━━━━━━━━━━━━━━━━━━━\u001B[0m\u001B[37m\u001B[0m \u001B[1m147s\u001B[0m 98ms/step - loss: 0.0927 - mae: 0.0927 - val_loss: 0.0896 - val_mae: 0.0896\n",
      "Epoch 36/50\n",
      "\u001B[1m1499/1499\u001B[0m \u001B[32m━━━━━━━━━━━━━━━━━━━━\u001B[0m\u001B[37m\u001B[0m \u001B[1m137s\u001B[0m 92ms/step - loss: 0.0926 - mae: 0.0926 - val_loss: 0.0809 - val_mae: 0.0809\n",
      "Epoch 37/50\n",
      "\u001B[1m1499/1499\u001B[0m \u001B[32m━━━━━━━━━━━━━━━━━━━━\u001B[0m\u001B[37m\u001B[0m \u001B[1m142s\u001B[0m 95ms/step - loss: 0.0921 - mae: 0.0921 - val_loss: 0.0868 - val_mae: 0.0868\n",
      "Epoch 38/50\n",
      "\u001B[1m1499/1499\u001B[0m \u001B[32m━━━━━━━━━━━━━━━━━━━━\u001B[0m\u001B[37m\u001B[0m \u001B[1m145s\u001B[0m 97ms/step - loss: 0.0928 - mae: 0.0928 - val_loss: 0.0865 - val_mae: 0.0865\n",
      "Epoch 39/50\n",
      "\u001B[1m1499/1499\u001B[0m \u001B[32m━━━━━━━━━━━━━━━━━━━━\u001B[0m\u001B[37m\u001B[0m \u001B[1m149s\u001B[0m 99ms/step - loss: 0.0928 - mae: 0.0928 - val_loss: 0.0866 - val_mae: 0.0866\n",
      "Epoch 40/50\n",
      "\u001B[1m1499/1499\u001B[0m \u001B[32m━━━━━━━━━━━━━━━━━━━━\u001B[0m\u001B[37m\u001B[0m \u001B[1m147s\u001B[0m 98ms/step - loss: 0.0907 - mae: 0.0907 - val_loss: 0.0808 - val_mae: 0.0808\n",
      "Epoch 41/50\n",
      "\u001B[1m1499/1499\u001B[0m \u001B[32m━━━━━━━━━━━━━━━━━━━━\u001B[0m\u001B[37m\u001B[0m \u001B[1m159s\u001B[0m 106ms/step - loss: 0.0917 - mae: 0.0917 - val_loss: 0.0834 - val_mae: 0.0834\n",
      "Epoch 42/50\n",
      "\u001B[1m1499/1499\u001B[0m \u001B[32m━━━━━━━━━━━━━━━━━━━━\u001B[0m\u001B[37m\u001B[0m \u001B[1m141s\u001B[0m 94ms/step - loss: 0.0925 - mae: 0.0925 - val_loss: 0.0872 - val_mae: 0.0872\n",
      "Epoch 43/50\n",
      "\u001B[1m1499/1499\u001B[0m \u001B[32m━━━━━━━━━━━━━━━━━━━━\u001B[0m\u001B[37m\u001B[0m \u001B[1m145s\u001B[0m 97ms/step - loss: 0.0956 - mae: 0.0956 - val_loss: 0.0870 - val_mae: 0.0870\n",
      "Epoch 44/50\n",
      "\u001B[1m1499/1499\u001B[0m \u001B[32m━━━━━━━━━━━━━━━━━━━━\u001B[0m\u001B[37m\u001B[0m \u001B[1m140s\u001B[0m 93ms/step - loss: 1350.5695 - mae: 1350.5695 - val_loss: 0.0863 - val_mae: 0.0863\n",
      "Epoch 45/50\n",
      "\u001B[1m1499/1499\u001B[0m \u001B[32m━━━━━━━━━━━━━━━━━━━━\u001B[0m\u001B[37m\u001B[0m \u001B[1m150s\u001B[0m 100ms/step - loss: 0.0914 - mae: 0.0914 - val_loss: 0.0862 - val_mae: 0.0862\n",
      "Epoch 46/50\n",
      "\u001B[1m1499/1499\u001B[0m \u001B[32m━━━━━━━━━━━━━━━━━━━━\u001B[0m\u001B[37m\u001B[0m \u001B[1m154s\u001B[0m 103ms/step - loss: 0.0940 - mae: 0.0940 - val_loss: 0.0838 - val_mae: 0.0838\n",
      "Epoch 47/50\n",
      "\u001B[1m1499/1499\u001B[0m \u001B[32m━━━━━━━━━━━━━━━━━━━━\u001B[0m\u001B[37m\u001B[0m \u001B[1m149s\u001B[0m 99ms/step - loss: 0.0912 - mae: 0.0912 - val_loss: 0.0844 - val_mae: 0.0844\n",
      "Epoch 48/50\n",
      "\u001B[1m1499/1499\u001B[0m \u001B[32m━━━━━━━━━━━━━━━━━━━━\u001B[0m\u001B[37m\u001B[0m \u001B[1m137s\u001B[0m 92ms/step - loss: 0.0889 - mae: 0.0889 - val_loss: 0.0769 - val_mae: 0.0769\n",
      "Epoch 49/50\n",
      "\u001B[1m1499/1499\u001B[0m \u001B[32m━━━━━━━━━━━━━━━━━━━━\u001B[0m\u001B[37m\u001B[0m \u001B[1m115s\u001B[0m 77ms/step - loss: 0.0906 - mae: 0.0906 - val_loss: 0.0884 - val_mae: 0.0884\n",
      "Epoch 50/50\n",
      "\u001B[1m1499/1499\u001B[0m \u001B[32m━━━━━━━━━━━━━━━━━━━━\u001B[0m\u001B[37m\u001B[0m \u001B[1m123s\u001B[0m 82ms/step - loss: 0.0917 - mae: 0.0917 - val_loss: 0.0822 - val_mae: 0.0822\n"
     ]
    },
    {
     "data": {
      "text/plain": [
       "<keras.src.callbacks.history.History at 0x301546c50>"
      ]
     },
     "execution_count": 3,
     "metadata": {},
     "output_type": "execute_result"
    }
   ],
   "execution_count": 3
  },
  {
   "metadata": {
    "ExecuteTime": {
     "end_time": "2024-12-12T04:04:50.404261Z",
     "start_time": "2024-12-12T04:04:37.021004Z"
    }
   },
   "cell_type": "code",
   "source": [
    "y_pred = model.predict(X_test)\n",
    "\n",
    "print(\"Shape of predictions:\", y_pred.shape)"
   ],
   "id": "71fe696f5e1a7f0d",
   "outputs": [
    {
     "name": "stdout",
     "output_type": "stream",
     "text": [
      "\u001B[1m469/469\u001B[0m \u001B[32m━━━━━━━━━━━━━━━━━━━━\u001B[0m\u001B[37m\u001B[0m \u001B[1m13s\u001B[0m 28ms/step\n",
      "Shape of predictions: (14982, 1)\n"
     ]
    }
   ],
   "execution_count": 4
  },
  {
   "metadata": {
    "ExecuteTime": {
     "end_time": "2024-12-12T04:04:50.421985Z",
     "start_time": "2024-12-12T04:04:50.414458Z"
    }
   },
   "cell_type": "code",
   "source": [
    "# Chuyển đổi giá trị dự đoán và thực tế về thang đo gốc\n",
    "y_pred_original = scaler.inverse_transform(np.concatenate((y_pred, np.zeros((y_pred.shape[0], data.shape[1] - 1))), axis=1))[:, 0]\n",
    "y_test_original = scaler.inverse_transform(np.concatenate((y_test.reshape(-1, 1), np.zeros((y_test.shape[0], data.shape[1] - 1))), axis=1))[:, 0]"
   ],
   "id": "65db4aec1fa74d58",
   "outputs": [],
   "execution_count": 5
  },
  {
   "metadata": {
    "ExecuteTime": {
     "end_time": "2024-12-12T04:04:50.444625Z",
     "start_time": "2024-12-12T04:04:50.438198Z"
    }
   },
   "cell_type": "code",
   "source": [
    "mse_original = mean_squared_error(y_test_original, y_pred_original)\n",
    "rmse_original = np.sqrt(mse_original)\n",
    "mae_original = mean_absolute_error(y_test_original, y_pred_original)\n",
    "\n",
    "mse = mean_squared_error(y_test, y_pred)\n",
    "rmse = np.sqrt(mse)\n",
    "mae = mean_absolute_error(y_test, y_pred)\n",
    "\n",
    "print(f\"MSE Original: {mse_original}\")\n",
    "print(f\"RMSE Original: {rmse_original}\")\n",
    "print(f\"MAE Original: {mae_original}\")\n",
    "\n",
    "print(f\"MSE: {mse}\")\n",
    "print(f\"RMSE: {rmse}\")\n",
    "print(f\"MAE: {mae}\")"
   ],
   "id": "aa9d0cbb36abcadf",
   "outputs": [
    {
     "name": "stdout",
     "output_type": "stream",
     "text": [
      "MSE Original: 51588398.54030566\n",
      "RMSE Original: 7182.506424661635\n",
      "MAE Original: 3122.3120769741563\n",
      "MSE: 0.03829879101279714\n",
      "RMSE: 0.19570076906542072\n",
      "MAE: 0.08507320962889073\n"
     ]
    }
   ],
   "execution_count": 6
  },
  {
   "metadata": {
    "ExecuteTime": {
     "end_time": "2024-12-12T04:04:50.956657Z",
     "start_time": "2024-12-12T04:04:50.456880Z"
    }
   },
   "cell_type": "code",
   "source": [
    "# Giả sử time_index_test chứa thời gian của X_test\n",
    "time_index_test = pd.date_range(start=\"2024-12-06\", periods=len(X_test), freq=\"T\")\n",
    "\n",
    "# Hàm nhận vào ngày giờ và lấy record tương ứng trong X_test\n",
    "def get_test_record_by_datetime(input_datetime):\n",
    "    # Tính sự khác biệt giữa các thời điểm trong time_index_test và input_datetime\n",
    "    time_diff = (time_index_test - input_datetime).total_seconds()  # Chuyển sự khác biệt thành giây\n",
    "    \n",
    "    # Tìm chỉ số của thời gian gần nhất\n",
    "    closest_time_index = np.argmin(np.abs(time_diff))  # Tìm chỉ số có sự khác biệt nhỏ nhất\n",
    "    return closest_time_index\n",
    "\n",
    "# Bước 1: Nhập vào thời gian muốn kiểm tra\n",
    "input_datetime = pd.Timestamp('2024-12-06 00:10')  # Ví dụ thời gian\n",
    "\n",
    "# Lấy index tương ứng với thời gian nhập vào\n",
    "index_for_input = get_test_record_by_datetime(input_datetime)\n",
    "\n",
    "# Lấy X_current tương ứng với chỉ số này\n",
    "X_current = X_test[index_for_input]\n",
    "\n",
    "# Khởi tạo danh sách kết quả\n",
    "future_predictions = []\n",
    "actual_values = []  # Danh sách để lưu các giá trị thực tế\n",
    "errors = []\n",
    "\n",
    "# Dự đoán liên tục trong 10 phút\n",
    "for i in range(10):\n",
    "    # Dự đoán giá trị tiếp theo\n",
    "    next_pred = model.predict(X_current.reshape(1, X_current.shape[0], X_current.shape[1]), verbose=0)[0, 0]  # Dự đoán với mẫu X_current\n",
    "\n",
    "    # Lấy giá trị thực tế từ y_test\n",
    "    actual_value = y_test[index_for_input + i]\n",
    "\n",
    "    # Tính sai số tuyệt đối giữa dự đoán và giá trị thực tế\n",
    "    error = np.abs(next_pred - actual_value)\n",
    "\n",
    "    # Thêm giá trị dự đoán, giá trị thực tế và sai số vào danh sách\n",
    "    future_predictions.append(next_pred)\n",
    "    actual_values.append(actual_value)\n",
    "    errors.append(error)\n",
    "\n",
    "    # Cập nhật đầu vào cho lần dự đoán tiếp theo\n",
    "    X_current = np.roll(X_current, -1, axis=0)  # Lăn dữ liệu về bên trái (giữ lại 99 bước trước đó)\n",
    "    X_current[-1] = np.array([next_pred] * X_current.shape[1])  # Thay thế giá trị cuối cùng bằng dự đoán mới\n",
    "\n",
    "# Chuyển đổi giá trị thật (Actual) về thang đo gốc\n",
    "actual_values_array = np.array(actual_values).reshape(-1, 1)\n",
    "actual_values_extended = np.zeros((len(actual_values), X_train.shape[2]))\n",
    "actual_values_extended[:, 0] = actual_values_array[:, 0]\n",
    "\n",
    "actual_values_original = scaler.inverse_transform(actual_values_extended)[:, 0]\n",
    "\n",
    "# Chuyển đổi giá trị dự đoán (Predicted) về thang đo gốc\n",
    "future_predictions_array = np.array(future_predictions).reshape(-1, 1)\n",
    "future_predictions_extended = np.zeros((len(future_predictions), X_train.shape[2]))\n",
    "future_predictions_extended[:, 0] = future_predictions_array[:, 0]\n",
    "\n",
    "future_predictions_original = scaler.inverse_transform(future_predictions_extended)[:, 0]\n",
    "\n",
    "# Chuyển đổi sai số (Error) về thang đo gốc\n",
    "errors_original = np.abs(actual_values_original - future_predictions_original)\n",
    "\n",
    "# Tạo DataFrame để hiển thị các giá trị dự đoán, giá trị thực tế và sai số\n",
    "future_df = pd.DataFrame({\n",
    "    \"Thời gian\": time_index_test[index_for_input:index_for_input+10],\n",
    "    \"Dự đoán (Predicted)\": future_predictions_original,\n",
    "    \"Giá trị thật (Actual)\": actual_values_original,\n",
    "    \"Sai số (Error)\": errors_original\n",
    "})\n",
    "\n",
    "# Hiển thị kết quả dự đoán, giá trị thật và sai số\n",
    "print(future_df.to_string(index=False))\n",
    "\n",
    "# Vẽ biểu đồ kết quả\n",
    "plt.figure(figsize=(10, 6))\n",
    "plt.plot(future_df[\"Thời gian\"], future_df[\"Dự đoán (Predicted)\"], marker='o', label=\"Dự đoán\", color='b')\n",
    "plt.plot(future_df[\"Thời gian\"], future_df[\"Giá trị thật (Actual)\"], marker='x', label=\"Giá trị thật\", color='g')\n",
    "plt.xlabel('Thời gian')\n",
    "plt.ylabel('Giá trị')\n",
    "plt.title('Dự đoán và giá trị thật trong 10 phút tiếp theo')\n",
    "plt.legend()\n",
    "plt.xticks(rotation=45)\n",
    "plt.grid(True)\n",
    "plt.tight_layout()\n",
    "plt.show()\n"
   ],
   "id": "78868655c40adb0f",
   "outputs": [
    {
     "name": "stdout",
     "output_type": "stream",
     "text": [
      "          Thời gian  Dự đoán (Predicted)  Giá trị thật (Actual)  Sai số (Error)\n",
      "2024-12-06 00:10:00         70802.607483           68963.703125     1838.904358\n",
      "2024-12-06 00:11:00         70824.459202           96477.439955    25652.980753\n",
      "2024-12-06 00:12:00         70891.070959           69506.289062     1384.781897\n",
      "2024-12-06 00:13:00         71010.499606           68960.210938     2050.288668\n",
      "2024-12-06 00:14:00         71160.729354           96477.439955    25316.710601\n",
      "2024-12-06 00:15:00         71344.328420           96477.439955    25133.111535\n",
      "2024-12-06 00:16:00         71568.957704           96477.439955    24908.482251\n",
      "2024-12-06 00:17:00         71820.594829           68529.968750     3290.626079\n",
      "2024-12-06 00:18:00         72093.121139           96477.439955    24384.318816\n",
      "2024-12-06 00:19:00         72366.979684           96477.439955    24110.460272\n"
     ]
    },
    {
     "data": {
      "text/plain": [
       "<Figure size 1000x600 with 1 Axes>"
      ],
      "image/png": "[encoded data removed]"
     },
     "metadata": {},
     "output_type": "display_data"
    }
   ],
   "execution_count": 7
  }
 ],
 "metadata": {
  "kernelspec": {
   "display_name": "Python 3",
   "language": "python",
   "name": "python3"
  },
  "language_info": {
   "codemirror_mode": {
    "name": "ipython",
    "version": 2
   },
   "file_extension": ".py",
   "mimetype": "text/x-python",
   "name": "python",
   "nbconvert_exporter": "python",
   "pygments_lexer": "ipython2",
   "version": "2.7.6"
  }
 },
 "nbformat": 4,
 "nbformat_minor": 5
}
